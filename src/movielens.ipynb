{
  "cells": [
    {
      "cell_type": "markdown",
      "metadata": {
        "id": "vPwxaDqNNkCA"
      },
      "source": [
        "Сравнение различных моделей рекомендательных систем на датасете movilens"
      ]
    },
    {
      "cell_type": "markdown",
      "metadata": {
        "id": "rG3GZGvnBAXN"
      },
      "source": [
        "Кузьмина Н.В. J4240"
      ]
    },
    {
      "cell_type": "markdown",
      "metadata": {
        "id": "-8P4Z-vbQ-6W"
      },
      "source": [
        "1. Скачать набор данных о рейтингах кинофильмов по ссылке\n",
        "https://grouplens.org/datasets/movielens/latest/ (файл ml-latest-small.zip),\n",
        "разделить данные случайным образом на тренировочный и тестовый наборы\n",
        "данных с соотношением 7/3 с помощью языка python."
      ]
    },
    {
      "cell_type": "code",
      "execution_count": null,
      "metadata": {
        "ExecuteTime": {
          "end_time": "2024-10-06T09:23:24.842617Z",
          "start_time": "2024-10-06T09:23:24.838823Z"
        },
        "id": "sgs1mfomNcBV"
      },
      "outputs": [],
      "source": [
        "import pandas as pd\n",
        "import numpy as np\n",
        "from sklearn.model_selection import train_test_split\n",
        "from sklearn.metrics.pairwise import cosine_similarity\n",
        "from sklearn.metrics import mean_squared_error\n",
        "from math import sqrt\n",
        "from sklearn.cluster import KMeans"
      ]
    },
    {
      "cell_type": "code",
      "execution_count": null,
      "metadata": {
        "ExecuteTime": {
          "end_time": "2024-10-04T16:16:43.762093Z",
          "start_time": "2024-10-04T16:16:43.683851Z"
        },
        "id": "mmZkmfF_RDXZ"
      },
      "outputs": [],
      "source": [
        "tags = pd.read_csv('/content/drive/MyDrive/Рекомендательные системы/ml-latest-small/tags.csv')\n",
        "ratings = pd.read_csv('/content/drive/MyDrive/Рекомендательные системы/ml-latest-small/ratings.csv')\n",
        "links = pd.read_csv('/content/drive/MyDrive/Рекомендательные системы/ml-latest-small/links.csv')\n",
        "movies = pd.read_csv('/content/drive/MyDrive/Рекомендательные системы/ml-latest-small/movies.csv')"
      ]
    },
    {
      "cell_type": "code",
      "execution_count": null,
      "metadata": {
        "ExecuteTime": {
          "end_time": "2024-10-04T14:10:26.307441Z",
          "start_time": "2024-10-04T14:10:26.289395Z"
        },
        "id": "dwX34PEWVzG_"
      },
      "outputs": [],
      "source": [
        "train_data, test_data = train_test_split(ratings, test_size=0.3, random_state=42)"
      ]
    },
    {
      "cell_type": "code",
      "execution_count": null,
      "metadata": {
        "ExecuteTime": {
          "end_time": "2024-10-04T14:10:26.558043Z",
          "start_time": "2024-10-04T14:10:26.553559Z"
        },
        "colab": {
          "base_uri": "https://localhost:8080/"
        },
        "id": "PaxYC2tzV4xv",
        "outputId": "3d585e92-e407-426f-c2ff-8cdf9cf9f251"
      },
      "outputs": [
        {
          "name": "stdout",
          "output_type": "stream",
          "text": [
            "Размер тренировочного набора: 70585\n",
            "Размер тестового набора: 30251\n"
          ]
        }
      ],
      "source": [
        "print(f\"Размер тренировочного набора: {len(train_data)}\")\n",
        "print(f\"Размер тестового набора: {len(test_data)}\")"
      ]
    },
    {
      "cell_type": "markdown",
      "metadata": {
        "id": "xLlW_e8t2dT4"
      },
      "source": [
        "2. Реализовать метрики новизны и разнообразия."
      ]
    },
    {
      "cell_type": "markdown",
      "metadata": {
        "id": "tJ1KfX3O2Ea6"
      },
      "source": [
        "Функции расчета всех метрик:"
      ]
    },
    {
      "cell_type": "markdown",
      "metadata": {
        "id": "twckaL7G2Huz"
      },
      "source": [
        "\n",
        "\n",
        "*   MAP@K\n",
        "\n"
      ]
    },
    {
      "cell_type": "code",
      "execution_count": null,
      "metadata": {
        "ExecuteTime": {
          "end_time": "2024-10-04T14:10:32.826956Z",
          "start_time": "2024-10-04T14:10:32.821436Z"
        },
        "id": "H8jdQ7Li2DgI"
      },
      "outputs": [],
      "source": [
        "def apk(actual, predicted, k):\n",
        "    if len(predicted) > k:\n",
        "        predicted = predicted[:k]\n",
        "    score = 0.0\n",
        "    num_hits = 0.0\n",
        "    for i, p in enumerate(predicted):\n",
        "        if p in actual:\n",
        "            num_hits += 1.0\n",
        "            score += num_hits / (i + 1.0)\n",
        "    if not actual:\n",
        "        return 0.0\n",
        "    return score / min(len(actual), k)\n",
        "\n",
        "def mapk(actual_list, predicted_list, k):\n",
        "    return np.mean([apk(a, p, k) for a, p in zip(actual_list, predicted_list)])"
      ]
    },
    {
      "cell_type": "markdown",
      "metadata": {
        "id": "kjfbfdDe2M7G"
      },
      "source": [
        "- NDCG@K"
      ]
    },
    {
      "cell_type": "code",
      "execution_count": null,
      "metadata": {
        "ExecuteTime": {
          "end_time": "2024-10-04T14:10:34.193050Z",
          "start_time": "2024-10-04T14:10:34.186073Z"
        },
        "id": "U0YcRyrO2bM1"
      },
      "outputs": [],
      "source": [
        "def dcg_at_k(relevance_scores, k):\n",
        "    relevance_scores = np.asfarray(relevance_scores)[:k]\n",
        "    if relevance_scores.size:\n",
        "        return np.sum(relevance_scores / np.log2(np.arange(2, relevance_scores.size + 2)))\n",
        "    return 0.0\n",
        "\n",
        "def ndcg_at_k(actual, predicted, k):\n",
        "    if len(predicted) > k:\n",
        "        predicted = predicted[:k]\n",
        "    relevance_scores = [1 if p in actual else 0 for p in predicted]\n",
        "    dcg = dcg_at_k(relevance_scores, k)\n",
        "    ideal_relevance_scores = [1] * min(len(actual), k)\n",
        "    idcg = dcg_at_k(ideal_relevance_scores, k)\n",
        "    if idcg == 0.0:\n",
        "        return 0.0\n",
        "    return dcg / idcg\n",
        "\n",
        "def mean_ndcg(actual_list, predicted_list, k=10):\n",
        "    return np.mean([ndcg_at_k(a, p, k) for a, p in zip(actual_list, predicted_list)])"
      ]
    },
    {
      "cell_type": "code",
      "execution_count": null,
      "metadata": {
        "ExecuteTime": {
          "end_time": "2024-10-04T14:10:34.820613Z",
          "start_time": "2024-10-04T14:10:34.815296Z"
        },
        "id": "AEXueDoJ1hCi"
      },
      "outputs": [],
      "source": [
        "k_values = [1, 5, 10, 20, 30, 40, 50]\n",
        "\n",
        "def compute_metrics_at_k(k_values, actual_list, recommendations_list):\n",
        "    map_scores = {}\n",
        "    ndcg_scores = {}\n",
        "\n",
        "    for k in k_values:\n",
        "        mapk_score = mapk(actual_list, recommendations_list, k)\n",
        "        mean_ndcg_score = mean_ndcg(actual_list, recommendations_list, k)\n",
        "\n",
        "        map_scores[k] = mapk_score\n",
        "        ndcg_scores[k] = mean_ndcg_score\n",
        "\n",
        "    metrics_df = pd.DataFrame({\n",
        "        'K': k_values,\n",
        "        'MAP@K': [map_scores[k] for k in k_values],\n",
        "        'NDCG@K': [ndcg_scores[k] for k in k_values]\n",
        "    })\n",
        "\n",
        "    return metrics_df"
      ]
    },
    {
      "cell_type": "markdown",
      "metadata": {
        "id": "XAYqL6P72Oxe"
      },
      "source": [
        "- Функция для расчета Новизны"
      ]
    },
    {
      "cell_type": "code",
      "execution_count": null,
      "metadata": {
        "ExecuteTime": {
          "end_time": "2024-10-06T11:45:14.749352Z",
          "start_time": "2024-10-06T11:45:14.744773Z"
        },
        "id": "EVdU8bcD2ehw"
      },
      "outputs": [],
      "source": [
        "def calculate_novelty(recommendations, item_popularity, total_users):\n",
        "    novelty_scores = []\n",
        "    for recs in recommendations:\n",
        "        if not recs:\n",
        "            continue\n",
        "        user_novelty = 0.0\n",
        "        for item in recs:\n",
        "            pop = item_popularity.get(item, 0)\n",
        "            if pop > 0:\n",
        "                user_novelty += np.log2(total_users / pop)\n",
        "            else:\n",
        "                user_novelty += np.log2(total_users)\n",
        "\n",
        "        novelty_scores.append(user_novelty / len(recs))\n",
        "    return np.mean(novelty_scores) if novelty_scores else 0.0"
      ]
    },
    {
      "cell_type": "code",
      "execution_count": null,
      "metadata": {
        "ExecuteTime": {
          "end_time": "2024-10-04T14:10:46.554712Z",
          "start_time": "2024-10-04T14:10:46.542248Z"
        },
        "id": "-S7kanEi6SKo"
      },
      "outputs": [],
      "source": [
        "item_popularity = train_data.groupby('movieId')['userId'].count().to_dict()\n",
        "total_users = len(train_data['userId'].unique())\n",
        "total_items = len(train_data['movieId'].unique())"
      ]
    },
    {
      "cell_type": "markdown",
      "metadata": {
        "id": "v7QyWYTa2Ztg"
      },
      "source": [
        " - Функция для расчета Разнообразия"
      ]
    },
    {
      "cell_type": "code",
      "execution_count": null,
      "metadata": {
        "ExecuteTime": {
          "end_time": "2024-10-06T11:44:48.279106Z",
          "start_time": "2024-10-06T11:44:48.274361Z"
        },
        "id": "pMHoI3U42h9m"
      },
      "outputs": [],
      "source": [
        "def calculate_diversity(recommendations, item_features):\n",
        "    diversity_scores = []\n",
        "    for recs in recommendations:\n",
        "        pairwise_diversity = []\n",
        "        for i in range(len(recs)):\n",
        "            for j in range(i + 1, len(recs)):\n",
        "                features_i = item_features.get(recs[i], set())\n",
        "                features_j = item_features.get(recs[j], set())\n",
        "                if features_i and features_j:\n",
        "                    similarity = len(features_i & features_j) / len(features_i | features_j)\n",
        "                    diversity = 1 - similarity\n",
        "                else:\n",
        "                    diversity = 1  # Максимальное разнообразие при отсутствии признаков\n",
        "                pairwise_diversity.append(diversity)\n",
        "        if pairwise_diversity:\n",
        "            diversity_scores.append(np.mean(pairwise_diversity))\n",
        "        else:\n",
        "            diversity_scores.append(0.0)\n",
        "    return np.mean(diversity_scores)"
      ]
    },
    {
      "cell_type": "code",
      "execution_count": null,
      "metadata": {
        "ExecuteTime": {
          "end_time": "2024-10-04T14:10:54.938860Z",
          "start_time": "2024-10-04T14:10:54.907972Z"
        },
        "id": "Mw7AI-zV7FR4"
      },
      "outputs": [],
      "source": [
        "item_features = movies.set_index('movieId')['genres'].apply(lambda x: set(x.split('|'))).to_dict()"
      ]
    },
    {
      "cell_type": "markdown",
      "metadata": {
        "id": "Z5C-E0CS235v"
      },
      "source": [
        "- RMSE"
      ]
    },
    {
      "cell_type": "code",
      "execution_count": null,
      "metadata": {
        "ExecuteTime": {
          "end_time": "2024-10-04T14:10:56.212102Z",
          "start_time": "2024-10-04T14:10:56.205762Z"
        },
        "id": "KwJdG2tz26kk"
      },
      "outputs": [],
      "source": [
        "def calculate_rmse(predictions, test_data):\n",
        "    actual_ratings = test_data.set_index(['userId', 'movieId'])['rating'].to_dict()\n",
        "    mse = 0\n",
        "    n = 0\n",
        "    for pred in predictions:\n",
        "        uid = pred.uid\n",
        "        iid = pred.iid\n",
        "        est = pred.est\n",
        "        true_r = actual_ratings.get((uid, iid))\n",
        "        if true_r is not None:\n",
        "            mse += (est - true_r) ** 2\n",
        "            n += 1\n",
        "    if n == 0:\n",
        "        return None\n",
        "    rmse = np.sqrt(mse / n)\n",
        "    return rmse"
      ]
    },
    {
      "cell_type": "markdown",
      "metadata": {
        "id": "yaqA97Xu446I"
      },
      "source": [
        "3. Установить библиотеки Surprise и Cornac."
      ]
    },
    {
      "cell_type": "code",
      "execution_count": null,
      "metadata": {
        "ExecuteTime": {
          "end_time": "2024-10-04T14:11:00.556756Z",
          "start_time": "2024-10-04T14:10:57.508473Z"
        },
        "colab": {
          "base_uri": "https://localhost:8080/"
        },
        "collapsed": true,
        "id": "3y23EJFr3HNq",
        "outputId": "36d1ee34-2220-43dd-f750-3a49c6ab4683"
      },
      "outputs": [
        {
          "name": "stdout",
          "output_type": "stream",
          "text": [
            "Requirement already satisfied: scikit-surprise in ./anaconda3/lib/python3.11/site-packages (1.1.4)\r\n",
            "Requirement already satisfied: joblib>=1.2.0 in ./anaconda3/lib/python3.11/site-packages (from scikit-surprise) (1.2.0)\r\n",
            "Requirement already satisfied: numpy>=1.19.5 in ./anaconda3/lib/python3.11/site-packages (from scikit-surprise) (1.24.3)\r\n",
            "Requirement already satisfied: scipy>=1.6.0 in ./anaconda3/lib/python3.11/site-packages (from scikit-surprise) (1.11.1)\r\n"
          ]
        }
      ],
      "source": [
        "!pip install scikit-surprise"
      ]
    },
    {
      "cell_type": "code",
      "execution_count": null,
      "metadata": {
        "ExecuteTime": {
          "end_time": "2024-10-04T20:51:49.892825Z",
          "start_time": "2024-10-04T20:51:46.964370Z"
        },
        "colab": {
          "base_uri": "https://localhost:8080/"
        },
        "collapsed": true,
        "id": "H7zFCSLL3I6o",
        "outputId": "243c8f17-95bf-43df-f1b9-e41af6fa2fc8",
        "scrolled": true
      },
      "outputs": [
        {
          "name": "stdout",
          "output_type": "stream",
          "text": [
            "Requirement already satisfied: cornac in ./anaconda3/lib/python3.11/site-packages (2.2.2)\n",
            "Requirement already satisfied: numpy<2.0.0 in ./anaconda3/lib/python3.11/site-packages (from cornac) (1.24.3)\n",
            "Requirement already satisfied: scipy<=1.13.1 in ./anaconda3/lib/python3.11/site-packages (from cornac) (1.11.1)\n",
            "Requirement already satisfied: tqdm in ./anaconda3/lib/python3.11/site-packages (from cornac) (4.65.0)\n",
            "Requirement already satisfied: powerlaw in ./anaconda3/lib/python3.11/site-packages (from cornac) (1.5)\n",
            "Requirement already satisfied: matplotlib in ./anaconda3/lib/python3.11/site-packages (from powerlaw->cornac) (3.7.2)\n",
            "Requirement already satisfied: mpmath in ./anaconda3/lib/python3.11/site-packages (from powerlaw->cornac) (1.3.0)\n",
            "Requirement already satisfied: contourpy>=1.0.1 in ./anaconda3/lib/python3.11/site-packages (from matplotlib->powerlaw->cornac) (1.0.5)\n",
            "Requirement already satisfied: cycler>=0.10 in ./anaconda3/lib/python3.11/site-packages (from matplotlib->powerlaw->cornac) (0.11.0)\n",
            "Requirement already satisfied: fonttools>=4.22.0 in ./anaconda3/lib/python3.11/site-packages (from matplotlib->powerlaw->cornac) (4.25.0)\n",
            "Requirement already satisfied: kiwisolver>=1.0.1 in ./anaconda3/lib/python3.11/site-packages (from matplotlib->powerlaw->cornac) (1.4.4)\n",
            "Requirement already satisfied: packaging>=20.0 in ./anaconda3/lib/python3.11/site-packages (from matplotlib->powerlaw->cornac) (23.1)\n",
            "Requirement already satisfied: pillow>=6.2.0 in ./anaconda3/lib/python3.11/site-packages (from matplotlib->powerlaw->cornac) (9.4.0)\n",
            "Requirement already satisfied: pyparsing<3.1,>=2.3.1 in ./anaconda3/lib/python3.11/site-packages (from matplotlib->powerlaw->cornac) (3.0.9)\n",
            "Requirement already satisfied: python-dateutil>=2.7 in ./anaconda3/lib/python3.11/site-packages (from matplotlib->powerlaw->cornac) (2.8.2)\n",
            "Requirement already satisfied: six>=1.5 in ./anaconda3/lib/python3.11/site-packages (from python-dateutil>=2.7->matplotlib->powerlaw->cornac) (1.16.0)\n"
          ]
        }
      ],
      "source": [
        "!pip install cornac"
      ]
    },
    {
      "cell_type": "markdown",
      "metadata": {
        "id": "eSzZgyTd48Qr"
      },
      "source": [
        "4. Сравнить реализации матричной факторизации из библиотеки Surprise\n",
        "со своим реализованным подходом по метрикам рек. систем (включая новизну\n",
        "и разнообразие)."
      ]
    },
    {
      "cell_type": "markdown",
      "metadata": {
        "id": "VP-jYV73p-jO"
      },
      "source": [
        "- SVD Surprise"
      ]
    },
    {
      "cell_type": "code",
      "execution_count": null,
      "metadata": {
        "ExecuteTime": {
          "end_time": "2024-10-04T14:11:02.546022Z",
          "start_time": "2024-10-04T14:11:02.502514Z"
        },
        "id": "8j9zG9jm3qAD"
      },
      "outputs": [],
      "source": [
        "from surprise import Dataset, Reader\n",
        "from surprise import SVD"
      ]
    },
    {
      "cell_type": "code",
      "execution_count": null,
      "metadata": {
        "ExecuteTime": {
          "end_time": "2024-10-04T14:11:02.751344Z",
          "start_time": "2024-10-04T14:11:02.549368Z"
        },
        "id": "Zt1pRibt4D_1"
      },
      "outputs": [],
      "source": [
        "rating_scale = (ratings['rating'].min(), ratings['rating'].max())\n",
        "reader = Reader(rating_scale=rating_scale)\n",
        "\n",
        "data = Dataset.load_from_df(train_data[['userId', 'movieId', 'rating']], reader)\n",
        "trainset = data.build_full_trainset()"
      ]
    },
    {
      "cell_type": "code",
      "execution_count": null,
      "metadata": {
        "ExecuteTime": {
          "end_time": "2024-10-04T14:11:03.835547Z",
          "start_time": "2024-10-04T14:11:02.753723Z"
        },
        "colab": {
          "base_uri": "https://localhost:8080/"
        },
        "id": "MjgnyBZAAf5i",
        "outputId": "58e06781-8a11-46de-ffbf-d0261f01e3fa"
      },
      "outputs": [
        {
          "data": {
            "text/plain": [
              "<surprise.prediction_algorithms.matrix_factorization.SVD at 0x138986e50>"
            ]
          },
          "execution_count": 17,
          "metadata": {},
          "output_type": "execute_result"
        }
      ],
      "source": [
        "svd_model = SVD()\n",
        "svd_model.fit(trainset)"
      ]
    },
    {
      "cell_type": "code",
      "execution_count": null,
      "metadata": {
        "ExecuteTime": {
          "end_time": "2024-10-04T14:11:04.072802Z",
          "start_time": "2024-10-04T14:11:03.838909Z"
        },
        "id": "MqL5bypHAjmI"
      },
      "outputs": [],
      "source": [
        "testset = list(zip(test_data['userId'], test_data['movieId'], test_data['rating']))\n",
        "predictions = svd_model.test(testset)"
      ]
    },
    {
      "cell_type": "code",
      "execution_count": null,
      "metadata": {
        "ExecuteTime": {
          "end_time": "2024-10-04T14:11:04.098790Z",
          "start_time": "2024-10-04T14:11:04.076257Z"
        },
        "id": "jvtDpwG-Av2I"
      },
      "outputs": [],
      "source": [
        "# Создаем словарь предсказаний {userId: {movieId: predicted_rating}}\n",
        "predictions_dict = {}\n",
        "for pred in predictions:\n",
        "    uid = pred.uid\n",
        "    iid = pred.iid\n",
        "    est = pred.est\n",
        "    if uid not in predictions_dict:\n",
        "        predictions_dict[uid] = {}\n",
        "    predictions_dict[uid][iid] = est"
      ]
    },
    {
      "cell_type": "code",
      "execution_count": null,
      "metadata": {
        "ExecuteTime": {
          "end_time": "2024-10-04T14:11:42.810136Z",
          "start_time": "2024-10-04T14:11:04.102245Z"
        },
        "id": "iTT6ePXwA1n2"
      },
      "outputs": [],
      "source": [
        "# Получаем список всех уникальных фильмов\n",
        "all_items = ratings['movieId'].unique()\n",
        "\n",
        "# Создаем словарь просмотренных фильмов из тренировочных данных\n",
        "user_train_items = train_data.groupby('userId')['movieId'].apply(set).to_dict()\n",
        "\n",
        "k = 50\n",
        "recommendations = {}\n",
        "\n",
        "for uid in test_data['userId'].unique():\n",
        "    seen_items = user_train_items.get(uid, set())\n",
        "    items_to_predict = [iid for iid in all_items if iid not in seen_items]\n",
        "    user_predictions = []\n",
        "    for iid in items_to_predict:\n",
        "        est = svd_model.predict(uid, iid).est\n",
        "        user_predictions.append((iid, est))\n",
        "    top_k_items = sorted(user_predictions, key=lambda x: x[1], reverse=True)[:k]\n",
        "    recommendations[uid] = [iid for iid, _ in top_k_items]"
      ]
    },
    {
      "cell_type": "code",
      "execution_count": null,
      "metadata": {
        "ExecuteTime": {
          "end_time": "2024-10-04T14:11:42.856631Z",
          "start_time": "2024-10-04T14:11:42.817230Z"
        },
        "id": "yc57EQo9BZM_"
      },
      "outputs": [],
      "source": [
        "# Создаем словарь релевантных элементов для каждого пользователя\n",
        "user_test_items = test_data.groupby('userId')['movieId'].apply(set).to_dict()\n",
        "\n",
        "# Формируем списки для расчёта метрик\n",
        "actual_list = []\n",
        "predicted_list = []\n",
        "for uid in recommendations.keys():\n",
        "    actual = user_test_items.get(uid, set())\n",
        "    predicted = recommendations[uid]\n",
        "    if actual:\n",
        "        actual_list.append(actual)\n",
        "        predicted_list.append(predicted)"
      ]
    },
    {
      "cell_type": "code",
      "execution_count": null,
      "metadata": {
        "ExecuteTime": {
          "end_time": "2024-10-04T14:11:42.917596Z",
          "start_time": "2024-10-04T14:11:42.860332Z"
        },
        "colab": {
          "base_uri": "https://localhost:8080/"
        },
        "id": "-c_OvQvMBbwB",
        "outputId": "30723d5c-ce49-4b39-9eca-5a8725ca236a"
      },
      "outputs": [
        {
          "name": "stdout",
          "output_type": "stream",
          "text": [
            "RMSE: 0.8820367019157929\n"
          ]
        }
      ],
      "source": [
        "rmse = calculate_rmse(predictions, test_data)\n",
        "print(f'RMSE: {rmse}')"
      ]
    },
    {
      "cell_type": "code",
      "execution_count": null,
      "metadata": {
        "ExecuteTime": {
          "end_time": "2024-10-04T14:11:43.111292Z",
          "start_time": "2024-10-04T14:11:42.920847Z"
        },
        "colab": {
          "base_uri": "https://localhost:8080/"
        },
        "id": "88lUkCi510sN",
        "outputId": "2e4ab598-7b54-4813-deb3-35e4d80a18e9"
      },
      "outputs": [
        {
          "name": "stdout",
          "output_type": "stream",
          "text": [
            "Метрики MAP@k и NDCG@\n",
            "    K     MAP@K    NDCG@K\n",
            "0   1  0.126230  0.126230\n",
            "1   5  0.060880  0.102684\n",
            "2  10  0.043246  0.095434\n",
            "3  20  0.032811  0.090425\n",
            "4  30  0.028503  0.088795\n",
            "5  40  0.026372  0.089373\n",
            "6  50  0.025402  0.092020\n"
          ]
        }
      ],
      "source": [
        "metrics_suprise = compute_metrics_at_k(k_values, actual_list, predicted_list)\n",
        "print(\"Метрики MAP@k и NDCG@\")\n",
        "print(metrics_suprise)"
      ]
    },
    {
      "cell_type": "code",
      "execution_count": null,
      "metadata": {
        "ExecuteTime": {
          "end_time": "2024-10-05T20:01:44.454609Z",
          "start_time": "2024-10-05T20:01:44.383772Z"
        },
        "colab": {
          "base_uri": "https://localhost:8080/"
        },
        "id": "NFM2QgfeCNRi",
        "outputId": "ffa8f106-167e-45c3-aad3-04e9a2e87ed3"
      },
      "outputs": [
        {
          "name": "stdout",
          "output_type": "stream",
          "text": [
            "Novelty: 3.8061128097965056\n"
          ]
        }
      ],
      "source": [
        "novelty_score = calculate_novelty(predicted_list, item_popularity, total_users)\n",
        "print(f'Novelty: {novelty_score}')"
      ]
    },
    {
      "cell_type": "code",
      "execution_count": null,
      "metadata": {
        "ExecuteTime": {
          "end_time": "2024-10-04T14:11:44.066449Z",
          "start_time": "2024-10-04T14:11:43.170431Z"
        },
        "colab": {
          "base_uri": "https://localhost:8080/"
        },
        "id": "apMHr0u2CUKi",
        "outputId": "a565adce-0d9a-4d5f-fbda-20eb37976cb7"
      },
      "outputs": [
        {
          "name": "stdout",
          "output_type": "stream",
          "text": [
            "Diversity: 0.812889844678202\n"
          ]
        }
      ],
      "source": [
        "diversity_score = calculate_diversity(predicted_list, item_features)\n",
        "print(f'Diversity: {diversity_score}')"
      ]
    },
    {
      "cell_type": "markdown",
      "metadata": {
        "id": "3XKYaE0yp-jR"
      },
      "source": [
        "- SVD++ Surprise"
      ]
    },
    {
      "cell_type": "code",
      "execution_count": null,
      "metadata": {
        "ExecuteTime": {
          "end_time": "2024-10-04T16:17:49.541992Z",
          "start_time": "2024-10-04T16:16:54.068735Z"
        },
        "id": "VtLXJs57p-jS"
      },
      "outputs": [],
      "source": [
        "from surprise import Dataset, Reader\n",
        "from surprise import SVDpp\n",
        "\n",
        "rating_scale = (ratings['rating'].min(), ratings['rating'].max())\n",
        "reader = Reader(rating_scale=rating_scale)\n",
        "\n",
        "data = Dataset.load_from_df(train_data[['userId', 'movieId', 'rating']], reader)\n",
        "trainset = data.build_full_trainset()\n",
        "\n",
        "svdpp_model = SVDpp()\n",
        "svdpp_model.fit(trainset)\n",
        "\n",
        "testset = list(zip(test_data['userId'], test_data['movieId'], test_data['rating']))\n",
        "predictions = svdpp_model.test(testset)"
      ]
    },
    {
      "cell_type": "code",
      "execution_count": null,
      "metadata": {
        "ExecuteTime": {
          "end_time": "2024-10-04T16:29:44.866719Z",
          "start_time": "2024-10-04T16:17:53.233070Z"
        },
        "id": "h3plT9qdp-jS"
      },
      "outputs": [],
      "source": [
        "# Создаем словарь предсказаний {userId: {movieId: predicted_rating}}\n",
        "predictions_dict = {}\n",
        "for pred in predictions:\n",
        "    uid = pred.uid\n",
        "    iid = pred.iid\n",
        "    est = pred.est\n",
        "    if uid not in predictions_dict:\n",
        "        predictions_dict[uid] = {}\n",
        "    predictions_dict[uid][iid] = est\n",
        "\n",
        "# Получаем список всех уникальных фильмов\n",
        "all_items = ratings['movieId'].unique()\n",
        "\n",
        "# Создаем словарь просмотренных фильмов из тренировочных данных\n",
        "user_train_items = train_data.groupby('userId')['movieId'].apply(set).to_dict()\n",
        "\n",
        "k = 50\n",
        "recommendations_suprise_pp = {}\n",
        "\n",
        "# Генерация рекомендаций\n",
        "for uid in test_data['userId'].unique():\n",
        "    seen_items = user_train_items.get(uid, set())\n",
        "    items_to_predict = [iid for iid in all_items if iid not in seen_items]\n",
        "    user_predictions = []\n",
        "    for iid in items_to_predict:\n",
        "        est = svdpp_model.predict(uid, iid).est  # Используем SVD++\n",
        "        user_predictions.append((iid, est))\n",
        "\n",
        "    # Получаем топ-K фильмов\n",
        "    top_k_items = sorted(user_predictions, key=lambda x: x[1], reverse=True)[:k]\n",
        "    recommendations_suprise_pp[uid] = [iid for iid, _ in top_k_items]"
      ]
    },
    {
      "cell_type": "code",
      "execution_count": null,
      "metadata": {
        "ExecuteTime": {
          "end_time": "2024-10-04T16:32:43.369915Z",
          "start_time": "2024-10-04T16:32:43.347918Z"
        },
        "id": "2Y61Ih9kp-jS"
      },
      "outputs": [],
      "source": [
        "# Создаем словарь релевантных элементов для каждого пользователя\n",
        "user_test_items = test_data.groupby('userId')['movieId'].apply(set).to_dict()\n",
        "\n",
        "# Формируем списки для расчёта метрик\n",
        "actual_list_suprise_pp = []\n",
        "predicted_list_suprise_pp = []\n",
        "for uid in recommendations_suprise_pp.keys():\n",
        "    actual = user_test_items.get(uid, set())\n",
        "    predicted = recommendations_suprise_pp[uid]\n",
        "    if actual:\n",
        "        actual_list_suprise_pp.append(actual)\n",
        "        predicted_list_suprise_pp.append(predicted)"
      ]
    },
    {
      "cell_type": "code",
      "execution_count": null,
      "metadata": {
        "ExecuteTime": {
          "end_time": "2024-10-04T16:32:46.763957Z",
          "start_time": "2024-10-04T16:32:45.908244Z"
        },
        "id": "IVsoo-IDp-jT",
        "outputId": "d85ee079-ffe8-4809-d27d-740d60cc9e5c"
      },
      "outputs": [
        {
          "name": "stdout",
          "output_type": "stream",
          "text": [
            "RMSE: 0.8698128970392567\n",
            "Метрики MAP@k и NDCG@\n",
            "    K     MAP@K    NDCG@K\n",
            "0   1  0.155738  0.155738\n",
            "1   5  0.066082  0.110438\n",
            "2  10  0.045002  0.096687\n",
            "3  20  0.032554  0.089122\n",
            "4  30  0.028119  0.087751\n",
            "5  40  0.025626  0.086973\n",
            "6  50  0.024450  0.088887\n",
            "Novelty: 4.20071488407639\n",
            "Diversity: 0.7920338740847271\n"
          ]
        }
      ],
      "source": [
        "rmse = calculate_rmse(predictions, test_data)\n",
        "print(f'RMSE: {rmse}')\n",
        "\n",
        "# Расчет метрик MAP@k и NDCG@\n",
        "metrics_suprise_pp = compute_metrics_at_k(k_values, actual_list_suprise_pp, predicted_list_suprise_pp)\n",
        "print(\"Метрики MAP@k и NDCG@\")\n",
        "print(metrics_suprise_pp)\n",
        "\n",
        "# Расчет новизны\n",
        "novelty_score = calculate_novelty(predicted_list_suprise_pp, item_popularity, total_users)\n",
        "print(f'Novelty: {novelty_score}')\n",
        "\n",
        "# Расчет разнообразия\n",
        "diversity_score = calculate_diversity(predicted_list_suprise_pp, item_features)\n",
        "print(f'Diversity: {diversity_score}')"
      ]
    },
    {
      "cell_type": "markdown",
      "metadata": {
        "id": "WtRYqaTAGVGd"
      },
      "source": [
        "- SVD"
      ]
    },
    {
      "cell_type": "code",
      "execution_count": null,
      "metadata": {
        "ExecuteTime": {
          "end_time": "2024-10-04T19:15:12.071028Z",
          "start_time": "2024-10-04T19:15:12.067860Z"
        },
        "id": "ojRT-GtID1wV"
      },
      "outputs": [],
      "source": [
        "# Гиперпараметры\n",
        "latent_factors = 20  # количество латентных факторов\n",
        "alpha = 0.007  # скорость обучения\n",
        "lambda_reg = 0.02  # регуляризация\n",
        "iterations = 20  # количество итераций"
      ]
    },
    {
      "cell_type": "code",
      "execution_count": null,
      "metadata": {
        "ExecuteTime": {
          "end_time": "2024-10-04T19:15:12.761461Z",
          "start_time": "2024-10-04T19:15:12.756094Z"
        },
        "id": "oiyids0fD3rY"
      },
      "outputs": [],
      "source": [
        "# Создание матриц пользователей и фильмов\n",
        "n_users = ratings['userId'].nunique()\n",
        "n_items = ratings['movieId'].nunique()"
      ]
    },
    {
      "cell_type": "code",
      "execution_count": null,
      "metadata": {
        "ExecuteTime": {
          "end_time": "2024-10-04T19:15:13.306377Z",
          "start_time": "2024-10-04T19:15:13.296219Z"
        },
        "id": "VS77MCjzD5Ny"
      },
      "outputs": [],
      "source": [
        "# Инициализация матриц P и Q, а также смещений\n",
        "P = np.random.normal(scale=1./latent_factors, size=(n_users, latent_factors))\n",
        "Q = np.random.normal(scale=1./latent_factors, size=(n_items, latent_factors))\n",
        "bu = np.zeros(n_users)\n",
        "bi = np.zeros(n_items)\n",
        "mu = train_data['rating'].mean()"
      ]
    },
    {
      "cell_type": "code",
      "execution_count": null,
      "metadata": {
        "ExecuteTime": {
          "end_time": "2024-10-04T19:15:13.799664Z",
          "start_time": "2024-10-04T19:15:13.791296Z"
        },
        "id": "bOmk9b3vD6mR"
      },
      "outputs": [],
      "source": [
        "# Подготовка данных\n",
        "user_ids = ratings['userId'].unique()\n",
        "item_ids = ratings['movieId'].unique()\n",
        "user_map = {user_id: idx for idx, user_id in enumerate(user_ids)}\n",
        "item_map = {item_id: idx for idx, item_id in enumerate(item_ids)}"
      ]
    },
    {
      "cell_type": "code",
      "execution_count": null,
      "metadata": {
        "ExecuteTime": {
          "end_time": "2024-10-04T19:15:14.336644Z",
          "start_time": "2024-10-04T19:15:14.297228Z"
        },
        "id": "kaAk2MT6D84a"
      },
      "outputs": [],
      "source": [
        "train_data['user_idx'] = train_data['userId'].map(user_map)\n",
        "train_data['item_idx'] = train_data['movieId'].map(item_map)"
      ]
    },
    {
      "cell_type": "code",
      "execution_count": null,
      "metadata": {
        "ExecuteTime": {
          "end_time": "2024-10-04T19:15:50.721925Z",
          "start_time": "2024-10-04T19:15:14.918095Z"
        },
        "id": "HpMnUerTD-Ui"
      },
      "outputs": [],
      "source": [
        "# Градиентный спуск для матричной факторизации\n",
        "for it in range(iterations):\n",
        "    for row in train_data.itertuples():\n",
        "        user = row.user_idx\n",
        "        item = row.item_idx\n",
        "        rating = row.rating\n",
        "\n",
        "        # Предсказание\n",
        "        pred = mu + bu[user] + bi[item] + np.dot(P[user, :], Q[item, :])\n",
        "\n",
        "        # Ошибка\n",
        "        error = rating - pred\n",
        "\n",
        "        # Обновление смещений и латентных факторов\n",
        "        bu[user] += alpha * (error - lambda_reg * bu[user])\n",
        "        bi[item] += alpha * (error - lambda_reg * bi[item])\n",
        "        P[user, :] += alpha * (error * Q[item, :] - lambda_reg * P[user, :])\n",
        "        Q[item, :] += alpha * (error * P[user, :] - lambda_reg * Q[item, :])"
      ]
    },
    {
      "cell_type": "code",
      "execution_count": null,
      "metadata": {
        "ExecuteTime": {
          "end_time": "2024-10-04T19:15:50.954010Z",
          "start_time": "2024-10-04T19:15:50.724113Z"
        },
        "id": "Ind-WmCuEEeU"
      },
      "outputs": [],
      "source": [
        "# Проверка на тестовых данных\n",
        "test_data['user_idx'] = test_data['userId'].map(user_map)\n",
        "test_data['item_idx'] = test_data['movieId'].map(item_map)\n",
        "\n",
        "test_preds = []\n",
        "for row in test_data.itertuples():\n",
        "    user = row.user_idx\n",
        "    item = row.item_idx\n",
        "    test_preds.append(mu + bu[user] + bi[item] + np.dot(P[user, :], Q[item, :]))"
      ]
    },
    {
      "cell_type": "code",
      "execution_count": null,
      "metadata": {
        "ExecuteTime": {
          "end_time": "2024-10-04T19:15:50.966621Z",
          "start_time": "2024-10-04T19:15:50.957065Z"
        },
        "colab": {
          "base_uri": "https://localhost:8080/"
        },
        "id": "O2v3Z-RvFOD-",
        "outputId": "b9b2f352-4a64-476a-c583-c4e9bf2bdc9e"
      },
      "outputs": [
        {
          "name": "stdout",
          "output_type": "stream",
          "text": [
            "RMSE: 0.871693962667174\n"
          ]
        }
      ],
      "source": [
        "test_rmse = np.sqrt(mean_squared_error(test_data['rating'], test_preds))\n",
        "print(f\"RMSE: {test_rmse}\")"
      ]
    },
    {
      "cell_type": "code",
      "execution_count": null,
      "metadata": {
        "ExecuteTime": {
          "end_time": "2024-10-04T19:16:17.430763Z",
          "start_time": "2024-10-04T19:15:50.972005Z"
        },
        "id": "QdHnOVjOFeal"
      },
      "outputs": [],
      "source": [
        "all_users = test_data['userId'].unique()\n",
        "all_items = ratings['movieId'].unique()\n",
        "\n",
        "user_train_items = train_data.groupby('userId')['movieId'].apply(set).to_dict()\n",
        "\n",
        "user_id_map = {idx: user_id for user_id, idx in user_map.items()}\n",
        "item_id_map = {idx: item_id for item_id, idx in item_map.items()}\n",
        "\n",
        "k = 50\n",
        "recommendations_own = {}\n",
        "\n",
        "for user_id in all_users:\n",
        "    user_idx = user_map.get(user_id)\n",
        "    if user_idx is None:\n",
        "        continue\n",
        "    seen_items = user_train_items.get(user_id, set())\n",
        "    items_to_predict = [item_id for item_id in all_items if item_id not in seen_items]\n",
        "    user_predictions = []\n",
        "    for item_id in items_to_predict:\n",
        "        item_idx = item_map.get(item_id)\n",
        "        if item_idx is None:\n",
        "            continue\n",
        "        pred_rating = mu + bu[user_idx] + bi[item_idx] + np.dot(P[user_idx, :], Q[item_idx, :])\n",
        "        user_predictions.append((item_id, pred_rating))\n",
        "    top_k_items = sorted(user_predictions, key=lambda x: x[1], reverse=True)[:k]\n",
        "    recommendations_own[user_id] = [item_id for item_id, _ in top_k_items]"
      ]
    },
    {
      "cell_type": "code",
      "execution_count": null,
      "metadata": {
        "ExecuteTime": {
          "end_time": "2024-10-04T19:16:17.456192Z",
          "start_time": "2024-10-04T19:16:17.432789Z"
        },
        "id": "39nTTtG5FV0V"
      },
      "outputs": [],
      "source": [
        "user_test_items = test_data.groupby('userId')['movieId'].apply(set).to_dict()"
      ]
    },
    {
      "cell_type": "code",
      "execution_count": null,
      "metadata": {
        "ExecuteTime": {
          "end_time": "2024-10-04T19:16:17.465081Z",
          "start_time": "2024-10-04T19:16:17.458672Z"
        },
        "id": "E6No_XjGFZYQ"
      },
      "outputs": [],
      "source": [
        "actual_list_svd = []\n",
        "predicted_list_svd = []\n",
        "\n",
        "for user_id in recommendations_own.keys():\n",
        "    actual = user_test_items.get(user_id, set())\n",
        "    predicted = recommendations_own[user_id]\n",
        "    if actual:\n",
        "        actual_list_svd.append(actual)\n",
        "        predicted_list_svd.append(predicted)"
      ]
    },
    {
      "cell_type": "code",
      "execution_count": null,
      "metadata": {
        "ExecuteTime": {
          "end_time": "2024-10-04T19:16:17.717395Z",
          "start_time": "2024-10-04T19:16:17.467495Z"
        },
        "colab": {
          "base_uri": "https://localhost:8080/"
        },
        "id": "F5TD67_e3tPW",
        "outputId": "49406736-1ab4-43b2-a44b-8139b92afa8a"
      },
      "outputs": [
        {
          "name": "stdout",
          "output_type": "stream",
          "text": [
            "Метрики MAP@k и NDCG@ (SVD)\n",
            "    K     MAP@K    NDCG@K\n",
            "0   1  0.140984  0.140984\n",
            "1   5  0.048809  0.084595\n",
            "2  10  0.033328  0.073728\n",
            "3  20  0.025315  0.071523\n",
            "4  30  0.022610  0.072803\n",
            "5  40  0.021416  0.075778\n",
            "6  50  0.020864  0.078778\n"
          ]
        }
      ],
      "source": [
        "metrics_svd = compute_metrics_at_k(k_values, actual_list_svd, predicted_list_svd)\n",
        "print(\"Метрики MAP@k и NDCG@ (SVD)\")\n",
        "print(metrics_svd)"
      ]
    },
    {
      "cell_type": "code",
      "execution_count": null,
      "metadata": {
        "ExecuteTime": {
          "end_time": "2024-10-04T19:16:17.789585Z",
          "start_time": "2024-10-04T19:16:17.720829Z"
        },
        "colab": {
          "base_uri": "https://localhost:8080/"
        },
        "id": "98DhBUG6GHTo",
        "outputId": "d557ff99-ddf7-465e-874c-1afdc6ca6cd8"
      },
      "outputs": [
        {
          "name": "stdout",
          "output_type": "stream",
          "text": [
            "SVD - Novelty: 4.1169294885543195\n"
          ]
        }
      ],
      "source": [
        "novelty_score_own_mf = calculate_novelty(predicted_list_svd, item_popularity, total_users)\n",
        "print(f'SVD - Novelty: {novelty_score_own_mf}')"
      ]
    },
    {
      "cell_type": "code",
      "execution_count": null,
      "metadata": {
        "ExecuteTime": {
          "end_time": "2024-10-04T19:16:18.785765Z",
          "start_time": "2024-10-04T19:16:17.792378Z"
        },
        "colab": {
          "base_uri": "https://localhost:8080/"
        },
        "id": "A-URCkKCGNAL",
        "outputId": "9638e173-032c-4ecc-b458-e2669bb03f18"
      },
      "outputs": [
        {
          "name": "stdout",
          "output_type": "stream",
          "text": [
            "SVD - Diversity: 0.8016387276193566\n"
          ]
        }
      ],
      "source": [
        "diversity_score_own_mf = calculate_diversity(predicted_list_svd, item_features)\n",
        "print(f'SVD - Diversity: {diversity_score_own_mf}')"
      ]
    },
    {
      "cell_type": "markdown",
      "metadata": {
        "id": "7-anOuR6p-jX"
      },
      "source": [
        "- SVD++"
      ]
    },
    {
      "cell_type": "code",
      "execution_count": null,
      "metadata": {
        "ExecuteTime": {
          "end_time": "2024-10-04T16:41:27.466462Z",
          "start_time": "2024-10-04T16:41:27.461895Z"
        },
        "id": "2FQJ_iRcp-jX"
      },
      "outputs": [],
      "source": [
        "# Гиперпараметры\n",
        "latent_factors = 20  # количество латентных факторов\n",
        "alpha = 0.007  # скорость обучения\n",
        "lambda_reg = 0.02  # регуляризация\n",
        "iterations = 20  # количество итераций"
      ]
    },
    {
      "cell_type": "code",
      "execution_count": null,
      "metadata": {
        "ExecuteTime": {
          "end_time": "2024-10-04T16:41:27.873703Z",
          "start_time": "2024-10-04T16:41:27.856019Z"
        },
        "id": "8a1jRb2Up-jX"
      },
      "outputs": [],
      "source": [
        "# Инициализация матриц P, Q, Y (для неявных факторов), а также смещений\n",
        "P = np.random.normal(scale=1./latent_factors, size=(n_users, latent_factors))\n",
        "Q = np.random.normal(scale=1./latent_factors, size=(n_items, latent_factors))\n",
        "Y = np.random.normal(scale=1./latent_factors, size=(n_items, latent_factors))\n",
        "bu = np.zeros(n_users)\n",
        "bi = np.zeros(n_items)\n",
        "mu = train_data['rating'].mean()"
      ]
    },
    {
      "cell_type": "code",
      "execution_count": null,
      "metadata": {
        "ExecuteTime": {
          "end_time": "2024-10-04T18:35:58.987593Z",
          "start_time": "2024-10-04T16:41:42.430052Z"
        },
        "id": "H1sukP4Wp-jY"
      },
      "outputs": [],
      "source": [
        "# Градиентный спуск для SVD+\n",
        "for it in range(iterations):\n",
        "    for row in train_data.itertuples():\n",
        "        user = row.user_idx\n",
        "        item = row.item_idx\n",
        "        rating = row.rating\n",
        "\n",
        "        # Находим множество предметов I_u, которые пользователь оценил\n",
        "        I_u = train_data[train_data['user_idx'] == user]['item_idx'].values\n",
        "\n",
        "        # Сумма неявных факторов по предметам из I_u\n",
        "        implicit_sum = np.sum(Y[I_u], axis=0) if len(I_u) > 0 else np.zeros(latent_factors)\n",
        "\n",
        "        # Предсказание с учетом неявных факторов\n",
        "        pred = mu + bu[user] + bi[item] + np.dot(Q[item, :], P[user, :] + (1 / np.sqrt(len(I_u))) * implicit_sum)\n",
        "\n",
        "        # Ошибка предсказания\n",
        "        error = rating - pred\n",
        "\n",
        "        # Обновление смещений и латентных факторов\n",
        "        bu[user] += alpha * (error - lambda_reg * bu[user])\n",
        "        bi[item] += alpha * (error - lambda_reg * bi[item])\n",
        "        P[user, :] += alpha * (error * Q[item, :] - lambda_reg * P[user, :])\n",
        "        Q[item, :] += alpha * (error * (P[user, :] + (1 / np.sqrt(len(I_u))) * implicit_sum) - lambda_reg * Q[item, :])\n",
        "\n",
        "        # Обновление неявных факторов\n",
        "        for j in I_u:\n",
        "            Y[j, :] += alpha * (error * (1 / np.sqrt(len(I_u))) * Q[item, :] - lambda_reg * Y[j, :])"
      ]
    },
    {
      "cell_type": "code",
      "execution_count": null,
      "metadata": {
        "ExecuteTime": {
          "end_time": "2024-10-04T18:36:12.230905Z",
          "start_time": "2024-10-04T18:35:58.989981Z"
        },
        "id": "Dioz3ZYip-jY",
        "outputId": "bf80fbb7-9910-431a-a4a3-87abf5010046"
      },
      "outputs": [
        {
          "name": "stdout",
          "output_type": "stream",
          "text": [
            "RMSE на тестовых данных: 0.8617860254909054\n"
          ]
        }
      ],
      "source": [
        "# Проверка на тестовых данных\n",
        "test_data['user_idx'] = test_data['userId'].map(user_map)\n",
        "test_data['item_idx'] = test_data['movieId'].map(item_map)\n",
        "\n",
        "test_preds = []\n",
        "for row in test_data.itertuples():\n",
        "    user = row.user_idx\n",
        "    item = row.item_idx\n",
        "    I_u = train_data[train_data['user_idx'] == user]['item_idx'].values\n",
        "    implicit_sum = np.sum(Y[I_u], axis=0) if len(I_u) > 0 else np.zeros(latent_factors)\n",
        "    pred = mu + bu[user] + bi[item] + np.dot(Q[item, :], P[user, :] + (1 / np.sqrt(len(I_u))) * implicit_sum)\n",
        "    test_preds.append(pred)\n",
        "\n",
        "# Рассчет RMSE на тестовых данных\n",
        "test_rmse = np.sqrt(mean_squared_error(test_data['rating'], test_preds))\n",
        "print(f\"RMSE на тестовых данных: {test_rmse}\")"
      ]
    },
    {
      "cell_type": "code",
      "execution_count": null,
      "metadata": {
        "ExecuteTime": {
          "end_time": "2024-10-04T19:10:46.202709Z",
          "start_time": "2024-10-04T18:37:13.923478Z"
        },
        "id": "Q5t4tqCPp-jY"
      },
      "outputs": [],
      "source": [
        "recommendations_own_svdpp = {}\n",
        "\n",
        "for user_id in all_users:\n",
        "    user_idx = user_map.get(user_id)\n",
        "    if user_idx is None:\n",
        "        continue\n",
        "    seen_items = user_train_items.get(user_id, set())\n",
        "    items_to_predict = [item_id for item_id in all_items if item_id not in seen_items]\n",
        "    user_predictions = []\n",
        "    for item_id in items_to_predict:\n",
        "        item_idx = item_map.get(item_id)\n",
        "        if item_idx is None:\n",
        "            continue\n",
        "        I_u = train_data[train_data['user_idx'] == user_idx]['item_idx'].values\n",
        "        implicit_sum = np.sum(Y[I_u], axis=0) if len(I_u) > 0 else np.zeros(latent_factors)\n",
        "        pred_rating = mu + bu[user_idx] + bi[item_idx] + np.dot(Q[item_idx, :], P[user_idx, :] + (1 / np.sqrt(len(I_u))) * implicit_sum)\n",
        "        user_predictions.append((item_id, pred_rating))\n",
        "\n",
        "    # Сортируем и выбираем топ-K фильмов\n",
        "    top_k_items = sorted(user_predictions, key=lambda x: x[1], reverse=True)[:k]\n",
        "    recommendations_own_svdpp[user_id] = [item_id for item_id, _ in top_k_items]"
      ]
    },
    {
      "cell_type": "code",
      "execution_count": null,
      "metadata": {
        "ExecuteTime": {
          "end_time": "2024-10-04T19:10:46.225117Z",
          "start_time": "2024-10-04T19:10:46.205096Z"
        },
        "id": "Gd-UzHocp-jZ"
      },
      "outputs": [],
      "source": [
        "user_test_items = test_data.groupby('userId')['movieId'].apply(set).to_dict()\n",
        "\n",
        "actual_list_svdpp = []\n",
        "predicted_list_svdpp = []\n",
        "\n",
        "for user_id in recommendations_own_svdpp.keys():\n",
        "    actual = user_test_items.get(user_id, set())\n",
        "    predicted = recommendations_own_svdpp[user_id]\n",
        "    if actual:\n",
        "        actual_list_svdpp.append(actual)\n",
        "        predicted_list_svdpp.append(predicted)"
      ]
    },
    {
      "cell_type": "code",
      "execution_count": null,
      "metadata": {
        "ExecuteTime": {
          "end_time": "2024-10-04T19:10:46.393501Z",
          "start_time": "2024-10-04T19:10:46.227003Z"
        },
        "id": "ArgML7vPp-jZ",
        "outputId": "d6dd512a-9e87-4f45-df84-00690501a7cb"
      },
      "outputs": [
        {
          "name": "stdout",
          "output_type": "stream",
          "text": [
            "Метрики MAP@k и NDCG@ (SVD++)\n",
            "    K     MAP@K    NDCG@K\n",
            "0   1  0.172131  0.172131\n",
            "1   5  0.062689  0.101706\n",
            "2  10  0.042497  0.087666\n",
            "3  20  0.031190  0.081029\n",
            "4  30  0.026440  0.078763\n",
            "5  40  0.021736  0.069549\n",
            "6  50  0.019095  0.064013\n"
          ]
        }
      ],
      "source": [
        "metrics_svdpp = compute_metrics_at_k(k_values, actual_list_svdpp, predicted_list_svdpp)\n",
        "print(\"Метрики MAP@k и NDCG@ (SVD++)\")\n",
        "print(metrics_svdpp)"
      ]
    },
    {
      "cell_type": "code",
      "execution_count": null,
      "metadata": {
        "ExecuteTime": {
          "end_time": "2024-10-04T19:10:46.804786Z",
          "start_time": "2024-10-04T19:10:46.397003Z"
        },
        "id": "ScfSgjp6p-jZ",
        "outputId": "a638f3c4-d331-469e-c8ff-add9bd91ef16"
      },
      "outputs": [
        {
          "name": "stdout",
          "output_type": "stream",
          "text": [
            "SVD++ - Novelty: 4.3359416536963025\n",
            "SVD++ - Diversity: 0.782414587882649\n"
          ]
        }
      ],
      "source": [
        "novelty_score_svdpp = calculate_novelty(predicted_list_svdpp, item_popularity, total_users)\n",
        "print(f'SVD++ - Novelty: {novelty_score_svdpp}')\n",
        "\n",
        "diversity_score_svdpp = calculate_diversity(predicted_list_svdpp, item_features)\n",
        "print(f'SVD++ - Diversity: {diversity_score_svdpp}')"
      ]
    },
    {
      "cell_type": "markdown",
      "metadata": {
        "id": "_rkJtO2B4_M6"
      },
      "source": [
        "5. Взять любой нейросетевой метод из библиотеки Cornac и сравнить со\n",
        "всем ранее реализованными подходами по метрикам рек. систем (включая\n",
        "новизну и разнообразие)."
      ]
    },
    {
      "cell_type": "code",
      "execution_count": null,
      "metadata": {
        "ExecuteTime": {
          "end_time": "2024-10-04T21:31:00.440020Z",
          "start_time": "2024-10-04T21:28:57.310912Z"
        },
        "colab": {
          "base_uri": "https://localhost:8080/"
        },
        "collapsed": true,
        "id": "72p_Lvd8p-ja",
        "outputId": "290df942-878e-44b2-fc7f-bc20973ec497"
      },
      "outputs": [
        {
          "name": "stdout",
          "output_type": "stream",
          "text": [
            "Requirement already satisfied: tensorflow in /usr/local/lib/python3.10/dist-packages (2.17.0)\n",
            "Requirement already satisfied: absl-py>=1.0.0 in /usr/local/lib/python3.10/dist-packages (from tensorflow) (1.4.0)\n",
            "Requirement already satisfied: astunparse>=1.6.0 in /usr/local/lib/python3.10/dist-packages (from tensorflow) (1.6.3)\n",
            "Requirement already satisfied: flatbuffers>=24.3.25 in /usr/local/lib/python3.10/dist-packages (from tensorflow) (24.3.25)\n",
            "Requirement already satisfied: gast!=0.5.0,!=0.5.1,!=0.5.2,>=0.2.1 in /usr/local/lib/python3.10/dist-packages (from tensorflow) (0.6.0)\n",
            "Requirement already satisfied: google-pasta>=0.1.1 in /usr/local/lib/python3.10/dist-packages (from tensorflow) (0.2.0)\n",
            "Requirement already satisfied: h5py>=3.10.0 in /usr/local/lib/python3.10/dist-packages (from tensorflow) (3.11.0)\n",
            "Requirement already satisfied: libclang>=13.0.0 in /usr/local/lib/python3.10/dist-packages (from tensorflow) (18.1.1)\n",
            "Requirement already satisfied: ml-dtypes<0.5.0,>=0.3.1 in /usr/local/lib/python3.10/dist-packages (from tensorflow) (0.4.1)\n",
            "Requirement already satisfied: opt-einsum>=2.3.2 in /usr/local/lib/python3.10/dist-packages (from tensorflow) (3.4.0)\n",
            "Requirement already satisfied: packaging in /usr/local/lib/python3.10/dist-packages (from tensorflow) (24.1)\n",
            "Requirement already satisfied: protobuf!=4.21.0,!=4.21.1,!=4.21.2,!=4.21.3,!=4.21.4,!=4.21.5,<5.0.0dev,>=3.20.3 in /usr/local/lib/python3.10/dist-packages (from tensorflow) (3.20.3)\n",
            "Requirement already satisfied: requests<3,>=2.21.0 in /usr/local/lib/python3.10/dist-packages (from tensorflow) (2.32.3)\n",
            "Requirement already satisfied: setuptools in /usr/local/lib/python3.10/dist-packages (from tensorflow) (71.0.4)\n",
            "Requirement already satisfied: six>=1.12.0 in /usr/local/lib/python3.10/dist-packages (from tensorflow) (1.16.0)\n",
            "Requirement already satisfied: termcolor>=1.1.0 in /usr/local/lib/python3.10/dist-packages (from tensorflow) (2.4.0)\n",
            "Requirement already satisfied: typing-extensions>=3.6.6 in /usr/local/lib/python3.10/dist-packages (from tensorflow) (4.12.2)\n",
            "Requirement already satisfied: wrapt>=1.11.0 in /usr/local/lib/python3.10/dist-packages (from tensorflow) (1.16.0)\n",
            "Requirement already satisfied: grpcio<2.0,>=1.24.3 in /usr/local/lib/python3.10/dist-packages (from tensorflow) (1.64.1)\n",
            "Requirement already satisfied: tensorboard<2.18,>=2.17 in /usr/local/lib/python3.10/dist-packages (from tensorflow) (2.17.0)\n",
            "Requirement already satisfied: keras>=3.2.0 in /usr/local/lib/python3.10/dist-packages (from tensorflow) (3.4.1)\n",
            "Requirement already satisfied: tensorflow-io-gcs-filesystem>=0.23.1 in /usr/local/lib/python3.10/dist-packages (from tensorflow) (0.37.1)\n",
            "Requirement already satisfied: numpy<2.0.0,>=1.23.5 in /usr/local/lib/python3.10/dist-packages (from tensorflow) (1.26.4)\n",
            "Requirement already satisfied: wheel<1.0,>=0.23.0 in /usr/local/lib/python3.10/dist-packages (from astunparse>=1.6.0->tensorflow) (0.44.0)\n",
            "Requirement already satisfied: rich in /usr/local/lib/python3.10/dist-packages (from keras>=3.2.0->tensorflow) (13.8.1)\n",
            "Requirement already satisfied: namex in /usr/local/lib/python3.10/dist-packages (from keras>=3.2.0->tensorflow) (0.0.8)\n",
            "Requirement already satisfied: optree in /usr/local/lib/python3.10/dist-packages (from keras>=3.2.0->tensorflow) (0.12.1)\n",
            "Requirement already satisfied: charset-normalizer<4,>=2 in /usr/local/lib/python3.10/dist-packages (from requests<3,>=2.21.0->tensorflow) (3.3.2)\n",
            "Requirement already satisfied: idna<4,>=2.5 in /usr/local/lib/python3.10/dist-packages (from requests<3,>=2.21.0->tensorflow) (3.10)\n",
            "Requirement already satisfied: urllib3<3,>=1.21.1 in /usr/local/lib/python3.10/dist-packages (from requests<3,>=2.21.0->tensorflow) (2.2.3)\n",
            "Requirement already satisfied: certifi>=2017.4.17 in /usr/local/lib/python3.10/dist-packages (from requests<3,>=2.21.0->tensorflow) (2024.8.30)\n",
            "Requirement already satisfied: markdown>=2.6.8 in /usr/local/lib/python3.10/dist-packages (from tensorboard<2.18,>=2.17->tensorflow) (3.7)\n",
            "Requirement already satisfied: tensorboard-data-server<0.8.0,>=0.7.0 in /usr/local/lib/python3.10/dist-packages (from tensorboard<2.18,>=2.17->tensorflow) (0.7.2)\n",
            "Requirement already satisfied: werkzeug>=1.0.1 in /usr/local/lib/python3.10/dist-packages (from tensorboard<2.18,>=2.17->tensorflow) (3.0.4)\n",
            "Requirement already satisfied: MarkupSafe>=2.1.1 in /usr/local/lib/python3.10/dist-packages (from werkzeug>=1.0.1->tensorboard<2.18,>=2.17->tensorflow) (2.1.5)\n",
            "Requirement already satisfied: markdown-it-py>=2.2.0 in /usr/local/lib/python3.10/dist-packages (from rich->keras>=3.2.0->tensorflow) (3.0.0)\n",
            "Requirement already satisfied: pygments<3.0.0,>=2.13.0 in /usr/local/lib/python3.10/dist-packages (from rich->keras>=3.2.0->tensorflow) (2.18.0)\n",
            "Requirement already satisfied: mdurl~=0.1 in /usr/local/lib/python3.10/dist-packages (from markdown-it-py>=2.2.0->rich->keras>=3.2.0->tensorflow) (0.1.2)\n"
          ]
        }
      ],
      "source": [
        "!pip install tensorflow"
      ]
    },
    {
      "cell_type": "code",
      "execution_count": null,
      "metadata": {
        "colab": {
          "base_uri": "https://localhost:8080/"
        },
        "collapsed": true,
        "id": "XrFN3Fvjq3eK",
        "outputId": "fc438cec-bd6d-4456-e0c5-484ec507a043"
      },
      "outputs": [
        {
          "name": "stdout",
          "output_type": "stream",
          "text": [
            "Collecting cornac\n",
            "  Downloading cornac-2.2.2-cp310-cp310-manylinux1_x86_64.whl.metadata (36 kB)\n",
            "Requirement already satisfied: numpy<2.0.0 in /usr/local/lib/python3.10/dist-packages (from cornac) (1.26.4)\n",
            "Requirement already satisfied: scipy<=1.13.1 in /usr/local/lib/python3.10/dist-packages (from cornac) (1.13.1)\n",
            "Requirement already satisfied: tqdm in /usr/local/lib/python3.10/dist-packages (from cornac) (4.66.5)\n",
            "Collecting powerlaw (from cornac)\n",
            "  Downloading powerlaw-1.5-py3-none-any.whl.metadata (9.3 kB)\n",
            "Requirement already satisfied: matplotlib in /usr/local/lib/python3.10/dist-packages (from powerlaw->cornac) (3.7.1)\n",
            "Requirement already satisfied: mpmath in /usr/local/lib/python3.10/dist-packages (from powerlaw->cornac) (1.3.0)\n",
            "Requirement already satisfied: contourpy>=1.0.1 in /usr/local/lib/python3.10/dist-packages (from matplotlib->powerlaw->cornac) (1.3.0)\n",
            "Requirement already satisfied: cycler>=0.10 in /usr/local/lib/python3.10/dist-packages (from matplotlib->powerlaw->cornac) (0.12.1)\n",
            "Requirement already satisfied: fonttools>=4.22.0 in /usr/local/lib/python3.10/dist-packages (from matplotlib->powerlaw->cornac) (4.54.1)\n",
            "Requirement already satisfied: kiwisolver>=1.0.1 in /usr/local/lib/python3.10/dist-packages (from matplotlib->powerlaw->cornac) (1.4.7)\n",
            "Requirement already satisfied: packaging>=20.0 in /usr/local/lib/python3.10/dist-packages (from matplotlib->powerlaw->cornac) (24.1)\n",
            "Requirement already satisfied: pillow>=6.2.0 in /usr/local/lib/python3.10/dist-packages (from matplotlib->powerlaw->cornac) (10.4.0)\n",
            "Requirement already satisfied: pyparsing>=2.3.1 in /usr/local/lib/python3.10/dist-packages (from matplotlib->powerlaw->cornac) (3.1.4)\n",
            "Requirement already satisfied: python-dateutil>=2.7 in /usr/local/lib/python3.10/dist-packages (from matplotlib->powerlaw->cornac) (2.8.2)\n",
            "Requirement already satisfied: six>=1.5 in /usr/local/lib/python3.10/dist-packages (from python-dateutil>=2.7->matplotlib->powerlaw->cornac) (1.16.0)\n",
            "Downloading cornac-2.2.2-cp310-cp310-manylinux1_x86_64.whl (21.3 MB)\n",
            "\u001b[2K   \u001b[90m━━━━━━━━━━━━━━━━━━━━━━━━━━━━━━━━━━━━━━━━\u001b[0m \u001b[32m21.3/21.3 MB\u001b[0m \u001b[31m74.6 MB/s\u001b[0m eta \u001b[36m0:00:00\u001b[0m\n",
            "\u001b[?25hDownloading powerlaw-1.5-py3-none-any.whl (24 kB)\n",
            "Installing collected packages: powerlaw, cornac\n",
            "Successfully installed cornac-2.2.2 powerlaw-1.5\n"
          ]
        }
      ],
      "source": [
        "!pip install cornac"
      ]
    },
    {
      "cell_type": "code",
      "execution_count": null,
      "metadata": {
        "colab": {
          "base_uri": "https://localhost:8080/"
        },
        "collapsed": true,
        "id": "ZU9DKKLttW_K",
        "outputId": "af4e9e87-2540-4ffa-c8cb-8a53acbc59cc"
      },
      "outputs": [
        {
          "name": "stdout",
          "output_type": "stream",
          "text": [
            "Requirement already satisfied: torch in /usr/local/lib/python3.10/dist-packages (2.4.1+cu121)\n",
            "Requirement already satisfied: filelock in /usr/local/lib/python3.10/dist-packages (from torch) (3.16.1)\n",
            "Requirement already satisfied: typing-extensions>=4.8.0 in /usr/local/lib/python3.10/dist-packages (from torch) (4.12.2)\n",
            "Requirement already satisfied: sympy in /usr/local/lib/python3.10/dist-packages (from torch) (1.13.3)\n",
            "Requirement already satisfied: networkx in /usr/local/lib/python3.10/dist-packages (from torch) (3.3)\n",
            "Requirement already satisfied: jinja2 in /usr/local/lib/python3.10/dist-packages (from torch) (3.1.4)\n",
            "Requirement already satisfied: fsspec in /usr/local/lib/python3.10/dist-packages (from torch) (2024.6.1)\n",
            "Requirement already satisfied: MarkupSafe>=2.0 in /usr/local/lib/python3.10/dist-packages (from jinja2->torch) (2.1.5)\n",
            "Requirement already satisfied: mpmath<1.4,>=1.1.0 in /usr/local/lib/python3.10/dist-packages (from sympy->torch) (1.3.0)\n"
          ]
        }
      ],
      "source": [
        "!pip install torch"
      ]
    },
    {
      "cell_type": "code",
      "execution_count": null,
      "metadata": {
        "ExecuteTime": {
          "end_time": "2024-10-04T21:34:43.592411Z",
          "start_time": "2024-10-04T21:34:43.586459Z"
        },
        "colab": {
          "base_uri": "https://localhost:8080/"
        },
        "id": "uliVh2N2p-ja",
        "outputId": "463d8fb5-e693-451d-c5c1-fba1fdfbc924"
      },
      "outputs": [
        {
          "name": "stdout",
          "output_type": "stream",
          "text": [
            "2.2.2\n",
            "2.17.0\n",
            "2.4.1+cu121\n"
          ]
        }
      ],
      "source": [
        "import tensorflow as tf\n",
        "import cornac\n",
        "import torch\n",
        "print(cornac.__version__)\n",
        "print(tf.__version__)\n",
        "print(torch.__version__)"
      ]
    },
    {
      "cell_type": "code",
      "execution_count": null,
      "metadata": {
        "ExecuteTime": {
          "end_time": "2024-10-04T21:19:50.518538Z",
          "start_time": "2024-10-04T21:19:50.513640Z"
        },
        "id": "jX2je6z5p-ja"
      },
      "outputs": [],
      "source": [
        "import cornac\n",
        "from cornac.data import Dataset\n",
        "from cornac.models import RecVAE, MF, PMF, VAECF\n",
        "from cornac.eval_methods import RatioSplit\n",
        "from cornac.metrics import RMSE, MAP, NDCG"
      ]
    },
    {
      "cell_type": "code",
      "execution_count": null,
      "metadata": {
        "ExecuteTime": {
          "end_time": "2024-10-04T21:20:42.520517Z",
          "start_time": "2024-10-04T21:20:42.237565Z"
        },
        "colab": {
          "base_uri": "https://localhost:8080/"
        },
        "id": "ke7VZANIp-ja",
        "outputId": "283cacff-3493-4929-fdd2-192be8b13cef"
      },
      "outputs": [
        {
          "name": "stdout",
          "output_type": "stream",
          "text": [
            "rating_threshold = 1.0\n",
            "exclude_unknowns = True\n",
            "---\n",
            "Training data:\n",
            "Number of users = 610\n",
            "Number of items = 8581\n",
            "Number of ratings = 70585\n",
            "Max rating = 5.0\n",
            "Min rating = 0.5\n",
            "Global mean = 3.5\n",
            "---\n",
            "Test data:\n",
            "Number of users = 610\n",
            "Number of items = 8581\n",
            "Number of ratings = 28951\n",
            "Number of unknown users = 0\n",
            "Number of unknown items = 0\n",
            "---\n",
            "Total users = 610\n",
            "Total items = 8581\n"
          ]
        }
      ],
      "source": [
        "rating_data_cornac = ratings[['userId', 'movieId', 'rating']].values.tolist()\n",
        "\n",
        "eval_method = RatioSplit(\n",
        "    data=rating_data_cornac,\n",
        "    test_size=0.3,\n",
        "    exclude_unknowns=True,\n",
        "    verbose=True\n",
        ")"
      ]
    },
    {
      "cell_type": "code",
      "execution_count": null,
      "metadata": {
        "ExecuteTime": {
          "end_time": "2024-10-04T21:28:09.205457Z",
          "start_time": "2024-10-04T21:28:09.202423Z"
        },
        "id": "HxdXWogRp-jb"
      },
      "outputs": [],
      "source": [
        "recvae = RecVAE(\n",
        "    name='RecVae',\n",
        "    hidden_dim=600,\n",
        "    latent_dim=200,\n",
        "    batch_size=500,\n",
        "    beta=None,\n",
        "    gamma=0.005,\n",
        "    lr=0.0005,\n",
        "    n_epochs=50,\n",
        "    n_enc_epochs=3,\n",
        "    n_dec_epochs=1,\n",
        "    not_alternating=False,\n",
        "    trainable=True,\n",
        "    verbose=False,\n",
        "    seed=None,\n",
        "    use_gpu=True\n",
        "    )\n",
        "vaecf = VAECF(\n",
        "    name='VAECF',\n",
        "    k=10,\n",
        "    autoencoder_structure=[20],\n",
        "    act_fn='tanh',\n",
        "    likelihood='mult',\n",
        "    n_epochs=100,\n",
        "    batch_size=100,\n",
        "    learning_rate=0.001,\n",
        "    beta=1.0,\n",
        "    trainable=True,\n",
        "    verbose=False,\n",
        "    seed=None,\n",
        "    use_gpu=False\n",
        "    )\n",
        "mf = MF(k=10, max_iter=25, learning_rate=0.01, lambda_reg=0.02, use_bias=True, seed=123)\n",
        "pmf = PMF(k=10, max_iter=100, learning_rate=0.001, lambda_reg=0.001, seed=123)\n",
        "\n",
        "models = [recvae, vaecf, mf, pmf]"
      ]
    },
    {
      "cell_type": "code",
      "execution_count": null,
      "metadata": {
        "ExecuteTime": {
          "end_time": "2024-10-04T21:34:54.015030Z",
          "start_time": "2024-10-04T21:34:53.991740Z"
        },
        "colab": {
          "base_uri": "https://localhost:8080/",
          "height": 737,
          "referenced_widgets": [
            "65dcebcf9b6b4db89d42bce2a46da4ae",
            "67dc93bc408749c6b928a55c88f0fcad",
            "e138fd6b3d9c4a7f8fc33592ee47f7a7",
            "3914d84ec43b47e998ed580959f451db",
            "af201e0b75b6434cb2e10d89b3ec7766",
            "e5d2c272ecf948cf89e5345637a073c1",
            "ad6877c7d28d489a8d7777598d4224f4",
            "e1fe0085336544d3aa1dd47ae09fa839",
            "759b604ce7a844efba68004455f933e3",
            "4cb272f0c2b3480cb918c5b3e9618716",
            "ff8df50971994954ad19e711ed4d9818",
            "c493c9c3941a4f4b8dd7e07c34d9da01",
            "6627df3a74c14848905805f88e3e560b",
            "c5313e43e8e4470fb2321907374bbf1b",
            "272ef324f962435db65e4c55b975fa2d",
            "409142dd6fdd4d738b1e1fbc78dd5aa9",
            "c2b53dedd79d447c8209b4f33aacbf5b",
            "e65f0fc5945f4154a0268b0bdbe5022e",
            "8611c2ee2b7f4e00a17d0486974d283f",
            "d8d02506d6634a9ca6100bd3925198e4",
            "9cbfa4c9bf9c429a992ebfe4afbd1ea0",
            "7342395bc37e4745a5a436f0594cc37b",
            "06d40fbfe947418489e6d166c0bd4f32",
            "797cc6be6a6e423a8d6079780194d09f",
            "b9d25a97b2a244c79ab05f030f1f45ea",
            "a36681d13b034d10b07699506b714888",
            "32d124c321f84416a290cb75d51b1114",
            "5e423ed4edc54179bba6f4aed6c4c466",
            "df32b666df5b4c3fa353d62761965767",
            "5fb2ccb37a78434f8329c52887dca5cf",
            "47c1b5e008ce49bda1786b7ba3e6c8fa",
            "80cdc147ec51412b995d5b7827645c3b",
            "6f4409cec1a242379ff2e6e52e3322fb",
            "ebef7112c312456abccf4fe309b5e4f0",
            "c542169221e04446b40fbd493a4d95f0",
            "07d1c9ae6e844bc0aca56ce8225c0f46",
            "ee92a1568d2c4785abdd7a30005d5f1f",
            "f913555ccbf746818ee35007e663c6f1",
            "b910fc6f52ee408fbb9c57cdbbcafbe3",
            "ad83567ecad545128596a19598bc51b8",
            "61154e4b6e25494eae95ea61d327cf82",
            "041e6be48ce746b1adc941160d1cf2b4",
            "4314537ab4824ac9a0327ceabe6f04a6",
            "d07109fa144a4e7a96fb21c6b9943729",
            "bb381dafbc0d4be98c2853db0ca6f52f",
            "5d7ae050d27741d1abdec6dd539ff7d0",
            "9e3489d7e78f424987689214c1247ae1",
            "7165def1eb6643118c6a19d7a24ecf79",
            "03faf26730174a909b31121907a43534",
            "03790e53671f4db48d21532151b48cf1",
            "fd13ac105e0d42349da5cd2829de3acd",
            "3509f0bfe591485ea19b0797f94711b6",
            "b24cc0399c284b0eb2c8408eaf97a066",
            "46cec9f37e2b412a9717e7b91e6635ab",
            "e880ec0ff76041eeaa3e5a142be52f8c",
            "334f71e89a3a4029b530a81c55c3dfc7",
            "352f781bc4144ab79884b0ee066a2026",
            "9820be23d0cf4a8b9c96ba33b55b1aa1",
            "7ffa4a67ffb54a808e77b2fd6b4fbb2e",
            "7f32b1f5448442e09d3494f535fb4d97",
            "b152e321e9e7461f908116c60662bcec",
            "e4faddaebbab41678969c3984b3f62ae",
            "13674b259a734841ba3326bf8ffeb50c",
            "6a99bc2a5f7842c2b958a8ac8ac1d42b",
            "1788ca57fad84349878a8e6687418e55",
            "5e125267726c4bb8b7491659b646a73d",
            "cd3bc9f0e01741c885c26829eb262650",
            "9a80ea1d22c1485988323d588007cc9e",
            "b394883d3f0f4cc5bea5cf06bcd08edb",
            "c1b285d88b5f40f9985ada6792c9f038",
            "5e89206dff0d4252bdd3bf0af933b383",
            "203fd1771e714982b17a38e9cda92e98",
            "434e736ad24c4815adeb1fe5f5197b46",
            "c997de9c87b34f74bdb9e98a5f12a537",
            "6a43cd65c9f64a619bd80cb69d09a713",
            "21e8028f81ed467e9dcc3e882ac7d0c0",
            "f22d302853bb42bba4989d8ed90fe2ff",
            "e78ffb977ca2436f85fdb5f200b47e41",
            "fcbafd2eb41745d68ed1b45fef1ec62a",
            "11e5baa53b124bf7b361577ca6dadb8c",
            "4635ce19be584e10a479074ed45468b7",
            "dae380f0b57e42598b47d823eadb6faf",
            "e86c844a7dc148f9986039485ff82abd",
            "affd8bbd4f624aeb82db23854c7b8b5c",
            "36acc5bd6eb7432195d96c82063a6b24",
            "4116bd309399493fb089d0db0424c566",
            "e2856676bd8f495a89d4d5c521d7e90e",
            "d586ad55f60e4948bf4fa0a9474c7a95"
          ]
        },
        "id": "r7HGb6g4p-jb",
        "outputId": "2fb6dea4-c074-4bad-b46c-bbae12cb56cc"
      },
      "outputs": [
        {
          "name": "stdout",
          "output_type": "stream",
          "text": [
            "\n",
            "[RecVae] Training started!\n",
            "\n",
            "[RecVae] Evaluation started!\n"
          ]
        },
        {
          "data": {
            "application/vnd.jupyter.widget-view+json": {
              "model_id": "65dcebcf9b6b4db89d42bce2a46da4ae",
              "version_major": 2,
              "version_minor": 0
            },
            "text/plain": [
              "Rating:   0%|          | 0/28951 [00:00<?, ?it/s]"
            ]
          },
          "metadata": {},
          "output_type": "display_data"
        },
        {
          "data": {
            "application/vnd.jupyter.widget-view+json": {
              "model_id": "c493c9c3941a4f4b8dd7e07c34d9da01",
              "version_major": 2,
              "version_minor": 0
            },
            "text/plain": [
              "Ranking:   0%|          | 0/610 [00:00<?, ?it/s]"
            ]
          },
          "metadata": {},
          "output_type": "display_data"
        },
        {
          "name": "stdout",
          "output_type": "stream",
          "text": [
            "\n",
            "[VAECF] Training started!\n",
            "\n",
            "[VAECF] Evaluation started!\n"
          ]
        },
        {
          "data": {
            "application/vnd.jupyter.widget-view+json": {
              "model_id": "06d40fbfe947418489e6d166c0bd4f32",
              "version_major": 2,
              "version_minor": 0
            },
            "text/plain": [
              "Rating:   0%|          | 0/28951 [00:00<?, ?it/s]"
            ]
          },
          "metadata": {},
          "output_type": "display_data"
        },
        {
          "data": {
            "application/vnd.jupyter.widget-view+json": {
              "model_id": "ebef7112c312456abccf4fe309b5e4f0",
              "version_major": 2,
              "version_minor": 0
            },
            "text/plain": [
              "Ranking:   0%|          | 0/610 [00:00<?, ?it/s]"
            ]
          },
          "metadata": {},
          "output_type": "display_data"
        },
        {
          "name": "stdout",
          "output_type": "stream",
          "text": [
            "\n",
            "[MF] Training started!\n",
            "\n",
            "[MF] Evaluation started!\n"
          ]
        },
        {
          "data": {
            "application/vnd.jupyter.widget-view+json": {
              "model_id": "bb381dafbc0d4be98c2853db0ca6f52f",
              "version_major": 2,
              "version_minor": 0
            },
            "text/plain": [
              "Rating:   0%|          | 0/28951 [00:00<?, ?it/s]"
            ]
          },
          "metadata": {},
          "output_type": "display_data"
        },
        {
          "data": {
            "application/vnd.jupyter.widget-view+json": {
              "model_id": "334f71e89a3a4029b530a81c55c3dfc7",
              "version_major": 2,
              "version_minor": 0
            },
            "text/plain": [
              "Ranking:   0%|          | 0/610 [00:00<?, ?it/s]"
            ]
          },
          "metadata": {},
          "output_type": "display_data"
        },
        {
          "name": "stdout",
          "output_type": "stream",
          "text": [
            "\n",
            "[PMF] Training started!\n",
            "\n",
            "[PMF] Evaluation started!\n"
          ]
        },
        {
          "data": {
            "application/vnd.jupyter.widget-view+json": {
              "model_id": "cd3bc9f0e01741c885c26829eb262650",
              "version_major": 2,
              "version_minor": 0
            },
            "text/plain": [
              "Rating:   0%|          | 0/28951 [00:00<?, ?it/s]"
            ]
          },
          "metadata": {},
          "output_type": "display_data"
        },
        {
          "data": {
            "application/vnd.jupyter.widget-view+json": {
              "model_id": "e78ffb977ca2436f85fdb5f200b47e41",
              "version_major": 2,
              "version_minor": 0
            },
            "text/plain": [
              "Ranking:   0%|          | 0/610 [00:00<?, ?it/s]"
            ]
          },
          "metadata": {},
          "output_type": "display_data"
        },
        {
          "name": "stdout",
          "output_type": "stream",
          "text": [
            "\n",
            "TEST:\n",
            "...\n",
            "       |   RMSE |    MAP | NDCG@1 | NDCG@10 | NDCG@20 | NDCG@30 | NDCG@40 | NDCG@5 | NDCG@50 | Train (s) | Test (s)\n",
            "------ + ------ + ------ + ------ + ------- + ------- + ------- + ------- + ------ + ------- + --------- + --------\n",
            "RecVae | 1.9927 | 0.1511 | 0.3131 |  0.2580 |  0.2551 |  0.2586 |  0.2676 | 0.2728 |  0.2751 |   87.3859 |  54.1837\n",
            "VAECF  | 3.3017 | 0.1734 | 0.3738 |  0.3010 |  0.2885 |  0.2892 |  0.2929 | 0.3286 |  0.2980 |   19.9479 |  22.0889\n",
            "MF     | 0.8671 | 0.0197 | 0.0443 |  0.0455 |  0.0453 |  0.0458 |  0.0471 | 0.0454 |  0.0484 |    0.0567 |   2.9028\n",
            "PMF    | 0.8903 | 0.0276 | 0.0557 |  0.0614 |  0.0593 |  0.0608 |  0.0635 | 0.0646 |  0.0663 |    3.4210 |   4.4888\n",
            "\n"
          ]
        }
      ],
      "source": [
        "metrics = [RMSE(),\n",
        "           MAP(),\n",
        "           NDCG(k=1),\n",
        "           NDCG(k=5),\n",
        "           NDCG(k=10),\n",
        "           NDCG(k=20),\n",
        "           NDCG(k=30),\n",
        "           NDCG(k=40),\n",
        "           NDCG(k=50)\n",
        "          ]\n",
        "\n",
        "exp = cornac.Experiment(\n",
        "    eval_method=eval_method,\n",
        "    models=models,\n",
        "    metrics=metrics\n",
        ")\n",
        "exp.run()"
      ]
    },
    {
      "cell_type": "code",
      "execution_count": null,
      "metadata": {
        "id": "RDie8asZ74iO"
      },
      "outputs": [],
      "source": [
        "#Создаём маппинги для пользователей\n",
        "external_to_internal_user_map = {user_id: i for i, user_id in enumerate(eval_method.train_set.user_ids)}\n",
        "internal_to_external_user_map = {i: user_id for i, user_id in enumerate(eval_method.train_set.user_ids)}\n",
        "\n",
        "# Создаём маппинги для фильмов\n",
        "external_to_internal_item_map = {item_id: i for i, item_id in enumerate(eval_method.train_set.item_ids)}\n",
        "internal_to_external_item_map = {i: item_id for i, item_id in enumerate(eval_method.train_set.item_ids)}\n",
        "\n",
        "# Функция для извлечения топ-K рекомендаций для всех пользователей\n",
        "def get_top_k_recommendations(model, eval_method, k=50):\n",
        "    user_ids = eval_method.test_set.user_ids\n",
        "    all_recommendations = []\n",
        "    for user_id in user_ids:\n",
        "        if user_id not in external_to_internal_user_map:\n",
        "            continue\n",
        "        internal_user_id = external_to_internal_user_map[user_id]\n",
        "        if internal_user_id >= eval_method.test_set.matrix.shape[0]:\n",
        "            continue\n",
        "        scores = model.score(internal_user_id).flatten()\n",
        "        top_k_indices = scores.argsort()[::-1][:k]\n",
        "        try:\n",
        "            top_k_items = [internal_to_external_item_map[idx] for idx in top_k_indices]\n",
        "        except KeyError as e:\n",
        "            top_k_items = []\n",
        "        all_recommendations.append((user_id, top_k_items))\n",
        "    return all_recommendations"
      ]
    },
    {
      "cell_type": "code",
      "execution_count": null,
      "metadata": {
        "id": "aZHDra61929i"
      },
      "outputs": [],
      "source": [
        "# Функция для получения фактических элементов из тестовой выборки\n",
        "def get_actual_items(eval_method):\n",
        "    actual_list = []\n",
        "    for user_id in eval_method.test_set.user_ids:\n",
        "        if user_id not in external_to_internal_user_map:\n",
        "            actual_list.append([])\n",
        "            continue\n",
        "        internal_user_id = external_to_internal_user_map[user_id]\n",
        "        if internal_user_id >= eval_method.test_set.matrix.shape[0]:\n",
        "            actual_list.append([])\n",
        "            continue\n",
        "        user_interactions = eval_method.test_set.matrix[internal_user_id].indices\n",
        "        external_item_ids = [internal_to_external_item_map[idx] for idx in user_interactions]\n",
        "        actual_list.append(external_item_ids)\n",
        "    return actual_list"
      ]
    },
    {
      "cell_type": "code",
      "execution_count": null,
      "metadata": {
        "colab": {
          "base_uri": "https://localhost:8080/"
        },
        "id": "eEr-AD6wA598",
        "outputId": "0058b83a-fddf-4b37-beb3-0aad46fe1fe6"
      },
      "outputs": [
        {
          "name": "stdout",
          "output_type": "stream",
          "text": [
            "\n",
            "Расчёт метрик для модели: RecVae\n",
            "Новизна для модели RecVae: 3.179583941499449\n",
            "Разнообразие для модели RecVae: 0.8061352923051819\n",
            "\n",
            "MAP@K и NDCG@K для модели RecVae:\n",
            "    K     MAP@K    NDCG@K\n",
            "0   1  0.049180  0.049180\n",
            "1   5  0.039117  0.080597\n",
            "2  10  0.031495  0.087305\n",
            "3  20  0.030275  0.104348\n",
            "4  30  0.032787  0.121266\n",
            "5  40  0.035356  0.134819\n",
            "6  50  0.038218  0.148154\n",
            "\n",
            "Расчёт метрик для модели: VAECF\n",
            "Новизна для модели VAECF: 2.3623756149750377\n",
            "Разнообразие для модели VAECF: 0.8130725133570567\n",
            "\n",
            "MAP@K и NDCG@K для модели VAECF:\n",
            "    K     MAP@K    NDCG@K\n",
            "0   1  0.129508  0.129508\n",
            "1   5  0.078932  0.140924\n",
            "2  10  0.060197  0.139478\n",
            "3  20  0.051213  0.142722\n",
            "4  30  0.050611  0.152652\n",
            "5  40  0.050936  0.160338\n",
            "6  50  0.052211  0.168753\n",
            "\n",
            "Расчёт метрик для модели: MF\n",
            "Новизна для модели MF: 5.07039660550948\n",
            "Разнообразие для модели MF: 0.7780379656624555\n",
            "\n",
            "MAP@K и NDCG@K для модели MF:\n",
            "    K     MAP@K    NDCG@K\n",
            "0   1  0.006557  0.006557\n",
            "1   5  0.006448  0.015817\n",
            "2  10  0.005586  0.019458\n",
            "3  20  0.004915  0.023706\n",
            "4  30  0.004801  0.027176\n",
            "5  40  0.004840  0.030747\n",
            "6  50  0.004998  0.033731\n",
            "\n",
            "Расчёт метрик для модели: PMF\n",
            "Новизна для модели PMF: 4.24347305843234\n",
            "Разнообразие для модели PMF: 0.8063635947190982\n",
            "\n",
            "MAP@K и NDCG@K для модели PMF:\n",
            "    K     MAP@K    NDCG@K\n",
            "0   1  0.063934  0.063934\n",
            "1   5  0.030497  0.057957\n",
            "2  10  0.021772  0.058341\n",
            "3  20  0.017206  0.062857\n",
            "4  30  0.015787  0.066677\n",
            "5  40  0.015375  0.069622\n",
            "6  50  0.015290  0.073330\n"
          ]
        }
      ],
      "source": [
        "def calculate_metrics_for_model(model, eval_method, k=50):\n",
        "    recommendations = get_top_k_recommendations(model, eval_method, k=k)\n",
        "\n",
        "    predicted_list = [rec for _, rec in recommendations]\n",
        "    predicted_list = [[int(item) for item in rec] for rec in predicted_list]\n",
        "\n",
        "    actual_list = get_actual_items(eval_method)\n",
        "\n",
        "    novelty_score = calculate_novelty(predicted_list, item_popularity, total_users)\n",
        "    print(f\"Новизна для модели {model.name}: {novelty_score}\")\n",
        "\n",
        "    diversity_score = calculate_diversity(predicted_list, item_features)\n",
        "    print(f\"Разнообразие для модели {model.name}: {diversity_score}\")\n",
        "\n",
        "    metrics_df = compute_metrics_at_k(k_values, actual_list, predicted_list)\n",
        "    print(f\"\\nMAP@K и NDCG@K для модели {model.name}:\")\n",
        "    print(metrics_df)\n",
        "\n",
        "    return {\n",
        "        'novelty': novelty_score,\n",
        "        'diversity': diversity_score,\n",
        "        'map_ndcg': metrics_df\n",
        "    }\n",
        "\n",
        "# Запускаем расчет метрик для всех моделей\n",
        "for model in exp.models:\n",
        "    print(f\"\\nРасчёт метрик для модели: {model.name}\")\n",
        "    results = calculate_metrics_for_model(model, eval_method, k=50)"
      ]
    },
    {
      "cell_type": "markdown",
      "metadata": {
        "id": "fIuXXRNKfBts"
      },
      "source": [
        "- User-based"
      ]
    },
    {
      "cell_type": "code",
      "execution_count": null,
      "metadata": {
        "ExecuteTime": {
          "end_time": "2024-10-06T10:06:37.055212Z",
          "start_time": "2024-10-06T10:06:36.260034Z"
        },
        "id": "kCBdD0i-p-jc"
      },
      "outputs": [],
      "source": [
        "user_item_matrix = train_data.pivot_table(index='userId', columns='movieId', values='rating')\n",
        "user_item_matrix = user_item_matrix.apply(lambda row: row.fillna(row.mean()), axis=1)\n",
        "user_similarity = cosine_similarity(user_item_matrix)\n",
        "user_similarity_df = pd.DataFrame(user_similarity, index=user_item_matrix.index, columns=user_item_matrix.index)\n",
        "\n",
        "user_mean_ratings = user_item_matrix.mean(axis=1)\n",
        "user_item_matrix_centered = user_item_matrix.sub(user_mean_ratings, axis=0).fillna(0)\n",
        "\n",
        "weighted_sum = user_similarity_df.values.dot(user_item_matrix_centered.values)\n",
        "sum_of_weights = np.abs(user_similarity_df.values).sum(axis=1).reshape(-1, 1)\n",
        "sum_of_weights[sum_of_weights == 0] = 1e-8\n",
        "\n",
        "predicted_ratings = user_mean_ratings.values.reshape(-1, 1) + (weighted_sum / sum_of_weights)\n",
        "predicted_ratings_df = pd.DataFrame(predicted_ratings, index=user_item_matrix.index, columns=user_item_matrix.columns)"
      ]
    },
    {
      "cell_type": "code",
      "execution_count": null,
      "metadata": {
        "ExecuteTime": {
          "end_time": "2024-10-06T10:06:51.888277Z",
          "start_time": "2024-10-06T10:06:50.527794Z"
        },
        "id": "QbSzt6GXp-jc"
      },
      "outputs": [],
      "source": [
        "# Соединяем test_data с предсказанными рейтингами\n",
        "test_data_with_pred = test_data.merge(\n",
        "    predicted_ratings_df.stack().rename('predicted_rating').reset_index(),\n",
        "    on=['userId', 'movieId'],\n",
        "    how='left'\n",
        ")"
      ]
    },
    {
      "cell_type": "code",
      "execution_count": null,
      "metadata": {
        "ExecuteTime": {
          "end_time": "2024-10-05T19:54:01.826975Z",
          "start_time": "2024-10-05T19:54:01.783128Z"
        },
        "id": "tmvD4-vOp-jc",
        "outputId": "fee241b8-0ed3-41fe-d528-dbe9418c566f"
      },
      "outputs": [
        {
          "name": "stdout",
          "output_type": "stream",
          "text": [
            "RMSE для user-based коллаборативной фильтрации: 0.9359365825238048\n"
          ]
        }
      ],
      "source": [
        "# Удаляем записи с отсутствующими предсказаниями\n",
        "valid_predictions = test_data_with_pred.dropna(subset=['predicted_rating'])\n",
        "\n",
        "# Вычисляем RMSE\n",
        "rmse_user_based = sqrt(mean_squared_error(valid_predictions['rating'], valid_predictions['predicted_rating']))\n",
        "print(f\"RMSE для user-based коллаборативной фильтрации: {rmse_user_based}\")"
      ]
    },
    {
      "cell_type": "code",
      "execution_count": null,
      "metadata": {
        "ExecuteTime": {
          "end_time": "2024-10-05T19:54:08.332996Z",
          "start_time": "2024-10-05T19:54:07.213769Z"
        },
        "id": "GZVZnL1Qp-jc"
      },
      "outputs": [],
      "source": [
        "users = test_data['userId'].unique()\n",
        "actual_dict = test_data.groupby('userId')['movieId'].apply(list).to_dict()\n",
        "predicted_dict = {}\n",
        "\n",
        "# Для каждого пользователя получаем топ-K рекомендаций\n",
        "for user_id in users:\n",
        "    # Фильмы, которые пользователь уже видел\n",
        "    user_seen_movies = train_data[train_data['userId'] == user_id]['movieId'].tolist()\n",
        "\n",
        "    # Предсказанные рейтинги для пользователя\n",
        "    user_pred_ratings = predicted_ratings_df.loc[user_id].drop(user_seen_movies, errors='ignore')\n",
        "\n",
        "    user_top_movies = user_pred_ratings.sort_values(ascending=False).head(max(k_values)).index.tolist()\n",
        "\n",
        "    predicted_dict[user_id] = user_top_movies\n",
        "\n",
        "actual_list_user_based = [actual_dict[user] for user in users]\n",
        "predicted_list_user_based = [predicted_dict[user] for user in users]"
      ]
    },
    {
      "cell_type": "code",
      "execution_count": null,
      "metadata": {
        "ExecuteTime": {
          "end_time": "2024-10-05T19:54:09.352490Z",
          "start_time": "2024-10-05T19:54:09.068431Z"
        },
        "id": "7KRxnRsMp-jd",
        "outputId": "8f0b4f5f-4b85-47f2-cfc0-90826cd8527a"
      },
      "outputs": [
        {
          "name": "stdout",
          "output_type": "stream",
          "text": [
            "Метрики MAP@k и NDCG@ (User-based CF)\n",
            "    K     MAP@K    NDCG@K\n",
            "0   1  0.311475  0.311475\n",
            "1   5  0.186503  0.262313\n",
            "2  10  0.136043  0.228271\n",
            "3  20  0.104509  0.208608\n",
            "4  30  0.092480  0.203191\n",
            "5  40  0.085999  0.202057\n",
            "6  50  0.081956  0.203189\n"
          ]
        }
      ],
      "source": [
        "metrics_user_based_df = compute_metrics_at_k(k_values, actual_list_user_based, predicted_list_user_based)\n",
        "print(\"Метрики MAP@k и NDCG@ (User-based CF)\")\n",
        "print(metrics_user_based_df)"
      ]
    },
    {
      "cell_type": "code",
      "execution_count": null,
      "metadata": {
        "ExecuteTime": {
          "end_time": "2024-10-05T19:54:12.450089Z",
          "start_time": "2024-10-05T19:54:11.667221Z"
        },
        "id": "cqqMlfmLp-jd",
        "outputId": "8b69f1a6-184d-4bbc-ebfe-468e4397aa66"
      },
      "outputs": [
        {
          "name": "stdout",
          "output_type": "stream",
          "text": [
            "Новизна рекомендаций для user-based: 2.521225805723824\n",
            "Разнообразие рекомендаций для user-based: 0.8206974157287641\n"
          ]
        }
      ],
      "source": [
        "# Рассчитываем новизну\n",
        "novelty_score = calculate_novelty(predicted_list_user_based, item_popularity, total_users)\n",
        "print(f\"Новизна рекомендаций для user-based: {novelty_score}\")\n",
        "\n",
        "# Рассчитываем разнообразие\n",
        "diversity_score = calculate_diversity(predicted_list_user_based, item_features)\n",
        "print(f\"Разнообразие рекомендаций для user-based: {diversity_score}\")"
      ]
    },
    {
      "cell_type": "markdown",
      "metadata": {
        "id": "JU9hJrinOuak"
      },
      "source": [
        "- Item-based"
      ]
    },
    {
      "cell_type": "code",
      "execution_count": null,
      "metadata": {
        "ExecuteTime": {
          "end_time": "2024-10-06T11:40:22.599168Z",
          "start_time": "2024-10-06T11:40:20.410434Z"
        },
        "id": "VHF-OgAvp-jd"
      },
      "outputs": [],
      "source": [
        "item_user_matrix = train_data.pivot_table(index='movieId', columns='userId', values='rating')\n",
        "item_user_matrix = item_user_matrix.apply(lambda row: row.fillna(row.mean()), axis=1)"
      ]
    },
    {
      "cell_type": "code",
      "execution_count": null,
      "metadata": {
        "ExecuteTime": {
          "end_time": "2024-10-06T11:40:24.380258Z",
          "start_time": "2024-10-06T11:40:22.601880Z"
        },
        "id": "r8-zqi2Op-je"
      },
      "outputs": [],
      "source": [
        "item_mean_ratings = item_user_matrix.mean(axis=1)\n",
        "\n",
        "item_user_matrix_centered = item_user_matrix.sub(item_mean_ratings, axis=0).fillna(0)\n",
        "\n",
        "item_similarity = cosine_similarity(item_user_matrix)\n",
        "item_similarity_df = pd.DataFrame(item_similarity, index=item_user_matrix.index, columns=item_user_matrix.index)"
      ]
    },
    {
      "cell_type": "code",
      "execution_count": null,
      "metadata": {
        "ExecuteTime": {
          "end_time": "2024-10-06T11:40:26.537511Z",
          "start_time": "2024-10-06T11:40:24.382981Z"
        },
        "id": "p6lyeqwKp-je"
      },
      "outputs": [],
      "source": [
        "weighted_sum = item_similarity_df.values.dot(item_user_matrix_centered.values)\n",
        "sum_of_weights = np.abs(item_similarity_df.values).sum(axis=1).reshape(-1, 1)\n",
        "\n",
        "sum_of_weights[sum_of_weights == 0] = 1e-8\n",
        "\n",
        "predicted_ratings = item_mean_ratings.values.reshape(-1, 1) + (weighted_sum / sum_of_weights)\n",
        "predicted_ratings_item_based_df = pd.DataFrame(predicted_ratings, index=item_user_matrix.index, columns=item_user_matrix.columns)\n",
        "predicted_ratings_item_based_df = predicted_ratings_item_based_df.transpose()"
      ]
    },
    {
      "cell_type": "code",
      "execution_count": null,
      "metadata": {
        "ExecuteTime": {
          "end_time": "2024-10-06T11:40:28.178234Z",
          "start_time": "2024-10-06T11:40:26.540892Z"
        },
        "id": "mPv7cjjEp-je"
      },
      "outputs": [],
      "source": [
        "test_data_with_pred_item = test_data.merge(\n",
        "    predicted_ratings_item_based_df.stack().rename('predicted_rating').reset_index(),\n",
        "    on=['userId', 'movieId'],\n",
        "    how='left'\n",
        ")"
      ]
    },
    {
      "cell_type": "code",
      "execution_count": null,
      "metadata": {
        "ExecuteTime": {
          "end_time": "2024-10-06T11:40:28.191334Z",
          "start_time": "2024-10-06T11:40:28.180895Z"
        },
        "id": "u1Rgrof1p-je",
        "outputId": "2c0a67aa-c8bd-43c4-ce4a-50c20b6be70b"
      },
      "outputs": [
        {
          "name": "stdout",
          "output_type": "stream",
          "text": [
            "RMSE для item-based коллаборативной фильтрации: 0.9724934050397992\n"
          ]
        }
      ],
      "source": [
        "valid_predictions = test_data_with_pred_item.dropna(subset=['predicted_rating'])\n",
        "rmse_item_based = sqrt(mean_squared_error(valid_predictions['rating'], valid_predictions['predicted_rating']))\n",
        "print(f\"RMSE для item-based коллаборативной фильтрации: {rmse_item_based}\")"
      ]
    },
    {
      "cell_type": "code",
      "execution_count": null,
      "metadata": {
        "ExecuteTime": {
          "end_time": "2024-10-06T11:44:10.774852Z",
          "start_time": "2024-10-06T11:44:05.881459Z"
        },
        "id": "D6XxX0Oep-jf"
      },
      "outputs": [],
      "source": [
        "def generate_recommendations_item_based(user_id, k=50):\n",
        "    if user_id not in predicted_ratings_item_based_df.index:\n",
        "        return user_id, []\n",
        "\n",
        "    user_rated_movies = set(train_data[train_data['userId'] == user_id]['movieId'])\n",
        "    user_predicted_ratings = predicted_ratings_item_based_df.loc[user_id].drop(user_rated_movies, errors='ignore').dropna()\n",
        "    user_predicted_ratings = user_predicted_ratings.sort_values(ascending=False).head(k)\n",
        "\n",
        "    return user_id, list(user_predicted_ratings.index)\n",
        "\n",
        "# Генерация рекомендаций для всех пользователей\n",
        "results_item_based = Parallel(n_jobs=-1)(delayed(generate_recommendations_item_based)(user_id) for user_id in test_data['userId'].unique())\n",
        "predicted_dict_item_based = {user_id: recommended_movies for user_id, recommended_movies in results_item_based}"
      ]
    },
    {
      "cell_type": "code",
      "execution_count": null,
      "metadata": {
        "ExecuteTime": {
          "end_time": "2024-10-06T11:44:12.360779Z",
          "start_time": "2024-10-06T11:44:12.336729Z"
        },
        "id": "HIoNZwXMp-jf"
      },
      "outputs": [],
      "source": [
        "# Формируем списки для метрик\n",
        "actual_dict_item_based = test_data.groupby('userId')['movieId'].apply(list).to_dict()\n",
        "actual_list_item_based = [actual_dict_item_based.get(user_id, []) for user_id in test_data['userId'].unique()]\n",
        "predicted_list_item_based = [predicted_dict_item_based.get(user_id, []) for user_id in test_data['userId'].unique()]"
      ]
    },
    {
      "cell_type": "code",
      "execution_count": null,
      "metadata": {
        "ExecuteTime": {
          "end_time": "2024-10-06T11:44:13.620028Z",
          "start_time": "2024-10-06T11:44:13.338085Z"
        },
        "id": "STwiz3aip-jf",
        "outputId": "25566b35-bd84-41e1-a010-88c9345f7268"
      },
      "outputs": [
        {
          "name": "stdout",
          "output_type": "stream",
          "text": [
            "Метрики MAP@K и NDCG@K для item-based коллаборативной фильтрации:\n",
            "    K     MAP@K    NDCG@K\n",
            "0   1  0.000000  0.000000\n",
            "1   5  0.000000  0.000000\n",
            "2  10  0.000016  0.000104\n",
            "3  20  0.000015  0.000128\n",
            "4  30  0.000019  0.000215\n",
            "5  40  0.000016  0.000207\n",
            "6  50  0.000016  0.000273\n"
          ]
        }
      ],
      "source": [
        "metrics_df_item_based = compute_metrics_at_k(k_values, actual_list_item_based, predicted_list_item_based)\n",
        "\n",
        "print(\"Метрики MAP@K и NDCG@K для item-based коллаборативной фильтрации:\")\n",
        "print(metrics_df_item_based)"
      ]
    },
    {
      "cell_type": "code",
      "execution_count": null,
      "metadata": {
        "ExecuteTime": {
          "end_time": "2024-10-06T11:45:01.741435Z",
          "start_time": "2024-10-06T11:45:00.980361Z"
        },
        "id": "YdeHXer4p-jf",
        "outputId": "1209568f-67ab-4c85-950f-3131ebf4f9c6"
      },
      "outputs": [
        {
          "name": "stdout",
          "output_type": "stream",
          "text": [
            "Новизна рекомендаций для item-based: 9.226894940646979\n",
            "Разнообразие рекомендаций для item-based: 0.8391299866707027\n"
          ]
        }
      ],
      "source": [
        "novelty_score_item_based = calculate_novelty(predicted_list_item_based, item_popularity, total_users)\n",
        "print(f\"Новизна рекомендаций для item-based: {novelty_score_item_based}\")\n",
        "\n",
        "diversity_score_item_based = calculate_diversity(predicted_list_item_based, item_features)\n",
        "print(f\"Разнообразие рекомендаций для item-based: {diversity_score_item_based}\")"
      ]
    },
    {
      "cell_type": "markdown",
      "metadata": {
        "id": "NlCDLaXuWesA"
      },
      "source": [
        "- На основе кластеризации"
      ]
    },
    {
      "cell_type": "code",
      "execution_count": null,
      "metadata": {
        "ExecuteTime": {
          "end_time": "2024-10-05T08:07:20.511187Z",
          "start_time": "2024-10-05T08:04:43.159948Z"
        },
        "id": "hiIH9iwdp-jg",
        "outputId": "d1ea649a-90a9-4595-a1fa-7010ff1385ee"
      },
      "outputs": [
        {
          "name": "stderr",
          "output_type": "stream",
          "text": [
            "/Users/natalyakuzmina/anaconda3/lib/python3.11/site-packages/sklearn/cluster/_kmeans.py:1412: FutureWarning: The default value of `n_init` will change from 10 to 'auto' in 1.4. Set the value of `n_init` explicitly to suppress the warning\n",
            "  super()._check_params_vs_input(X, default_n_init=10)\n"
          ]
        },
        {
          "name": "stdout",
          "output_type": "stream",
          "text": [
            "RMSE: 1.0602847460379747\n"
          ]
        }
      ],
      "source": [
        "# Кластеризация пользователей\n",
        "user_item_matrix = train_data.pivot_table(index='userId', columns='movieId', values='rating')\n",
        "user_item_matrix = user_item_matrix.apply(lambda row: row.fillna(row.mean()), axis=1)\n",
        "user_clusters = KMeans(n_clusters=10, random_state=42).fit_predict(user_item_matrix)\n",
        "def predict_rating_user_based(user_id, movie_id):\n",
        "    if user_id not in user_item_matrix.index:\n",
        "        return np.nan\n",
        "    cluster = user_clusters[user_item_matrix.index.get_loc(user_id)]\n",
        "    cluster_users = train_data[train_data['userId'].isin(np.where(user_clusters == cluster)[0])]\n",
        "    cluster_movie_ratings = cluster_users[cluster_users['movieId'] == movie_id]\n",
        "    return cluster_movie_ratings['rating'].mean() if not cluster_movie_ratings.empty else np.nan\n",
        "\n",
        "test_data['predicted_rating_user_cluster'] = test_data.apply(lambda x: predict_rating_user_based(x['userId'], x['movieId']), axis=1)\n",
        "valid_predictions = test_data.dropna(subset=['predicted_rating_user_cluster'])\n",
        "rmse_cluster_user = np.sqrt(mean_squared_error(valid_predictions['rating'], valid_predictions['predicted_rating_user_cluster']))\n",
        "print(f'RMSE: {rmse_cluster_user}')"
      ]
    },
    {
      "cell_type": "code",
      "execution_count": null,
      "metadata": {
        "ExecuteTime": {
          "end_time": "2024-10-05T14:25:30.479306Z",
          "start_time": "2024-10-05T12:56:40.538554Z"
        },
        "id": "sW2hFQWnp-jg"
      },
      "outputs": [],
      "source": [
        "from joblib import Parallel, delayed\n",
        "\n",
        "# Функция для генерации рекомендаций для одного пользователя\n",
        "def generate_recommendations(user_id):\n",
        "    user_rated_movies = train_data[train_data['userId'] == user_id]['movieId'].tolist()\n",
        "\n",
        "    predicted_ratings = {}\n",
        "    for movie_id in user_item_matrix.columns:\n",
        "        if movie_id not in user_rated_movies:\n",
        "            predicted_rating = predict_rating_user_based(user_id, movie_id)\n",
        "            if not np.isnan(predicted_rating):\n",
        "                predicted_ratings[movie_id] = predicted_rating\n",
        "\n",
        "    top_k_movies = sorted(predicted_ratings.items(), key=lambda x: x[1], reverse=True)[:k]\n",
        "    return user_id, [movie for movie, rating in top_k_movies]\n",
        "\n",
        "# Параллельная генерация рекомендаций\n",
        "results = Parallel(n_jobs=-1)(delayed(generate_recommendations)(user_id) for user_id in users)\n",
        "predicted_dict = dict(results)"
      ]
    },
    {
      "cell_type": "code",
      "execution_count": null,
      "metadata": {
        "ExecuteTime": {
          "end_time": "2024-10-05T14:25:30.522228Z",
          "start_time": "2024-10-05T14:25:30.486144Z"
        },
        "id": "8pidZaQrp-jg"
      },
      "outputs": [],
      "source": [
        "actual_dict = test_data.groupby('userId')['movieId'].apply(list).to_dict()\n",
        "actual_list_cluster_user = [actual_dict.get(user_id, []) for user_id in users]\n",
        "predicted_list_cluster_user = [predicted_dict.get(user_id, []) for user_id in users]"
      ]
    },
    {
      "cell_type": "code",
      "execution_count": null,
      "metadata": {
        "ExecuteTime": {
          "end_time": "2024-10-05T14:25:30.848912Z",
          "start_time": "2024-10-05T14:25:30.525208Z"
        },
        "id": "lbzz1hxDp-jg",
        "outputId": "f985ce1a-e355-43ba-867b-f61b921b35df"
      },
      "outputs": [
        {
          "name": "stdout",
          "output_type": "stream",
          "text": [
            "Метрики MAP@K и NDCG@K для кластеризации пользователей:\n",
            "    K     MAP@K    NDCG@K\n",
            "0   1  0.003279  0.003279\n",
            "1   5  0.003131  0.006740\n",
            "2  10  0.002247  0.007222\n",
            "3  20  0.001694  0.007627\n",
            "4  30  0.001555  0.008867\n",
            "5  40  0.001476  0.009353\n",
            "6  50  0.001423  0.009665\n"
          ]
        }
      ],
      "source": [
        "metrics_df_cluster_user = compute_metrics_at_k(k_values, actual_list_cluster_user, predicted_list_cluster_user)\n",
        "\n",
        "print(\"Метрики MAP@K и NDCG@K для кластеризации пользователей:\")\n",
        "print(metrics_df_cluster_user)"
      ]
    },
    {
      "cell_type": "code",
      "execution_count": null,
      "metadata": {
        "ExecuteTime": {
          "end_time": "2024-10-05T19:49:59.148020Z",
          "start_time": "2024-10-05T19:49:58.550367Z"
        },
        "id": "agpdgvm1p-jg",
        "outputId": "365ab20f-9728-4548-c00b-acc4fbec1bd4"
      },
      "outputs": [
        {
          "name": "stdout",
          "output_type": "stream",
          "text": [
            "Новизна рекомендаций для кластеризации пользователей: 6.492515483621716\n",
            "Разнообразие рекомендаций для кластеризации пользователей: 0.7504058871948468\n"
          ]
        }
      ],
      "source": [
        "novelty_score_cluster_user = calculate_novelty(predicted_list_cluster_user, item_popularity, total_users)\n",
        "print(f\"Новизна рекомендаций для кластеризации пользователей: {novelty_score_cluster_user}\")\n",
        "\n",
        "diversity_score_cluster_user = calculate_diversity(predicted_list_cluster_user, item_features)\n",
        "print(f\"Разнообразие рекомендаций для кластеризации пользователей: {diversity_score_cluster_user}\")"
      ]
    },
    {
      "cell_type": "code",
      "execution_count": null,
      "metadata": {
        "ExecuteTime": {
          "end_time": "2024-10-06T09:59:35.249817Z",
          "start_time": "2024-10-06T09:57:52.595006Z"
        },
        "colab": {
          "base_uri": "https://localhost:8080/"
        },
        "id": "j535Wu22Wvc5",
        "outputId": "2e67edfa-34fd-4203-9a9d-a421aeeac7af",
        "scrolled": true
      },
      "outputs": [
        {
          "name": "stderr",
          "output_type": "stream",
          "text": [
            "/Users/natalyakuzmina/anaconda3/lib/python3.11/site-packages/sklearn/cluster/_kmeans.py:1412: FutureWarning: The default value of `n_init` will change from 10 to 'auto' in 1.4. Set the value of `n_init` explicitly to suppress the warning\n",
            "  super()._check_params_vs_input(X, default_n_init=10)\n"
          ]
        },
        {
          "name": "stdout",
          "output_type": "stream",
          "text": [
            "RMSE для кластеризации: 0.9831177837402713\n"
          ]
        }
      ],
      "source": [
        "# Кластеризация фильмов\n",
        "item_clusters = KMeans(n_clusters=10, random_state=42).fit_predict(item_user_matrix)\n",
        "\n",
        "def predict_rating_item_based(user_id, movie_id):\n",
        "    if movie_id not in item_user_matrix.index:\n",
        "        return np.nan\n",
        "    cluster = item_clusters[item_user_matrix.index.get_loc(movie_id)]\n",
        "    cluster_movies = train_data[train_data['movieId'].isin(np.where(item_clusters == cluster)[0])]\n",
        "    user_movie_ratings = cluster_movies[cluster_movies['userId'] == user_id]\n",
        "    return user_movie_ratings['rating'].mean() if not user_movie_ratings.empty else np.nan\n",
        "\n",
        "test_data['predicted_rating_cluster_item_based'] = test_data.apply(lambda x: predict_rating_item_based(x['userId'], x['movieId']), axis=1)\n",
        "\n",
        "valid_predictions_item_based = test_data.dropna(subset=['predicted_rating_cluster_item_based'])\n",
        "\n",
        "rmse_cluster_item = np.sqrt(mean_squared_error(valid_predictions_item_based['rating'], valid_predictions_item_based['predicted_rating_cluster_item_based']))\n",
        "print(f'RMSE для кластеризации: {rmse_cluster_item}')"
      ]
    },
    {
      "cell_type": "code",
      "execution_count": null,
      "metadata": {
        "ExecuteTime": {
          "end_time": "2024-10-06T09:59:35.348569Z",
          "start_time": "2024-10-06T09:59:35.252956Z"
        },
        "id": "WeugwPt1p-jh"
      },
      "outputs": [],
      "source": [
        "# Словарь, сопоставляющий фильм его кластеру\n",
        "movie_cluster_dict = dict(zip(item_user_matrix.index, item_clusters))\n",
        "\n",
        "# Словарь фильмов по кластерам\n",
        "cluster_movies_dict = {}\n",
        "for cluster in np.unique(item_clusters):\n",
        "    cluster_movies_dict[cluster] = set(item_user_matrix.index[item_clusters == cluster])\n",
        "\n",
        "# Словарь оценок пользователей из тренировочных данных\n",
        "user_ratings_dict = train_data.groupby('userId').apply(lambda x: dict(zip(x['movieId'], x['rating']))).to_dict()"
      ]
    },
    {
      "cell_type": "code",
      "execution_count": null,
      "metadata": {
        "ExecuteTime": {
          "end_time": "2024-10-06T09:59:40.676348Z",
          "start_time": "2024-10-06T09:59:35.351198Z"
        },
        "id": "J1wVDyQVp-jh",
        "outputId": "163723c1-3572-4b35-b296-9e4da600ebbf"
      },
      "outputs": [
        {
          "name": "stderr",
          "output_type": "stream",
          "text": [
            "100%|████████████████████████████████████████| 610/610 [00:05<00:00, 115.48it/s]\n"
          ]
        }
      ],
      "source": [
        "from tqdm import tqdm\n",
        "\n",
        "users = test_data['userId'].unique()\n",
        "actual_dict = test_data.groupby('userId')['movieId'].apply(list).to_dict()\n",
        "\n",
        "predicted_dict = {}\n",
        "\n",
        "k = max(k_values)\n",
        "\n",
        "# Проходим по каждому пользователю\n",
        "for user_id in tqdm(users):\n",
        "    user_rated_movies = set(user_ratings_dict.get(user_id, {}).keys())\n",
        "    user_movie_clusters = set(movie_cluster_dict[movie_id] for movie_id in user_rated_movies if movie_id in movie_cluster_dict)\n",
        "\n",
        "    if not user_movie_clusters:\n",
        "        predicted_dict[user_id] = []\n",
        "        continue\n",
        "\n",
        "    user_cluster_ratings = {}\n",
        "    for cluster in user_movie_clusters:\n",
        "        cluster_movie_ids = user_rated_movies & cluster_movies_dict[cluster]\n",
        "        ratings = [user_ratings_dict[user_id][movie_id] for movie_id in cluster_movie_ids]\n",
        "        user_cluster_ratings[cluster] = np.mean(ratings)\n",
        "\n",
        "    candidate_movies = set(item_user_matrix.index) - user_rated_movies\n",
        "\n",
        "    # Предсказываем рейтинги для кандидатов\n",
        "    predictions = {}\n",
        "    for movie_id in candidate_movies:\n",
        "        cluster = movie_cluster_dict.get(movie_id)\n",
        "        if cluster in user_cluster_ratings:\n",
        "            predicted_rating = user_cluster_ratings[cluster]\n",
        "            predictions[movie_id] = predicted_rating\n",
        "\n",
        "    # Получаем топ-K фильмов\n",
        "    top_k_movies = sorted(predictions.items(), key=lambda x: x[1], reverse=True)[:k]\n",
        "    recommended_movies = [movie_id for movie_id, _ in top_k_movies]\n",
        "\n",
        "    predicted_dict[user_id] = recommended_movies\n",
        "\n",
        "# Формируем списки для расчета метрик\n",
        "actual_list_cluster = [actual_dict.get(user_id, []) for user_id in users]\n",
        "predicted_list_cluster = [predicted_dict.get(user_id, []) for user_id in users]\n"
      ]
    },
    {
      "cell_type": "code",
      "execution_count": null,
      "metadata": {
        "ExecuteTime": {
          "end_time": "2024-10-06T09:59:41.037348Z",
          "start_time": "2024-10-06T09:59:40.684720Z"
        },
        "id": "5wHqcB7Up-ji",
        "outputId": "b99a1e65-7af0-44a5-8b54-be31d710bb12"
      },
      "outputs": [
        {
          "name": "stdout",
          "output_type": "stream",
          "text": [
            "Метрики MAP@K и NDCG@K для кластеризации фильмов:\n",
            "    K     MAP@K    NDCG@K\n",
            "0   1  0.018033  0.018033\n",
            "1   5  0.011902  0.025163\n",
            "2  10  0.008929  0.027542\n",
            "3  20  0.007331  0.029203\n",
            "4  30  0.006879  0.029974\n",
            "5  40  0.006598  0.029882\n",
            "6  50  0.006659  0.031849\n"
          ]
        }
      ],
      "source": [
        "metrics_df_cluster = compute_metrics_at_k(k_values, actual_list_cluster, predicted_list_cluster)\n",
        "print(\"Метрики MAP@K и NDCG@K для кластеризации фильмов:\")\n",
        "print(metrics_df_cluster)"
      ]
    },
    {
      "cell_type": "code",
      "execution_count": null,
      "metadata": {
        "ExecuteTime": {
          "end_time": "2024-10-06T09:59:48.796055Z",
          "start_time": "2024-10-06T09:59:48.065193Z"
        },
        "id": "aVfuwlskUWn0",
        "outputId": "3a11e8aa-95f9-44ec-b0e1-01ff69b853a6"
      },
      "outputs": [
        {
          "name": "stdout",
          "output_type": "stream",
          "text": [
            "Новизна рекомендаций: 6.83810726179467\n",
            "Разнообразие рекомендаций: 0.7743702363693331\n"
          ]
        }
      ],
      "source": [
        "novelty_score_cluster = calculate_novelty(predicted_list_cluster, item_popularity, total_users)\n",
        "print(f\"Новизна рекомендаций: {novelty_score_cluster}\")\n",
        "\n",
        "# Расчет разнообразия\n",
        "diversity_scoree_cluster = calculate_diversity(predicted_list_cluster, item_features)\n",
        "print(f\"Разнообразие рекомендаций: {diversity_scoree_cluster}\")"
      ]
    },
    {
      "cell_type": "markdown",
      "metadata": {
        "id": "xBK8x2jcW1rs"
      },
      "source": [
        "- На основе кластеризации и учета z-ценки объекта"
      ]
    },
    {
      "cell_type": "code",
      "execution_count": null,
      "metadata": {
        "ExecuteTime": {
          "end_time": "2024-10-06T11:21:52.480407Z",
          "start_time": "2024-10-06T11:21:51.034256Z"
        },
        "id": "-PXhrQqeXC0P",
        "outputId": "ae1e02ee-1e9e-4227-e733-a17621dce340"
      },
      "outputs": [
        {
          "name": "stderr",
          "output_type": "stream",
          "text": [
            "/Users/natalyakuzmina/anaconda3/lib/python3.11/site-packages/sklearn/cluster/_kmeans.py:1412: FutureWarning: The default value of `n_init` will change from 10 to 'auto' in 1.4. Set the value of `n_init` explicitly to suppress the warning\n",
            "  super()._check_params_vs_input(X, default_n_init=10)\n"
          ]
        }
      ],
      "source": [
        "# Расчет средних оценок и стандартных отклонений для каждого фильма\n",
        "movie_ratings_mean = train_data.groupby('movieId')['rating'].mean()\n",
        "movie_ratings_std = train_data.groupby('movieId')['rating'].std().fillna(0)\n",
        "item_clusters = KMeans(n_clusters=10, random_state=42).fit_predict(item_user_matrix)"
      ]
    },
    {
      "cell_type": "code",
      "execution_count": null,
      "metadata": {
        "ExecuteTime": {
          "end_time": "2024-10-06T11:21:52.499370Z",
          "start_time": "2024-10-06T11:21:52.485467Z"
        },
        "id": "dbnqSG91XfbC"
      },
      "outputs": [],
      "source": [
        "def predict_item_z_rating(user_id, movie_id):\n",
        "    if movie_id not in item_user_matrix.index:\n",
        "        return np.nan\n",
        "\n",
        "    movie_mean = movie_ratings_mean[movie_id]\n",
        "    movie_std = movie_ratings_std[movie_id]\n",
        "\n",
        "    # Находим кластер, к которому принадлежит фильм\n",
        "    cluster = item_clusters[item_user_matrix.index.get_loc(movie_id)]\n",
        "\n",
        "    # Находим все фильмы из данного кластера\n",
        "    cluster_movies = train_data[train_data['movieId'].isin(np.where(item_clusters == cluster)[0])]\n",
        "    neighbors = cluster_movies[cluster_movies['userId'] == user_id]\n",
        "\n",
        "    # Если у пользователя нет оценок для фильмов в кластере\n",
        "    if neighbors.empty:\n",
        "        return np.nan\n",
        "\n",
        "    # Косинусная схожесть между фильмом и другими фильмами пользователя\n",
        "    movie_vec = item_user_matrix.loc[movie_id].values.reshape(1, -1)\n",
        "    neighbor_vectors = item_user_matrix.loc[neighbors['movieId'].unique()]\n",
        "\n",
        "    similarities = cosine_similarity(movie_vec, neighbor_vectors)[0]\n",
        "\n",
        "    numerator = 0\n",
        "    denominator = 0\n",
        "\n",
        "    # Применяем формулу для расчета нормализованной оценки с учетом z-оценки\n",
        "    for i, neighbor_id in enumerate(neighbors['movieId'].unique()):\n",
        "        neighbor_rating = neighbors[neighbors['movieId'] == neighbor_id]['rating'].values[0]\n",
        "        neighbor_mean = movie_ratings_mean[neighbor_id]\n",
        "        neighbor_std = movie_ratings_std[neighbor_id]\n",
        "\n",
        "        if neighbor_std == 0:\n",
        "            continue\n",
        "\n",
        "        # Рассчитываем нормализованную оценку (z-оценку) для фильма-соседа\n",
        "        z_score = (neighbor_rating - neighbor_mean) / neighbor_std\n",
        "\n",
        "        # Взвешиваем нормализованную оценку на схожесть\n",
        "        numerator += similarities[i] * z_score\n",
        "        denominator += similarities[i]\n",
        "\n",
        "    if denominator == 0:\n",
        "        return movie_mean\n",
        "\n",
        "    return movie_mean + movie_std * (numerator / denominator)"
      ]
    },
    {
      "cell_type": "code",
      "execution_count": null,
      "metadata": {
        "ExecuteTime": {
          "end_time": "2024-10-06T11:34:19.285749Z",
          "start_time": "2024-10-06T11:21:53.208592Z"
        },
        "id": "h4Z89xpMXhle",
        "outputId": "c673b22c-4ecf-4a56-8459-f957b7a49335"
      },
      "outputs": [
        {
          "name": "stdout",
          "output_type": "stream",
          "text": [
            "RMSE (item-based z-score): 0.937358345345304\n"
          ]
        }
      ],
      "source": [
        "test_data['predicted_rating_item_z'] = test_data.apply(lambda x: predict_item_z_rating(x['userId'], x['movieId']), axis=1)\n",
        "valid_predictions_item_z = test_data.dropna(subset=['predicted_rating_item_z'])\n",
        "\n",
        "\n",
        "rmse_item_z_score = np.sqrt(mean_squared_error(valid_predictions_item_z['rating'], valid_predictions_item_z['predicted_rating_item_z']))\n",
        "print(f'RMSE (item-based z-score): {rmse_item_z_score}')"
      ]
    },
    {
      "cell_type": "code",
      "execution_count": null,
      "metadata": {
        "ExecuteTime": {
          "end_time": "2024-10-06T11:34:24.266936Z",
          "start_time": "2024-10-06T11:34:19.290138Z"
        },
        "id": "JteEjO9ap-jk"
      },
      "outputs": [],
      "source": [
        "predicted_ratings_item_z_df = valid_predictions_item_z.pivot(index='userId', columns='movieId', values='predicted_rating_item_z')\n",
        "\n",
        "def generate_recommendations_from_precomputed(user_id, k=50):\n",
        "    if user_id not in predicted_ratings_item_z_df.index:\n",
        "        return user_id, []\n",
        "\n",
        "    # Получаем фильмы, которые пользователь уже оценил\n",
        "    user_rated_movies = set(train_data[train_data['userId'] == user_id]['movieId'])\n",
        "\n",
        "    user_predicted_ratings = predicted_ratings_item_z_df.loc[user_id].drop(user_rated_movies, errors='ignore').dropna()\n",
        "    user_predicted_ratings = user_predicted_ratings.sort_values(ascending=False).head(k)\n",
        "    return user_id, list(user_predicted_ratings.index)\n",
        "\n",
        "# Параллельная генерация рекомендаций для пользователей с использованием предсчитанных рейтингов\n",
        "results = Parallel(n_jobs=-1)(delayed(generate_recommendations_from_precomputed)(user_id) for user_id in users)\n",
        "predicted_dict = {user_id: recommended_movies for user_id, recommended_movies in zip(users, results)}\n",
        "\n",
        "actual_dict = test_data.groupby('userId')['movieId'].apply(list).to_dict()\n",
        "actual_list_item_z = [actual_dict.get(user_id, []) for user_id in users]\n",
        "predicted_list_item_z = [predicted_dict.get(user_id, []) for user_id in users]"
      ]
    },
    {
      "cell_type": "code",
      "execution_count": null,
      "metadata": {
        "ExecuteTime": {
          "end_time": "2024-10-06T11:34:24.508722Z",
          "start_time": "2024-10-06T11:34:24.271058Z"
        },
        "id": "CDneQuwtp-jk",
        "outputId": "af4efc18-0311-44cc-8058-1b7e332f8986"
      },
      "outputs": [
        {
          "name": "stdout",
          "output_type": "stream",
          "text": [
            "Метрики MAP@K и NDCG@K для кластеризации items и учета оценки z-score:\n",
            "    K     MAP@K    NDCG@K\n",
            "0   1  0.021311  0.021311\n",
            "1   5  0.004262  0.007228\n",
            "2  10  0.002131  0.004690\n",
            "3  20  0.001066  0.003027\n",
            "4  30  0.000724  0.002354\n",
            "5  40  0.000569  0.002001\n",
            "6  50  0.000483  0.001786\n"
          ]
        }
      ],
      "source": [
        "metrics_df_cluster_z_score = compute_metrics_at_k(k_values, actual_list_item_z, predicted_list_item_z)\n",
        "print(\"Метрики MAP@K и NDCG@K для кластеризации items и учета оценки z-score:\")\n",
        "print(metrics_df_cluster_z_score)"
      ]
    },
    {
      "cell_type": "code",
      "execution_count": null,
      "metadata": {
        "ExecuteTime": {
          "end_time": "2024-10-06T11:34:25.000598Z",
          "start_time": "2024-10-06T11:34:24.514099Z"
        },
        "id": "CC6HysuFp-jk",
        "outputId": "95798c0f-e458-44b5-f349-99ec6c056979"
      },
      "outputs": [
        {
          "name": "stdout",
          "output_type": "stream",
          "text": [
            "Новизна рекомендаций для кластеризации items и учета оценки z-score: 5.210508996382438\n",
            "Разнообразие рекомендаций для кластеризации items и учета оценки z-score: 0.7868861292748275\n"
          ]
        }
      ],
      "source": [
        "novelty_score_cluster_z_score = calculate_novelty(predicted_list_item_z, item_popularity, total_items)\n",
        "print(f\"Новизна рекомендаций для кластеризации items и учета оценки z-score: {novelty_score_cluster_z_score}\")\n",
        "\n",
        "# Расчет разнообразия\n",
        "diversity_scoree_cluster_z_score = calculate_diversity(predicted_list_item_z, item_features)\n",
        "print(f\"Разнообразие рекомендаций для кластеризации items и учета оценки z-score: {diversity_scoree_cluster_z_score}\")"
      ]
    },
    {
      "cell_type": "code",
      "execution_count": null,
      "metadata": {
        "ExecuteTime": {
          "end_time": "2024-10-06T10:48:30.781722Z",
          "start_time": "2024-10-06T10:48:28.680905Z"
        },
        "id": "83pglPVHp-jl",
        "outputId": "3f7ac8dd-64e9-4466-96c9-8236f0c8db1d"
      },
      "outputs": [
        {
          "name": "stderr",
          "output_type": "stream",
          "text": [
            "/Users/natalyakuzmina/anaconda3/lib/python3.11/site-packages/sklearn/cluster/_kmeans.py:1412: FutureWarning: The default value of `n_init` will change from 10 to 'auto' in 1.4. Set the value of `n_init` explicitly to suppress the warning\n",
            "  super()._check_params_vs_input(X, default_n_init=10)\n"
          ]
        }
      ],
      "source": [
        "# Кластеризация пользователей\n",
        "\n",
        "# Расчет средних оценок и стандартных отклонений для каждого пользователя\n",
        "user_ratings_mean = train_data.groupby('userId')['rating'].mean()\n",
        "user_ratings_std = train_data.groupby('userId')['rating'].std().fillna(0)\n",
        "user_clusters = KMeans(n_clusters=10, random_state=42).fit_predict(user_item_matrix)"
      ]
    },
    {
      "cell_type": "code",
      "execution_count": null,
      "metadata": {
        "ExecuteTime": {
          "end_time": "2024-10-06T10:48:30.798754Z",
          "start_time": "2024-10-06T10:48:30.786022Z"
        },
        "id": "XptGk55Ep-jl"
      },
      "outputs": [],
      "source": [
        "# Функция для предсказания оценки на основе z-оценки\n",
        "def predict_z_rating(user_id, movie_id):\n",
        "    # Если пользователя нет в кластере, возвращаем NaN\n",
        "    if user_id not in user_item_matrix.index:\n",
        "        return np.nan\n",
        "\n",
        "    user_mean = user_ratings_mean[user_id]\n",
        "    user_std = user_ratings_std[user_id]\n",
        "\n",
        "    # Находим кластер, к которому принадлежит пользователь\n",
        "    cluster = user_clusters[user_item_matrix.index.get_loc(user_id)]\n",
        "\n",
        "    # Находим всех пользователей в этом кластере\n",
        "    cluster_users = train_data[train_data['userId'].isin(np.where(user_clusters == cluster)[0])]\n",
        "    neighbors = cluster_users[cluster_users['movieId'] == movie_id]\n",
        "    if neighbors.empty:\n",
        "        return np.nan\n",
        "\n",
        "    user_vec = user_item_matrix.loc[user_id].values.reshape(1, -1)\n",
        "    neighbor_vectors = user_item_matrix.loc[neighbors['userId'].unique()]\n",
        "\n",
        "    similarities = cosine_similarity(user_vec, neighbor_vectors)[0]\n",
        "\n",
        "    numerator = 0\n",
        "    denominator = 0\n",
        "    # Применяем формулу для расчета нормализованной оценки с учетом z-оценки\n",
        "    for i, neighbor_id in enumerate(neighbors['userId'].unique()):\n",
        "        neighbor_rating = neighbors[neighbors['userId'] == neighbor_id]['rating'].values[0]\n",
        "        neighbor_mean = user_ratings_mean[neighbor_id]\n",
        "        neighbor_std = user_ratings_std[neighbor_id]\n",
        "\n",
        "        if neighbor_std == 0:\n",
        "            continue\n",
        "\n",
        "        # Рассчитываем нормализованную оценку (z-оценку) для пользователя v\n",
        "        z_score = (neighbor_rating - neighbor_mean) / neighbor_std\n",
        "\n",
        "        # Взвешиваем нормализованную оценку на схожесть\n",
        "        numerator += similarities[i] * z_score\n",
        "        denominator += similarities[i]\n",
        "\n",
        "    if denominator == 0:\n",
        "        return user_mean\n",
        "\n",
        "    return user_mean + user_std * (numerator / denominator)"
      ]
    },
    {
      "cell_type": "code",
      "execution_count": null,
      "metadata": {
        "ExecuteTime": {
          "end_time": "2024-10-06T10:53:54.798706Z",
          "start_time": "2024-10-06T10:48:32.128706Z"
        },
        "id": "vQz8GNwip-jl",
        "outputId": "c76ae9a6-0b46-45da-9bc5-e705e90b36ac"
      },
      "outputs": [
        {
          "name": "stdout",
          "output_type": "stream",
          "text": [
            "RMSE (user-based z-score): 0.9892912567102549\n"
          ]
        }
      ],
      "source": [
        "test_data['predicted_rating_user_z'] = test_data.apply(lambda x: predict_z_rating(x['userId'], x['movieId']), axis=1)\n",
        "valid_predictions_user_z = test_data.dropna(subset=['predicted_rating_user_z'])\n",
        "\n",
        "rmse = np.sqrt(mean_squared_error(valid_predictions_user_z['rating'], valid_predictions_user_z['predicted_rating_user_z']))\n",
        "print(f'RMSE (user-based z-score): {rmse}')"
      ]
    },
    {
      "cell_type": "code",
      "execution_count": null,
      "metadata": {
        "ExecuteTime": {
          "end_time": "2024-10-06T10:57:39.941811Z",
          "start_time": "2024-10-06T10:57:37.954067Z"
        },
        "id": "HnXw0OZyp-jl"
      },
      "outputs": [],
      "source": [
        "# Создаем матрицу с предсчитанными оценками пользователей\n",
        "predicted_ratings_user_z_df = valid_predictions_user_z.pivot(index='userId', columns='movieId', values='predicted_rating_user_z')\n",
        "\n",
        "def generate_recommendations_from_precomputed_user_z(user_id, k=50):\n",
        "    if user_id not in predicted_ratings_user_z_df.index:\n",
        "        return user_id, []\n",
        "\n",
        "    # Получаем фильмы, которые пользователь уже оценил\n",
        "    user_rated_movies = set(train_data[train_data['userId'] == user_id]['movieId'])\n",
        "\n",
        "    user_predicted_ratings = predicted_ratings_user_z_df.loc[user_id].drop(user_rated_movies, errors='ignore').dropna()\n",
        "    user_predicted_ratings = user_predicted_ratings.sort_values(ascending=False).head(k)\n",
        "    return user_id, list(user_predicted_ratings.index)\n",
        "\n",
        "# Генерация рекомендаций для всех пользователей\n",
        "results_user_z = Parallel(n_jobs=-1)(delayed(generate_recommendations_from_precomputed_user_z)(user_id) for user_id in users)\n",
        "predicted_dict_user_z = {user_id: rec_movies for user_id, rec_movies in zip(users, results_user_z)}"
      ]
    },
    {
      "cell_type": "code",
      "execution_count": null,
      "metadata": {
        "ExecuteTime": {
          "end_time": "2024-10-06T10:57:39.982416Z",
          "start_time": "2024-10-06T10:57:39.947749Z"
        },
        "id": "9lF9tq5pp-jm"
      },
      "outputs": [],
      "source": [
        "actual_dict_user_z = test_data.groupby('userId')['movieId'].apply(list).to_dict()\n",
        "actual_list_user_z = [actual_dict_user_z.get(user_id, []) for user_id in users]\n",
        "predicted_list_user_z = [predicted_dict_user_z.get(user_id, []) for user_id in users]"
      ]
    },
    {
      "cell_type": "code",
      "execution_count": null,
      "metadata": {
        "ExecuteTime": {
          "end_time": "2024-10-06T10:57:40.191487Z",
          "start_time": "2024-10-06T10:57:39.985070Z"
        },
        "id": "EsuLTyovp-jm",
        "outputId": "b727842b-4216-460b-877d-e98ac515e52c"
      },
      "outputs": [
        {
          "name": "stdout",
          "output_type": "stream",
          "text": [
            "Метрики MAP@K и NDCG@K для кластеризации users и учета оценки z-score:\n",
            "    K     MAP@K    NDCG@K\n",
            "0   1  0.021311  0.021311\n",
            "1   5  0.004262  0.007228\n",
            "2  10  0.002131  0.004690\n",
            "3  20  0.001066  0.003027\n",
            "4  30  0.000724  0.002354\n",
            "5  40  0.000569  0.002001\n",
            "6  50  0.000483  0.001786\n"
          ]
        }
      ],
      "source": [
        "metrics_df_user_z = compute_metrics_at_k(k_values, actual_list_user_z, predicted_list_user_z)\n",
        "print(\"Метрики MAP@K и NDCG@K для кластеризации users и учета оценки z-score:\")\n",
        "print(metrics_df_user_z)"
      ]
    },
    {
      "cell_type": "code",
      "execution_count": null,
      "metadata": {
        "ExecuteTime": {
          "end_time": "2024-10-06T10:43:27.541368Z",
          "start_time": "2024-10-06T10:43:27.226979Z"
        },
        "id": "eDqvcoX1p-jm",
        "outputId": "3dbdaffd-65de-4396-8370-8b4c773c76d3"
      },
      "outputs": [
        {
          "name": "stdout",
          "output_type": "stream",
          "text": [
            "Новизна рекомендаций для кластеризации items и учета оценки z-score: 5.210508996382438\n",
            "Разнообразие рекомендаций для кластеризации items и учета оценки z-score: 0.7890642210359424\n"
          ]
        }
      ],
      "source": [
        "novelty_score_cluster_z_score_user = calculate_novelty(predicted_list_user_z, item_popularity, total_items)\n",
        "print(f\"Новизна рекомендаций для кластеризации items и учета оценки z-score: {novelty_score_cluster_z_score_user}\")\n",
        "\n",
        "# Расчет разнообразия\n",
        "diversity_scoree_cluster_z_score_user = calculate_diversity(predicted_list_user_z, item_features)\n",
        "print(f\"Разнообразие рекомендаций для кластеризации items и учета оценки z-score: {diversity_scoree_cluster_z_score_user}\")"
      ]
    },
    {
      "cell_type": "markdown",
      "metadata": {
        "id": "yuqMz0n0p-jm"
      },
      "source": [
        " Метрики получились похожи с item clusters+z-score, но рекомендации отличаются, проверяла списки, в кэше данные тоже проверены, нет такого, что я считала одно и то же"
      ]
    },
    {
      "cell_type": "code",
      "execution_count": null,
      "metadata": {
        "ExecuteTime": {
          "end_time": "2024-10-06T11:09:52.427251Z",
          "start_time": "2024-10-06T11:09:52.423634Z"
        },
        "id": "0wHiQE02p-jm",
        "outputId": "9d652a69-9987-4798-8a27-fa5f758cca48"
      },
      "outputs": [
        {
          "name": "stdout",
          "output_type": "stream",
          "text": [
            "Рекомендации для пользователя 2 (user-based): (568, [1257, 480, 3148, 1103, 46723, 3261, 3363, 2359])\n",
            "Рекомендации для пользователя 2 (item-based): (568, [2359, 46723, 3053, 1103, 3363, 63853, 3148, 480, 3261, 1257])\n"
          ]
        }
      ],
      "source": [
        "print(f\"Рекомендации для пользователя 2 (user-based): {predicted_list_user_z[users[1]]}\")\n",
        "\n",
        "print(f\"Рекомендации для пользователя 2 (item-based): {predicted_list_item_z[users[1]]}\")"
      ]
    },
    {
      "cell_type": "markdown",
      "metadata": {
        "id": "2TwNVwCPY3bY"
      },
      "source": [
        "6. Заполнить таблицу по всем результатам лабораторных работ."
      ]
    },
    {
      "cell_type": "markdown",
      "metadata": {
        "id": "TvBT2MPpp-jn"
      },
      "source": [
        "|Method | RMSE | MAP@30 | NDCG@30 | Novelty | Diversity |\n",
        "|-----------|-----------|-----------|-----------|-----------|-----------|\n",
        "|User-based| 0.9359 | 0.092480 | 0.203191 | 2.52122 | 0.82069 |\n",
        "|Item-based| 0.9725| 0.000019 | 0.000215 | 9.22689 | 0.83913 |\n",
        "|Clustering items| 0.9831| 0.006879 | 0.029974 | 3.80611 | 0.81288 |\n",
        "|Clustering users| 1.0603 | 0.001555 | 0.008867 | 6.49252 | 0.75041 |\n",
        "|Clustering items + Z-score| 0.9374 | 0.000724 | 0.002354 | 5.21051 | 0.78689|\n",
        "|Clustering users + Z-score| 0.9893 | 0.000724 | 0.002354 | 5.21051 | 0.78906 |\n",
        "|SVD| 0.8717 | 0.022610 | 0.072803 | 4.11692 | 0.80164 |\n",
        "|SVD++| 0.8617 | 0.031190 | 0.081029| 4.33594 | 0.78241 |\n",
        "|Surprise_SVD| 0.8820 |  0.028503 | 0.088795 | 3.80611 | 0.81289 |\n",
        "|Surprise_SVD++| 0.8698 | 0.028119 | 0.087751 | 4.20071 | 0.79203 |\n",
        "|Cornac_NN (RecVae) | 1.9927 | 0.1511 | 0.2586 | 3.17958| 0.80614 |\n",
        "|Cornac_NN (VAECF) | 3.3017 | 0.1734 | 0.2892 | 2.36237| 0.81307 |"
      ]
    },
    {
      "cell_type": "markdown",
      "metadata": {
        "id": "N4WYWsz5H_ol"
      },
      "source": [
        "*Метрики по моделям Cornac получены, используя методы из самой библиотеки, кроме новизны и разнообразия. Метрика MAP в библиотеке Cornac рассчитывается для максимального k, его нельзя менять.*\n",
        "\n",
        "*Выше приведены расчеты для всем метрикам, используя функции, которые написаны самостоятельно, но метрики, рассчитанные таким образом, получились значительно меньше чем по cornac.*"
      ]
    },
    {
      "cell_type": "markdown",
      "metadata": {
        "id": "wUxZZ-MhY9yE"
      },
      "source": [
        "7. Нарисовать графики для метрик MAP@K и NDCG@K для различных\n",
        "значений K (пример на рисунке 1)."
      ]
    },
    {
      "cell_type": "markdown",
      "metadata": {
        "id": "PBLS9FN9Ne_m"
      },
      "source": [
        "*Значения метрик по моделям Cornac взяты по результам вычислений метрик из самой библиотеки, поэтому они добавлены только для графика по NDCG@K.*"
      ]
    },
    {
      "cell_type": "code",
      "execution_count": null,
      "metadata": {
        "id": "bJTq2jTzKJG3"
      },
      "outputs": [],
      "source": [
        "data = {\n",
        "    'K': [1, 5, 10, 20, 30, 40, 50],\n",
        "    'SVD Surprise MAP@K': [0.126230, 0.060880, 0.043246, 0.032811, 0.028503, 0.026372, 0.025402],\n",
        "    'SVD Surprise NDCG@K': [0.126230, 0.102684, 0.095434, 0.090425, 0.088795, 0.089373, 0.092020],\n",
        "    'SVD++ Surprise MAP@K': [0.155738, 0.066082, 0.045002, 0.032554, 0.028119, 0.025626, 0.024450],\n",
        "    'SVD++ Surprise NDCG@K': [0.155738, 0.110438, 0.096687, 0.089122, 0.087751, 0.086973, 0.088887],\n",
        "    'SVD MAP@K': [0.140984, 0.048809, 0.033328, 0.025315, 0.022610, 0.021416, 0.020864],\n",
        "    'SVD NDCG@K': [0.140984, 0.084595, 0.073728, 0.071523, 0.072803, 0.075778, 0.078778],\n",
        "    'SVD++ MAP@K': [0.172131, 0.062689, 0.042497, 0.031190, 0.026440, 0.021736, 0.019095],\n",
        "    'SVD++ NDCG@K': [0.172131, 0.101706, 0.087666, 0.081029, 0.078763, 0.069549, 0.064013],\n",
        "    'User-based CF MAP@K': [0.311475, 0.186503, 0.136043, 0.104509, 0.092480, 0.085999, 0.081956],\n",
        "    'User-based CF NDCG@K': [0.311475, 0.262313, 0.228271, 0.208608, 0.203191, 0.202057, 0.203189],\n",
        "    'Item-based CF MAP@K': [0.000000, 0.000000, 0.000016, 0.000015, 0.000019, 0.000016, 0.000016],\n",
        "    'Item-based CF NDCG@K': [0.000000, 0.000000, 0.000104, 0.000128, 0.000215, 0.000207, 0.000273],\n",
        "    'User clustering MAP@K': [0.003279, 0.003131, 0.002247, 0.001694, 0.001555, 0.001476, 0.001423],\n",
        "    'User clustering NDCG@K': [0.003279, 0.006740, 0.007222, 0.007627, 0.008867, 0.009353, 0.009665],\n",
        "    'Movie clustering MAP@K': [0.018033, 0.011902, 0.008929, 0.007331, 0.006879, 0.006598, 0.006659],\n",
        "    'Movie clustering NDCG@K': [0.018033, 0.025163, 0.027542, 0.029203, 0.029974, 0.029882, 0.031849],\n",
        "    'VAECF NDCG@K': [0.3738, 0.3286, 0.3010, 0.2885, 0.2892, 0.2929, 0.2980],\n",
        "    'RecVae NDCG@K': [0.3131, 0.2728, 0.2580, 0.2551, 0.2586, 0.2676, 0.2751]\n",
        "}\n",
        "\n",
        "df_updated = pd.DataFrame(data)"
      ]
    },
    {
      "cell_type": "code",
      "execution_count": null,
      "metadata": {
        "colab": {
          "base_uri": "https://localhost:8080/",
          "height": 718
        },
        "id": "bLjxrbXOJ9kt",
        "outputId": "76550550-4cd3-467d-fcb5-107ee29582c3"
      },
      "outputs": [
        {
          "data": {
            "image/png": "[encoded data removed]",
            "text/plain": [
              "<Figure size 1200x800 with 1 Axes>"
            ]
          },
          "metadata": {},
          "output_type": "display_data"
        }
      ],
      "source": [
        "import matplotlib.pyplot as plt\n",
        "\n",
        "plt.figure(figsize=(12, 8))\n",
        "\n",
        "# Графики для MAP@K\n",
        "plt.plot(df_updated['K'], df_updated['SVD MAP@K'], label='SVD MAP@K', marker='o')\n",
        "plt.plot(df_updated['K'], df_updated['SVD++ MAP@K'], label='SVD++ MAP@K', marker='v')\n",
        "plt.plot(df_updated['K'], df_updated['SVD Surprise MAP@K'], label='SVD Surprise MAP@K', marker='o')\n",
        "plt.plot(df_updated['K'], df_updated['SVD++ Surprise MAP@K'], label='SVD++ Surprise MAP@K', marker='v')\n",
        "plt.plot(df_updated['K'], df_updated['User-based CF MAP@K'], label='User-based CF MAP@K', marker='s')\n",
        "plt.plot(df_updated['K'], df_updated['Item-based CF MAP@K'], label='Item-based CF MAP@K', marker='*')\n",
        "plt.plot(df_updated['K'], df_updated['User clustering MAP@K'], label='User clustering MAP@K', marker='p')\n",
        "plt.plot(df_updated['K'], df_updated['Movie clustering MAP@K'], label='Movie clustering MAP@K', marker='h')\n",
        "\n",
        "plt.title('MAP@K for Different Models')\n",
        "plt.xlabel('K')\n",
        "plt.ylabel('MAP@K')\n",
        "plt.legend()\n",
        "plt.grid(True)\n",
        "plt.show()"
      ]
    },
    {
      "cell_type": "code",
      "execution_count": null,
      "metadata": {
        "colab": {
          "base_uri": "https://localhost:8080/",
          "height": 718
        },
        "id": "bFAXHghhKCS2",
        "outputId": "43384b66-3a7d-4984-def2-7af67c79c97d"
      },
      "outputs": [
        {
          "data": {
            "image/png": "[encoded data removed]",
            "text/plain": [
              "<Figure size 1200x800 with 1 Axes>"
            ]
          },
          "metadata": {},
          "output_type": "display_data"
        }
      ],
      "source": [
        "plt.figure(figsize=(12, 8))\n",
        "\n",
        "# Графики для NDCG@K\n",
        "plt.plot(df_updated['K'], df_updated['SVD NDCG@K'], label='SVD NDCG@K', marker='o')\n",
        "plt.plot(df_updated['K'], df_updated['SVD++ NDCG@K'], label='SVD++ NDCG@K', marker='v')\n",
        "plt.plot(df_updated['K'], df_updated['SVD Surprise NDCG@K'], label='SVD Surprise NDCG@K', marker='o')\n",
        "plt.plot(df_updated['K'], df_updated['SVD++ Surprise NDCG@K'], label='SVD++ Surprise NDCG@K', marker='v')\n",
        "plt.plot(df_updated['K'], df_updated['User-based CF NDCG@K'], label='User-based CF NDCG@K', marker='s')\n",
        "plt.plot(df_updated['K'], df_updated['Item-based CF NDCG@K'], label='Item-based CF NDCG@K', marker='*')\n",
        "plt.plot(df_updated['K'], df_updated['User clustering NDCG@K'], label='User clustering NDCG@K', marker='p')\n",
        "plt.plot(df_updated['K'], df_updated['Movie clustering NDCG@K'], label='Movie clustering NDCG@K', marker='h')\n",
        "plt.plot(df_updated['K'], df_updated['VAECF NDCG@K'], label='VAECF NDCG@K', marker='D')\n",
        "plt.plot(df_updated['K'], df_updated['RecVae NDCG@K'], label='RecVae NDCG@K', marker='^')\n",
        "\n",
        "plt.title('NDCG@K for Different Models')\n",
        "plt.xlabel('K')\n",
        "plt.ylabel('NDCG@K')\n",
        "plt.legend()\n",
        "plt.grid(True)\n",
        "\n",
        "plt.show()"
      ]
    }
  ],
  "metadata": {
    "accelerator": "GPU",
    "colab": {
      "gpuType": "T4",
      "provenance": []
    },
    "kernelspec": {
      "display_name": "Python 3",
      "name": "python3"
    },
    "language_info": {
      "codemirror_mode": {
        "name": "ipython",
        "version": 3
      },
      "file_extension": ".py",
      "mimetype": "text/x-python",
      "name": "python",
      "nbconvert_exporter": "python",
      "pygments_lexer": "ipython3",
      "version": "3.11.5"
    },
    "toc": {
      "base_numbering": 1,
      "nav_menu": {},
      "number_sections": true,
      "sideBar": true,
      "skip_h1_title": false,
      "title_cell": "Table of Contents",
      "title_sidebar": "Contents",
      "toc_cell": false,
      "toc_position": {},
      "toc_section_display": true,
      "toc_window_display": false
    },
    "widgets": {
      "application/vnd.jupyter.widget-state+json": {
        "03790e53671f4db48d21532151b48cf1": {
          "model_module": "@jupyter-widgets/base",
          "model_module_version": "1.2.0",
          "model_name": "LayoutModel",
          "state": {
            "_model_module": "@jupyter-widgets/base",
            "_model_module_version": "1.2.0",
            "_model_name": "LayoutModel",
            "_view_count": null,
            "_view_module": "@jupyter-widgets/base",
            "_view_module_version": "1.2.0",
            "_view_name": "LayoutView",
            "align_content": null,
            "align_items": null,
            "align_self": null,
            "border": null,
            "bottom": null,
            "display": null,
            "flex": null,
            "flex_flow": null,
            "grid_area": null,
            "grid_auto_columns": null,
            "grid_auto_flow": null,
            "grid_auto_rows": null,
            "grid_column": null,
            "grid_gap": null,
            "grid_row": null,
            "grid_template_areas": null,
            "grid_template_columns": null,
            "grid_template_rows": null,
            "height": null,
            "justify_content": null,
            "justify_items": null,
            "left": null,
            "margin": null,
            "max_height": null,
            "max_width": null,
            "min_height": null,
            "min_width": null,
            "object_fit": null,
            "object_position": null,
            "order": null,
            "overflow": null,
            "overflow_x": null,
            "overflow_y": null,
            "padding": null,
            "right": null,
            "top": null,
            "visibility": null,
            "width": null
          }
        },
        "03faf26730174a909b31121907a43534": {
          "model_module": "@jupyter-widgets/base",
          "model_module_version": "1.2.0",
          "model_name": "LayoutModel",
          "state": {
            "_model_module": "@jupyter-widgets/base",
            "_model_module_version": "1.2.0",
            "_model_name": "LayoutModel",
            "_view_count": null,
            "_view_module": "@jupyter-widgets/base",
            "_view_module_version": "1.2.0",
            "_view_name": "LayoutView",
            "align_content": null,
            "align_items": null,
            "align_self": null,
            "border": null,
            "bottom": null,
            "display": null,
            "flex": null,
            "flex_flow": null,
            "grid_area": null,
            "grid_auto_columns": null,
            "grid_auto_flow": null,
            "grid_auto_rows": null,
            "grid_column": null,
            "grid_gap": null,
            "grid_row": null,
            "grid_template_areas": null,
            "grid_template_columns": null,
            "grid_template_rows": null,
            "height": null,
            "justify_content": null,
            "justify_items": null,
            "left": null,
            "margin": null,
            "max_height": null,
            "max_width": null,
            "min_height": null,
            "min_width": null,
            "object_fit": null,
            "object_position": null,
            "order": null,
            "overflow": null,
            "overflow_x": null,
            "overflow_y": null,
            "padding": null,
            "right": null,
            "top": null,
            "visibility": null,
            "width": null
          }
        },
        "041e6be48ce746b1adc941160d1cf2b4": {
          "model_module": "@jupyter-widgets/controls",
          "model_module_version": "1.5.0",
          "model_name": "ProgressStyleModel",
          "state": {
            "_model_module": "@jupyter-widgets/controls",
            "_model_module_version": "1.5.0",
            "_model_name": "ProgressStyleModel",
            "_view_count": null,
            "_view_module": "@jupyter-widgets/base",
            "_view_module_version": "1.2.0",
            "_view_name": "StyleView",
            "bar_color": null,
            "description_width": ""
          }
        },
        "06d40fbfe947418489e6d166c0bd4f32": {
          "model_module": "@jupyter-widgets/controls",
          "model_module_version": "1.5.0",
          "model_name": "HBoxModel",
          "state": {
            "_dom_classes": [],
            "_model_module": "@jupyter-widgets/controls",
            "_model_module_version": "1.5.0",
            "_model_name": "HBoxModel",
            "_view_count": null,
            "_view_module": "@jupyter-widgets/controls",
            "_view_module_version": "1.5.0",
            "_view_name": "HBoxView",
            "box_style": "",
            "children": [
              "IPY_MODEL_797cc6be6a6e423a8d6079780194d09f",
              "IPY_MODEL_b9d25a97b2a244c79ab05f030f1f45ea",
              "IPY_MODEL_a36681d13b034d10b07699506b714888"
            ],
            "layout": "IPY_MODEL_32d124c321f84416a290cb75d51b1114"
          }
        },
        "07d1c9ae6e844bc0aca56ce8225c0f46": {
          "model_module": "@jupyter-widgets/controls",
          "model_module_version": "1.5.0",
          "model_name": "FloatProgressModel",
          "state": {
            "_dom_classes": [],
            "_model_module": "@jupyter-widgets/controls",
            "_model_module_version": "1.5.0",
            "_model_name": "FloatProgressModel",
            "_view_count": null,
            "_view_module": "@jupyter-widgets/controls",
            "_view_module_version": "1.5.0",
            "_view_name": "ProgressView",
            "bar_style": "success",
            "description": "",
            "description_tooltip": null,
            "layout": "IPY_MODEL_61154e4b6e25494eae95ea61d327cf82",
            "max": 610,
            "min": 0,
            "orientation": "horizontal",
            "style": "IPY_MODEL_041e6be48ce746b1adc941160d1cf2b4",
            "value": 610
          }
        },
        "11e5baa53b124bf7b361577ca6dadb8c": {
          "model_module": "@jupyter-widgets/controls",
          "model_module_version": "1.5.0",
          "model_name": "FloatProgressModel",
          "state": {
            "_dom_classes": [],
            "_model_module": "@jupyter-widgets/controls",
            "_model_module_version": "1.5.0",
            "_model_name": "FloatProgressModel",
            "_view_count": null,
            "_view_module": "@jupyter-widgets/controls",
            "_view_module_version": "1.5.0",
            "_view_name": "ProgressView",
            "bar_style": "success",
            "description": "",
            "description_tooltip": null,
            "layout": "IPY_MODEL_36acc5bd6eb7432195d96c82063a6b24",
            "max": 610,
            "min": 0,
            "orientation": "horizontal",
            "style": "IPY_MODEL_4116bd309399493fb089d0db0424c566",
            "value": 610
          }
        },
        "13674b259a734841ba3326bf8ffeb50c": {
          "model_module": "@jupyter-widgets/base",
          "model_module_version": "1.2.0",
          "model_name": "LayoutModel",
          "state": {
            "_model_module": "@jupyter-widgets/base",
            "_model_module_version": "1.2.0",
            "_model_name": "LayoutModel",
            "_view_count": null,
            "_view_module": "@jupyter-widgets/base",
            "_view_module_version": "1.2.0",
            "_view_name": "LayoutView",
            "align_content": null,
            "align_items": null,
            "align_self": null,
            "border": null,
            "bottom": null,
            "display": null,
            "flex": null,
            "flex_flow": null,
            "grid_area": null,
            "grid_auto_columns": null,
            "grid_auto_flow": null,
            "grid_auto_rows": null,
            "grid_column": null,
            "grid_gap": null,
            "grid_row": null,
            "grid_template_areas": null,
            "grid_template_columns": null,
            "grid_template_rows": null,
            "height": null,
            "justify_content": null,
            "justify_items": null,
            "left": null,
            "margin": null,
            "max_height": null,
            "max_width": null,
            "min_height": null,
            "min_width": null,
            "object_fit": null,
            "object_position": null,
            "order": null,
            "overflow": null,
            "overflow_x": null,
            "overflow_y": null,
            "padding": null,
            "right": null,
            "top": null,
            "visibility": null,
            "width": null
          }
        },
        "1788ca57fad84349878a8e6687418e55": {
          "model_module": "@jupyter-widgets/base",
          "model_module_version": "1.2.0",
          "model_name": "LayoutModel",
          "state": {
            "_model_module": "@jupyter-widgets/base",
            "_model_module_version": "1.2.0",
            "_model_name": "LayoutModel",
            "_view_count": null,
            "_view_module": "@jupyter-widgets/base",
            "_view_module_version": "1.2.0",
            "_view_name": "LayoutView",
            "align_content": null,
            "align_items": null,
            "align_self": null,
            "border": null,
            "bottom": null,
            "display": null,
            "flex": null,
            "flex_flow": null,
            "grid_area": null,
            "grid_auto_columns": null,
            "grid_auto_flow": null,
            "grid_auto_rows": null,
            "grid_column": null,
            "grid_gap": null,
            "grid_row": null,
            "grid_template_areas": null,
            "grid_template_columns": null,
            "grid_template_rows": null,
            "height": null,
            "justify_content": null,
            "justify_items": null,
            "left": null,
            "margin": null,
            "max_height": null,
            "max_width": null,
            "min_height": null,
            "min_width": null,
            "object_fit": null,
            "object_position": null,
            "order": null,
            "overflow": null,
            "overflow_x": null,
            "overflow_y": null,
            "padding": null,
            "right": null,
            "top": null,
            "visibility": null,
            "width": null
          }
        },
        "203fd1771e714982b17a38e9cda92e98": {
          "model_module": "@jupyter-widgets/base",
          "model_module_version": "1.2.0",
          "model_name": "LayoutModel",
          "state": {
            "_model_module": "@jupyter-widgets/base",
            "_model_module_version": "1.2.0",
            "_model_name": "LayoutModel",
            "_view_count": null,
            "_view_module": "@jupyter-widgets/base",
            "_view_module_version": "1.2.0",
            "_view_name": "LayoutView",
            "align_content": null,
            "align_items": null,
            "align_self": null,
            "border": null,
            "bottom": null,
            "display": null,
            "flex": null,
            "flex_flow": null,
            "grid_area": null,
            "grid_auto_columns": null,
            "grid_auto_flow": null,
            "grid_auto_rows": null,
            "grid_column": null,
            "grid_gap": null,
            "grid_row": null,
            "grid_template_areas": null,
            "grid_template_columns": null,
            "grid_template_rows": null,
            "height": null,
            "justify_content": null,
            "justify_items": null,
            "left": null,
            "margin": null,
            "max_height": null,
            "max_width": null,
            "min_height": null,
            "min_width": null,
            "object_fit": null,
            "object_position": null,
            "order": null,
            "overflow": null,
            "overflow_x": null,
            "overflow_y": null,
            "padding": null,
            "right": null,
            "top": null,
            "visibility": null,
            "width": null
          }
        },
        "21e8028f81ed467e9dcc3e882ac7d0c0": {
          "model_module": "@jupyter-widgets/base",
          "model_module_version": "1.2.0",
          "model_name": "LayoutModel",
          "state": {
            "_model_module": "@jupyter-widgets/base",
            "_model_module_version": "1.2.0",
            "_model_name": "LayoutModel",
            "_view_count": null,
            "_view_module": "@jupyter-widgets/base",
            "_view_module_version": "1.2.0",
            "_view_name": "LayoutView",
            "align_content": null,
            "align_items": null,
            "align_self": null,
            "border": null,
            "bottom": null,
            "display": null,
            "flex": null,
            "flex_flow": null,
            "grid_area": null,
            "grid_auto_columns": null,
            "grid_auto_flow": null,
            "grid_auto_rows": null,
            "grid_column": null,
            "grid_gap": null,
            "grid_row": null,
            "grid_template_areas": null,
            "grid_template_columns": null,
            "grid_template_rows": null,
            "height": null,
            "justify_content": null,
            "justify_items": null,
            "left": null,
            "margin": null,
            "max_height": null,
            "max_width": null,
            "min_height": null,
            "min_width": null,
            "object_fit": null,
            "object_position": null,
            "order": null,
            "overflow": null,
            "overflow_x": null,
            "overflow_y": null,
            "padding": null,
            "right": null,
            "top": null,
            "visibility": null,
            "width": null
          }
        },
        "272ef324f962435db65e4c55b975fa2d": {
          "model_module": "@jupyter-widgets/controls",
          "model_module_version": "1.5.0",
          "model_name": "HTMLModel",
          "state": {
            "_dom_classes": [],
            "_model_module": "@jupyter-widgets/controls",
            "_model_module_version": "1.5.0",
            "_model_name": "HTMLModel",
            "_view_count": null,
            "_view_module": "@jupyter-widgets/controls",
            "_view_module_version": "1.5.0",
            "_view_name": "HTMLView",
            "description": "",
            "description_tooltip": null,
            "layout": "IPY_MODEL_9cbfa4c9bf9c429a992ebfe4afbd1ea0",
            "placeholder": "​",
            "style": "IPY_MODEL_7342395bc37e4745a5a436f0594cc37b",
            "value": " 610/610 [00:02&lt;00:00, 227.63it/s]"
          }
        },
        "32d124c321f84416a290cb75d51b1114": {
          "model_module": "@jupyter-widgets/base",
          "model_module_version": "1.2.0",
          "model_name": "LayoutModel",
          "state": {
            "_model_module": "@jupyter-widgets/base",
            "_model_module_version": "1.2.0",
            "_model_name": "LayoutModel",
            "_view_count": null,
            "_view_module": "@jupyter-widgets/base",
            "_view_module_version": "1.2.0",
            "_view_name": "LayoutView",
            "align_content": null,
            "align_items": null,
            "align_self": null,
            "border": null,
            "bottom": null,
            "display": null,
            "flex": null,
            "flex_flow": null,
            "grid_area": null,
            "grid_auto_columns": null,
            "grid_auto_flow": null,
            "grid_auto_rows": null,
            "grid_column": null,
            "grid_gap": null,
            "grid_row": null,
            "grid_template_areas": null,
            "grid_template_columns": null,
            "grid_template_rows": null,
            "height": null,
            "justify_content": null,
            "justify_items": null,
            "left": null,
            "margin": null,
            "max_height": null,
            "max_width": null,
            "min_height": null,
            "min_width": null,
            "object_fit": null,
            "object_position": null,
            "order": null,
            "overflow": null,
            "overflow_x": null,
            "overflow_y": null,
            "padding": null,
            "right": null,
            "top": null,
            "visibility": null,
            "width": null
          }
        },
        "334f71e89a3a4029b530a81c55c3dfc7": {
          "model_module": "@jupyter-widgets/controls",
          "model_module_version": "1.5.0",
          "model_name": "HBoxModel",
          "state": {
            "_dom_classes": [],
            "_model_module": "@jupyter-widgets/controls",
            "_model_module_version": "1.5.0",
            "_model_name": "HBoxModel",
            "_view_count": null,
            "_view_module": "@jupyter-widgets/controls",
            "_view_module_version": "1.5.0",
            "_view_name": "HBoxView",
            "box_style": "",
            "children": [
              "IPY_MODEL_352f781bc4144ab79884b0ee066a2026",
              "IPY_MODEL_9820be23d0cf4a8b9c96ba33b55b1aa1",
              "IPY_MODEL_7ffa4a67ffb54a808e77b2fd6b4fbb2e"
            ],
            "layout": "IPY_MODEL_7f32b1f5448442e09d3494f535fb4d97"
          }
        },
        "3509f0bfe591485ea19b0797f94711b6": {
          "model_module": "@jupyter-widgets/base",
          "model_module_version": "1.2.0",
          "model_name": "LayoutModel",
          "state": {
            "_model_module": "@jupyter-widgets/base",
            "_model_module_version": "1.2.0",
            "_model_name": "LayoutModel",
            "_view_count": null,
            "_view_module": "@jupyter-widgets/base",
            "_view_module_version": "1.2.0",
            "_view_name": "LayoutView",
            "align_content": null,
            "align_items": null,
            "align_self": null,
            "border": null,
            "bottom": null,
            "display": null,
            "flex": null,
            "flex_flow": null,
            "grid_area": null,
            "grid_auto_columns": null,
            "grid_auto_flow": null,
            "grid_auto_rows": null,
            "grid_column": null,
            "grid_gap": null,
            "grid_row": null,
            "grid_template_areas": null,
            "grid_template_columns": null,
            "grid_template_rows": null,
            "height": null,
            "justify_content": null,
            "justify_items": null,
            "left": null,
            "margin": null,
            "max_height": null,
            "max_width": null,
            "min_height": null,
            "min_width": null,
            "object_fit": null,
            "object_position": null,
            "order": null,
            "overflow": null,
            "overflow_x": null,
            "overflow_y": null,
            "padding": null,
            "right": null,
            "top": null,
            "visibility": null,
            "width": null
          }
        },
        "352f781bc4144ab79884b0ee066a2026": {
          "model_module": "@jupyter-widgets/controls",
          "model_module_version": "1.5.0",
          "model_name": "HTMLModel",
          "state": {
            "_dom_classes": [],
            "_model_module": "@jupyter-widgets/controls",
            "_model_module_version": "1.5.0",
            "_model_name": "HTMLModel",
            "_view_count": null,
            "_view_module": "@jupyter-widgets/controls",
            "_view_module_version": "1.5.0",
            "_view_name": "HTMLView",
            "description": "",
            "description_tooltip": null,
            "layout": "IPY_MODEL_b152e321e9e7461f908116c60662bcec",
            "placeholder": "​",
            "style": "IPY_MODEL_e4faddaebbab41678969c3984b3f62ae",
            "value": "Ranking: 100%"
          }
        },
        "36acc5bd6eb7432195d96c82063a6b24": {
          "model_module": "@jupyter-widgets/base",
          "model_module_version": "1.2.0",
          "model_name": "LayoutModel",
          "state": {
            "_model_module": "@jupyter-widgets/base",
            "_model_module_version": "1.2.0",
            "_model_name": "LayoutModel",
            "_view_count": null,
            "_view_module": "@jupyter-widgets/base",
            "_view_module_version": "1.2.0",
            "_view_name": "LayoutView",
            "align_content": null,
            "align_items": null,
            "align_self": null,
            "border": null,
            "bottom": null,
            "display": null,
            "flex": null,
            "flex_flow": null,
            "grid_area": null,
            "grid_auto_columns": null,
            "grid_auto_flow": null,
            "grid_auto_rows": null,
            "grid_column": null,
            "grid_gap": null,
            "grid_row": null,
            "grid_template_areas": null,
            "grid_template_columns": null,
            "grid_template_rows": null,
            "height": null,
            "justify_content": null,
            "justify_items": null,
            "left": null,
            "margin": null,
            "max_height": null,
            "max_width": null,
            "min_height": null,
            "min_width": null,
            "object_fit": null,
            "object_position": null,
            "order": null,
            "overflow": null,
            "overflow_x": null,
            "overflow_y": null,
            "padding": null,
            "right": null,
            "top": null,
            "visibility": null,
            "width": null
          }
        },
        "3914d84ec43b47e998ed580959f451db": {
          "model_module": "@jupyter-widgets/controls",
          "model_module_version": "1.5.0",
          "model_name": "HTMLModel",
          "state": {
            "_dom_classes": [],
            "_model_module": "@jupyter-widgets/controls",
            "_model_module_version": "1.5.0",
            "_model_name": "HTMLModel",
            "_view_count": null,
            "_view_module": "@jupyter-widgets/controls",
            "_view_module_version": "1.5.0",
            "_view_name": "HTMLView",
            "description": "",
            "description_tooltip": null,
            "layout": "IPY_MODEL_4cb272f0c2b3480cb918c5b3e9618716",
            "placeholder": "​",
            "style": "IPY_MODEL_ff8df50971994954ad19e711ed4d9818",
            "value": " 28951/28951 [00:51&lt;00:00, 635.75it/s]"
          }
        },
        "409142dd6fdd4d738b1e1fbc78dd5aa9": {
          "model_module": "@jupyter-widgets/base",
          "model_module_version": "1.2.0",
          "model_name": "LayoutModel",
          "state": {
            "_model_module": "@jupyter-widgets/base",
            "_model_module_version": "1.2.0",
            "_model_name": "LayoutModel",
            "_view_count": null,
            "_view_module": "@jupyter-widgets/base",
            "_view_module_version": "1.2.0",
            "_view_name": "LayoutView",
            "align_content": null,
            "align_items": null,
            "align_self": null,
            "border": null,
            "bottom": null,
            "display": null,
            "flex": null,
            "flex_flow": null,
            "grid_area": null,
            "grid_auto_columns": null,
            "grid_auto_flow": null,
            "grid_auto_rows": null,
            "grid_column": null,
            "grid_gap": null,
            "grid_row": null,
            "grid_template_areas": null,
            "grid_template_columns": null,
            "grid_template_rows": null,
            "height": null,
            "justify_content": null,
            "justify_items": null,
            "left": null,
            "margin": null,
            "max_height": null,
            "max_width": null,
            "min_height": null,
            "min_width": null,
            "object_fit": null,
            "object_position": null,
            "order": null,
            "overflow": null,
            "overflow_x": null,
            "overflow_y": null,
            "padding": null,
            "right": null,
            "top": null,
            "visibility": null,
            "width": null
          }
        },
        "4116bd309399493fb089d0db0424c566": {
          "model_module": "@jupyter-widgets/controls",
          "model_module_version": "1.5.0",
          "model_name": "ProgressStyleModel",
          "state": {
            "_model_module": "@jupyter-widgets/controls",
            "_model_module_version": "1.5.0",
            "_model_name": "ProgressStyleModel",
            "_view_count": null,
            "_view_module": "@jupyter-widgets/base",
            "_view_module_version": "1.2.0",
            "_view_name": "StyleView",
            "bar_color": null,
            "description_width": ""
          }
        },
        "4314537ab4824ac9a0327ceabe6f04a6": {
          "model_module": "@jupyter-widgets/base",
          "model_module_version": "1.2.0",
          "model_name": "LayoutModel",
          "state": {
            "_model_module": "@jupyter-widgets/base",
            "_model_module_version": "1.2.0",
            "_model_name": "LayoutModel",
            "_view_count": null,
            "_view_module": "@jupyter-widgets/base",
            "_view_module_version": "1.2.0",
            "_view_name": "LayoutView",
            "align_content": null,
            "align_items": null,
            "align_self": null,
            "border": null,
            "bottom": null,
            "display": null,
            "flex": null,
            "flex_flow": null,
            "grid_area": null,
            "grid_auto_columns": null,
            "grid_auto_flow": null,
            "grid_auto_rows": null,
            "grid_column": null,
            "grid_gap": null,
            "grid_row": null,
            "grid_template_areas": null,
            "grid_template_columns": null,
            "grid_template_rows": null,
            "height": null,
            "justify_content": null,
            "justify_items": null,
            "left": null,
            "margin": null,
            "max_height": null,
            "max_width": null,
            "min_height": null,
            "min_width": null,
            "object_fit": null,
            "object_position": null,
            "order": null,
            "overflow": null,
            "overflow_x": null,
            "overflow_y": null,
            "padding": null,
            "right": null,
            "top": null,
            "visibility": null,
            "width": null
          }
        },
        "434e736ad24c4815adeb1fe5f5197b46": {
          "model_module": "@jupyter-widgets/controls",
          "model_module_version": "1.5.0",
          "model_name": "DescriptionStyleModel",
          "state": {
            "_model_module": "@jupyter-widgets/controls",
            "_model_module_version": "1.5.0",
            "_model_name": "DescriptionStyleModel",
            "_view_count": null,
            "_view_module": "@jupyter-widgets/base",
            "_view_module_version": "1.2.0",
            "_view_name": "StyleView",
            "description_width": ""
          }
        },
        "4635ce19be584e10a479074ed45468b7": {
          "model_module": "@jupyter-widgets/controls",
          "model_module_version": "1.5.0",
          "model_name": "HTMLModel",
          "state": {
            "_dom_classes": [],
            "_model_module": "@jupyter-widgets/controls",
            "_model_module_version": "1.5.0",
            "_model_name": "HTMLModel",
            "_view_count": null,
            "_view_module": "@jupyter-widgets/controls",
            "_view_module_version": "1.5.0",
            "_view_name": "HTMLView",
            "description": "",
            "description_tooltip": null,
            "layout": "IPY_MODEL_e2856676bd8f495a89d4d5c521d7e90e",
            "placeholder": "​",
            "style": "IPY_MODEL_d586ad55f60e4948bf4fa0a9474c7a95",
            "value": " 610/610 [00:03&lt;00:00, 203.94it/s]"
          }
        },
        "46cec9f37e2b412a9717e7b91e6635ab": {
          "model_module": "@jupyter-widgets/base",
          "model_module_version": "1.2.0",
          "model_name": "LayoutModel",
          "state": {
            "_model_module": "@jupyter-widgets/base",
            "_model_module_version": "1.2.0",
            "_model_name": "LayoutModel",
            "_view_count": null,
            "_view_module": "@jupyter-widgets/base",
            "_view_module_version": "1.2.0",
            "_view_name": "LayoutView",
            "align_content": null,
            "align_items": null,
            "align_self": null,
            "border": null,
            "bottom": null,
            "display": null,
            "flex": null,
            "flex_flow": null,
            "grid_area": null,
            "grid_auto_columns": null,
            "grid_auto_flow": null,
            "grid_auto_rows": null,
            "grid_column": null,
            "grid_gap": null,
            "grid_row": null,
            "grid_template_areas": null,
            "grid_template_columns": null,
            "grid_template_rows": null,
            "height": null,
            "justify_content": null,
            "justify_items": null,
            "left": null,
            "margin": null,
            "max_height": null,
            "max_width": null,
            "min_height": null,
            "min_width": null,
            "object_fit": null,
            "object_position": null,
            "order": null,
            "overflow": null,
            "overflow_x": null,
            "overflow_y": null,
            "padding": null,
            "right": null,
            "top": null,
            "visibility": null,
            "width": null
          }
        },
        "47c1b5e008ce49bda1786b7ba3e6c8fa": {
          "model_module": "@jupyter-widgets/controls",
          "model_module_version": "1.5.0",
          "model_name": "ProgressStyleModel",
          "state": {
            "_model_module": "@jupyter-widgets/controls",
            "_model_module_version": "1.5.0",
            "_model_name": "ProgressStyleModel",
            "_view_count": null,
            "_view_module": "@jupyter-widgets/base",
            "_view_module_version": "1.2.0",
            "_view_name": "StyleView",
            "bar_color": null,
            "description_width": ""
          }
        },
        "4cb272f0c2b3480cb918c5b3e9618716": {
          "model_module": "@jupyter-widgets/base",
          "model_module_version": "1.2.0",
          "model_name": "LayoutModel",
          "state": {
            "_model_module": "@jupyter-widgets/base",
            "_model_module_version": "1.2.0",
            "_model_name": "LayoutModel",
            "_view_count": null,
            "_view_module": "@jupyter-widgets/base",
            "_view_module_version": "1.2.0",
            "_view_name": "LayoutView",
            "align_content": null,
            "align_items": null,
            "align_self": null,
            "border": null,
            "bottom": null,
            "display": null,
            "flex": null,
            "flex_flow": null,
            "grid_area": null,
            "grid_auto_columns": null,
            "grid_auto_flow": null,
            "grid_auto_rows": null,
            "grid_column": null,
            "grid_gap": null,
            "grid_row": null,
            "grid_template_areas": null,
            "grid_template_columns": null,
            "grid_template_rows": null,
            "height": null,
            "justify_content": null,
            "justify_items": null,
            "left": null,
            "margin": null,
            "max_height": null,
            "max_width": null,
            "min_height": null,
            "min_width": null,
            "object_fit": null,
            "object_position": null,
            "order": null,
            "overflow": null,
            "overflow_x": null,
            "overflow_y": null,
            "padding": null,
            "right": null,
            "top": null,
            "visibility": null,
            "width": null
          }
        },
        "5d7ae050d27741d1abdec6dd539ff7d0": {
          "model_module": "@jupyter-widgets/controls",
          "model_module_version": "1.5.0",
          "model_name": "HTMLModel",
          "state": {
            "_dom_classes": [],
            "_model_module": "@jupyter-widgets/controls",
            "_model_module_version": "1.5.0",
            "_model_name": "HTMLModel",
            "_view_count": null,
            "_view_module": "@jupyter-widgets/controls",
            "_view_module_version": "1.5.0",
            "_view_name": "HTMLView",
            "description": "",
            "description_tooltip": null,
            "layout": "IPY_MODEL_03790e53671f4db48d21532151b48cf1",
            "placeholder": "​",
            "style": "IPY_MODEL_fd13ac105e0d42349da5cd2829de3acd",
            "value": "Rating: 100%"
          }
        },
        "5e125267726c4bb8b7491659b646a73d": {
          "model_module": "@jupyter-widgets/controls",
          "model_module_version": "1.5.0",
          "model_name": "DescriptionStyleModel",
          "state": {
            "_model_module": "@jupyter-widgets/controls",
            "_model_module_version": "1.5.0",
            "_model_name": "DescriptionStyleModel",
            "_view_count": null,
            "_view_module": "@jupyter-widgets/base",
            "_view_module_version": "1.2.0",
            "_view_name": "StyleView",
            "description_width": ""
          }
        },
        "5e423ed4edc54179bba6f4aed6c4c466": {
          "model_module": "@jupyter-widgets/base",
          "model_module_version": "1.2.0",
          "model_name": "LayoutModel",
          "state": {
            "_model_module": "@jupyter-widgets/base",
            "_model_module_version": "1.2.0",
            "_model_name": "LayoutModel",
            "_view_count": null,
            "_view_module": "@jupyter-widgets/base",
            "_view_module_version": "1.2.0",
            "_view_name": "LayoutView",
            "align_content": null,
            "align_items": null,
            "align_self": null,
            "border": null,
            "bottom": null,
            "display": null,
            "flex": null,
            "flex_flow": null,
            "grid_area": null,
            "grid_auto_columns": null,
            "grid_auto_flow": null,
            "grid_auto_rows": null,
            "grid_column": null,
            "grid_gap": null,
            "grid_row": null,
            "grid_template_areas": null,
            "grid_template_columns": null,
            "grid_template_rows": null,
            "height": null,
            "justify_content": null,
            "justify_items": null,
            "left": null,
            "margin": null,
            "max_height": null,
            "max_width": null,
            "min_height": null,
            "min_width": null,
            "object_fit": null,
            "object_position": null,
            "order": null,
            "overflow": null,
            "overflow_x": null,
            "overflow_y": null,
            "padding": null,
            "right": null,
            "top": null,
            "visibility": null,
            "width": null
          }
        },
        "5e89206dff0d4252bdd3bf0af933b383": {
          "model_module": "@jupyter-widgets/base",
          "model_module_version": "1.2.0",
          "model_name": "LayoutModel",
          "state": {
            "_model_module": "@jupyter-widgets/base",
            "_model_module_version": "1.2.0",
            "_model_name": "LayoutModel",
            "_view_count": null,
            "_view_module": "@jupyter-widgets/base",
            "_view_module_version": "1.2.0",
            "_view_name": "LayoutView",
            "align_content": null,
            "align_items": null,
            "align_self": null,
            "border": null,
            "bottom": null,
            "display": null,
            "flex": null,
            "flex_flow": null,
            "grid_area": null,
            "grid_auto_columns": null,
            "grid_auto_flow": null,
            "grid_auto_rows": null,
            "grid_column": null,
            "grid_gap": null,
            "grid_row": null,
            "grid_template_areas": null,
            "grid_template_columns": null,
            "grid_template_rows": null,
            "height": null,
            "justify_content": null,
            "justify_items": null,
            "left": null,
            "margin": null,
            "max_height": null,
            "max_width": null,
            "min_height": null,
            "min_width": null,
            "object_fit": null,
            "object_position": null,
            "order": null,
            "overflow": null,
            "overflow_x": null,
            "overflow_y": null,
            "padding": null,
            "right": null,
            "top": null,
            "visibility": null,
            "width": null
          }
        },
        "5fb2ccb37a78434f8329c52887dca5cf": {
          "model_module": "@jupyter-widgets/base",
          "model_module_version": "1.2.0",
          "model_name": "LayoutModel",
          "state": {
            "_model_module": "@jupyter-widgets/base",
            "_model_module_version": "1.2.0",
            "_model_name": "LayoutModel",
            "_view_count": null,
            "_view_module": "@jupyter-widgets/base",
            "_view_module_version": "1.2.0",
            "_view_name": "LayoutView",
            "align_content": null,
            "align_items": null,
            "align_self": null,
            "border": null,
            "bottom": null,
            "display": null,
            "flex": null,
            "flex_flow": null,
            "grid_area": null,
            "grid_auto_columns": null,
            "grid_auto_flow": null,
            "grid_auto_rows": null,
            "grid_column": null,
            "grid_gap": null,
            "grid_row": null,
            "grid_template_areas": null,
            "grid_template_columns": null,
            "grid_template_rows": null,
            "height": null,
            "justify_content": null,
            "justify_items": null,
            "left": null,
            "margin": null,
            "max_height": null,
            "max_width": null,
            "min_height": null,
            "min_width": null,
            "object_fit": null,
            "object_position": null,
            "order": null,
            "overflow": null,
            "overflow_x": null,
            "overflow_y": null,
            "padding": null,
            "right": null,
            "top": null,
            "visibility": null,
            "width": null
          }
        },
        "61154e4b6e25494eae95ea61d327cf82": {
          "model_module": "@jupyter-widgets/base",
          "model_module_version": "1.2.0",
          "model_name": "LayoutModel",
          "state": {
            "_model_module": "@jupyter-widgets/base",
            "_model_module_version": "1.2.0",
            "_model_name": "LayoutModel",
            "_view_count": null,
            "_view_module": "@jupyter-widgets/base",
            "_view_module_version": "1.2.0",
            "_view_name": "LayoutView",
            "align_content": null,
            "align_items": null,
            "align_self": null,
            "border": null,
            "bottom": null,
            "display": null,
            "flex": null,
            "flex_flow": null,
            "grid_area": null,
            "grid_auto_columns": null,
            "grid_auto_flow": null,
            "grid_auto_rows": null,
            "grid_column": null,
            "grid_gap": null,
            "grid_row": null,
            "grid_template_areas": null,
            "grid_template_columns": null,
            "grid_template_rows": null,
            "height": null,
            "justify_content": null,
            "justify_items": null,
            "left": null,
            "margin": null,
            "max_height": null,
            "max_width": null,
            "min_height": null,
            "min_width": null,
            "object_fit": null,
            "object_position": null,
            "order": null,
            "overflow": null,
            "overflow_x": null,
            "overflow_y": null,
            "padding": null,
            "right": null,
            "top": null,
            "visibility": null,
            "width": null
          }
        },
        "65dcebcf9b6b4db89d42bce2a46da4ae": {
          "model_module": "@jupyter-widgets/controls",
          "model_module_version": "1.5.0",
          "model_name": "HBoxModel",
          "state": {
            "_dom_classes": [],
            "_model_module": "@jupyter-widgets/controls",
            "_model_module_version": "1.5.0",
            "_model_name": "HBoxModel",
            "_view_count": null,
            "_view_module": "@jupyter-widgets/controls",
            "_view_module_version": "1.5.0",
            "_view_name": "HBoxView",
            "box_style": "",
            "children": [
              "IPY_MODEL_67dc93bc408749c6b928a55c88f0fcad",
              "IPY_MODEL_e138fd6b3d9c4a7f8fc33592ee47f7a7",
              "IPY_MODEL_3914d84ec43b47e998ed580959f451db"
            ],
            "layout": "IPY_MODEL_af201e0b75b6434cb2e10d89b3ec7766"
          }
        },
        "6627df3a74c14848905805f88e3e560b": {
          "model_module": "@jupyter-widgets/controls",
          "model_module_version": "1.5.0",
          "model_name": "HTMLModel",
          "state": {
            "_dom_classes": [],
            "_model_module": "@jupyter-widgets/controls",
            "_model_module_version": "1.5.0",
            "_model_name": "HTMLModel",
            "_view_count": null,
            "_view_module": "@jupyter-widgets/controls",
            "_view_module_version": "1.5.0",
            "_view_name": "HTMLView",
            "description": "",
            "description_tooltip": null,
            "layout": "IPY_MODEL_c2b53dedd79d447c8209b4f33aacbf5b",
            "placeholder": "​",
            "style": "IPY_MODEL_e65f0fc5945f4154a0268b0bdbe5022e",
            "value": "Ranking: 100%"
          }
        },
        "67dc93bc408749c6b928a55c88f0fcad": {
          "model_module": "@jupyter-widgets/controls",
          "model_module_version": "1.5.0",
          "model_name": "HTMLModel",
          "state": {
            "_dom_classes": [],
            "_model_module": "@jupyter-widgets/controls",
            "_model_module_version": "1.5.0",
            "_model_name": "HTMLModel",
            "_view_count": null,
            "_view_module": "@jupyter-widgets/controls",
            "_view_module_version": "1.5.0",
            "_view_name": "HTMLView",
            "description": "",
            "description_tooltip": null,
            "layout": "IPY_MODEL_e5d2c272ecf948cf89e5345637a073c1",
            "placeholder": "​",
            "style": "IPY_MODEL_ad6877c7d28d489a8d7777598d4224f4",
            "value": "Rating: 100%"
          }
        },
        "6a43cd65c9f64a619bd80cb69d09a713": {
          "model_module": "@jupyter-widgets/controls",
          "model_module_version": "1.5.0",
          "model_name": "ProgressStyleModel",
          "state": {
            "_model_module": "@jupyter-widgets/controls",
            "_model_module_version": "1.5.0",
            "_model_name": "ProgressStyleModel",
            "_view_count": null,
            "_view_module": "@jupyter-widgets/base",
            "_view_module_version": "1.2.0",
            "_view_name": "StyleView",
            "bar_color": null,
            "description_width": ""
          }
        },
        "6a99bc2a5f7842c2b958a8ac8ac1d42b": {
          "model_module": "@jupyter-widgets/controls",
          "model_module_version": "1.5.0",
          "model_name": "ProgressStyleModel",
          "state": {
            "_model_module": "@jupyter-widgets/controls",
            "_model_module_version": "1.5.0",
            "_model_name": "ProgressStyleModel",
            "_view_count": null,
            "_view_module": "@jupyter-widgets/base",
            "_view_module_version": "1.2.0",
            "_view_name": "StyleView",
            "bar_color": null,
            "description_width": ""
          }
        },
        "6f4409cec1a242379ff2e6e52e3322fb": {
          "model_module": "@jupyter-widgets/controls",
          "model_module_version": "1.5.0",
          "model_name": "DescriptionStyleModel",
          "state": {
            "_model_module": "@jupyter-widgets/controls",
            "_model_module_version": "1.5.0",
            "_model_name": "DescriptionStyleModel",
            "_view_count": null,
            "_view_module": "@jupyter-widgets/base",
            "_view_module_version": "1.2.0",
            "_view_name": "StyleView",
            "description_width": ""
          }
        },
        "7165def1eb6643118c6a19d7a24ecf79": {
          "model_module": "@jupyter-widgets/controls",
          "model_module_version": "1.5.0",
          "model_name": "HTMLModel",
          "state": {
            "_dom_classes": [],
            "_model_module": "@jupyter-widgets/controls",
            "_model_module_version": "1.5.0",
            "_model_name": "HTMLModel",
            "_view_count": null,
            "_view_module": "@jupyter-widgets/controls",
            "_view_module_version": "1.5.0",
            "_view_name": "HTMLView",
            "description": "",
            "description_tooltip": null,
            "layout": "IPY_MODEL_46cec9f37e2b412a9717e7b91e6635ab",
            "placeholder": "​",
            "style": "IPY_MODEL_e880ec0ff76041eeaa3e5a142be52f8c",
            "value": " 28951/28951 [00:00&lt;00:00, 59139.12it/s]"
          }
        },
        "7342395bc37e4745a5a436f0594cc37b": {
          "model_module": "@jupyter-widgets/controls",
          "model_module_version": "1.5.0",
          "model_name": "DescriptionStyleModel",
          "state": {
            "_model_module": "@jupyter-widgets/controls",
            "_model_module_version": "1.5.0",
            "_model_name": "DescriptionStyleModel",
            "_view_count": null,
            "_view_module": "@jupyter-widgets/base",
            "_view_module_version": "1.2.0",
            "_view_name": "StyleView",
            "description_width": ""
          }
        },
        "759b604ce7a844efba68004455f933e3": {
          "model_module": "@jupyter-widgets/controls",
          "model_module_version": "1.5.0",
          "model_name": "ProgressStyleModel",
          "state": {
            "_model_module": "@jupyter-widgets/controls",
            "_model_module_version": "1.5.0",
            "_model_name": "ProgressStyleModel",
            "_view_count": null,
            "_view_module": "@jupyter-widgets/base",
            "_view_module_version": "1.2.0",
            "_view_name": "StyleView",
            "bar_color": null,
            "description_width": ""
          }
        },
        "797cc6be6a6e423a8d6079780194d09f": {
          "model_module": "@jupyter-widgets/controls",
          "model_module_version": "1.5.0",
          "model_name": "HTMLModel",
          "state": {
            "_dom_classes": [],
            "_model_module": "@jupyter-widgets/controls",
            "_model_module_version": "1.5.0",
            "_model_name": "HTMLModel",
            "_view_count": null,
            "_view_module": "@jupyter-widgets/controls",
            "_view_module_version": "1.5.0",
            "_view_name": "HTMLView",
            "description": "",
            "description_tooltip": null,
            "layout": "IPY_MODEL_5e423ed4edc54179bba6f4aed6c4c466",
            "placeholder": "​",
            "style": "IPY_MODEL_df32b666df5b4c3fa353d62761965767",
            "value": "Rating: 100%"
          }
        },
        "7f32b1f5448442e09d3494f535fb4d97": {
          "model_module": "@jupyter-widgets/base",
          "model_module_version": "1.2.0",
          "model_name": "LayoutModel",
          "state": {
            "_model_module": "@jupyter-widgets/base",
            "_model_module_version": "1.2.0",
            "_model_name": "LayoutModel",
            "_view_count": null,
            "_view_module": "@jupyter-widgets/base",
            "_view_module_version": "1.2.0",
            "_view_name": "LayoutView",
            "align_content": null,
            "align_items": null,
            "align_self": null,
            "border": null,
            "bottom": null,
            "display": null,
            "flex": null,
            "flex_flow": null,
            "grid_area": null,
            "grid_auto_columns": null,
            "grid_auto_flow": null,
            "grid_auto_rows": null,
            "grid_column": null,
            "grid_gap": null,
            "grid_row": null,
            "grid_template_areas": null,
            "grid_template_columns": null,
            "grid_template_rows": null,
            "height": null,
            "justify_content": null,
            "justify_items": null,
            "left": null,
            "margin": null,
            "max_height": null,
            "max_width": null,
            "min_height": null,
            "min_width": null,
            "object_fit": null,
            "object_position": null,
            "order": null,
            "overflow": null,
            "overflow_x": null,
            "overflow_y": null,
            "padding": null,
            "right": null,
            "top": null,
            "visibility": null,
            "width": null
          }
        },
        "7ffa4a67ffb54a808e77b2fd6b4fbb2e": {
          "model_module": "@jupyter-widgets/controls",
          "model_module_version": "1.5.0",
          "model_name": "HTMLModel",
          "state": {
            "_dom_classes": [],
            "_model_module": "@jupyter-widgets/controls",
            "_model_module_version": "1.5.0",
            "_model_name": "HTMLModel",
            "_view_count": null,
            "_view_module": "@jupyter-widgets/controls",
            "_view_module_version": "1.5.0",
            "_view_name": "HTMLView",
            "description": "",
            "description_tooltip": null,
            "layout": "IPY_MODEL_1788ca57fad84349878a8e6687418e55",
            "placeholder": "​",
            "style": "IPY_MODEL_5e125267726c4bb8b7491659b646a73d",
            "value": " 610/610 [00:02&lt;00:00, 281.61it/s]"
          }
        },
        "80cdc147ec51412b995d5b7827645c3b": {
          "model_module": "@jupyter-widgets/base",
          "model_module_version": "1.2.0",
          "model_name": "LayoutModel",
          "state": {
            "_model_module": "@jupyter-widgets/base",
            "_model_module_version": "1.2.0",
            "_model_name": "LayoutModel",
            "_view_count": null,
            "_view_module": "@jupyter-widgets/base",
            "_view_module_version": "1.2.0",
            "_view_name": "LayoutView",
            "align_content": null,
            "align_items": null,
            "align_self": null,
            "border": null,
            "bottom": null,
            "display": null,
            "flex": null,
            "flex_flow": null,
            "grid_area": null,
            "grid_auto_columns": null,
            "grid_auto_flow": null,
            "grid_auto_rows": null,
            "grid_column": null,
            "grid_gap": null,
            "grid_row": null,
            "grid_template_areas": null,
            "grid_template_columns": null,
            "grid_template_rows": null,
            "height": null,
            "justify_content": null,
            "justify_items": null,
            "left": null,
            "margin": null,
            "max_height": null,
            "max_width": null,
            "min_height": null,
            "min_width": null,
            "object_fit": null,
            "object_position": null,
            "order": null,
            "overflow": null,
            "overflow_x": null,
            "overflow_y": null,
            "padding": null,
            "right": null,
            "top": null,
            "visibility": null,
            "width": null
          }
        },
        "8611c2ee2b7f4e00a17d0486974d283f": {
          "model_module": "@jupyter-widgets/base",
          "model_module_version": "1.2.0",
          "model_name": "LayoutModel",
          "state": {
            "_model_module": "@jupyter-widgets/base",
            "_model_module_version": "1.2.0",
            "_model_name": "LayoutModel",
            "_view_count": null,
            "_view_module": "@jupyter-widgets/base",
            "_view_module_version": "1.2.0",
            "_view_name": "LayoutView",
            "align_content": null,
            "align_items": null,
            "align_self": null,
            "border": null,
            "bottom": null,
            "display": null,
            "flex": null,
            "flex_flow": null,
            "grid_area": null,
            "grid_auto_columns": null,
            "grid_auto_flow": null,
            "grid_auto_rows": null,
            "grid_column": null,
            "grid_gap": null,
            "grid_row": null,
            "grid_template_areas": null,
            "grid_template_columns": null,
            "grid_template_rows": null,
            "height": null,
            "justify_content": null,
            "justify_items": null,
            "left": null,
            "margin": null,
            "max_height": null,
            "max_width": null,
            "min_height": null,
            "min_width": null,
            "object_fit": null,
            "object_position": null,
            "order": null,
            "overflow": null,
            "overflow_x": null,
            "overflow_y": null,
            "padding": null,
            "right": null,
            "top": null,
            "visibility": null,
            "width": null
          }
        },
        "9820be23d0cf4a8b9c96ba33b55b1aa1": {
          "model_module": "@jupyter-widgets/controls",
          "model_module_version": "1.5.0",
          "model_name": "FloatProgressModel",
          "state": {
            "_dom_classes": [],
            "_model_module": "@jupyter-widgets/controls",
            "_model_module_version": "1.5.0",
            "_model_name": "FloatProgressModel",
            "_view_count": null,
            "_view_module": "@jupyter-widgets/controls",
            "_view_module_version": "1.5.0",
            "_view_name": "ProgressView",
            "bar_style": "success",
            "description": "",
            "description_tooltip": null,
            "layout": "IPY_MODEL_13674b259a734841ba3326bf8ffeb50c",
            "max": 610,
            "min": 0,
            "orientation": "horizontal",
            "style": "IPY_MODEL_6a99bc2a5f7842c2b958a8ac8ac1d42b",
            "value": 610
          }
        },
        "9a80ea1d22c1485988323d588007cc9e": {
          "model_module": "@jupyter-widgets/controls",
          "model_module_version": "1.5.0",
          "model_name": "HTMLModel",
          "state": {
            "_dom_classes": [],
            "_model_module": "@jupyter-widgets/controls",
            "_model_module_version": "1.5.0",
            "_model_name": "HTMLModel",
            "_view_count": null,
            "_view_module": "@jupyter-widgets/controls",
            "_view_module_version": "1.5.0",
            "_view_name": "HTMLView",
            "description": "",
            "description_tooltip": null,
            "layout": "IPY_MODEL_203fd1771e714982b17a38e9cda92e98",
            "placeholder": "​",
            "style": "IPY_MODEL_434e736ad24c4815adeb1fe5f5197b46",
            "value": "Rating: 100%"
          }
        },
        "9cbfa4c9bf9c429a992ebfe4afbd1ea0": {
          "model_module": "@jupyter-widgets/base",
          "model_module_version": "1.2.0",
          "model_name": "LayoutModel",
          "state": {
            "_model_module": "@jupyter-widgets/base",
            "_model_module_version": "1.2.0",
            "_model_name": "LayoutModel",
            "_view_count": null,
            "_view_module": "@jupyter-widgets/base",
            "_view_module_version": "1.2.0",
            "_view_name": "LayoutView",
            "align_content": null,
            "align_items": null,
            "align_self": null,
            "border": null,
            "bottom": null,
            "display": null,
            "flex": null,
            "flex_flow": null,
            "grid_area": null,
            "grid_auto_columns": null,
            "grid_auto_flow": null,
            "grid_auto_rows": null,
            "grid_column": null,
            "grid_gap": null,
            "grid_row": null,
            "grid_template_areas": null,
            "grid_template_columns": null,
            "grid_template_rows": null,
            "height": null,
            "justify_content": null,
            "justify_items": null,
            "left": null,
            "margin": null,
            "max_height": null,
            "max_width": null,
            "min_height": null,
            "min_width": null,
            "object_fit": null,
            "object_position": null,
            "order": null,
            "overflow": null,
            "overflow_x": null,
            "overflow_y": null,
            "padding": null,
            "right": null,
            "top": null,
            "visibility": null,
            "width": null
          }
        },
        "9e3489d7e78f424987689214c1247ae1": {
          "model_module": "@jupyter-widgets/controls",
          "model_module_version": "1.5.0",
          "model_name": "FloatProgressModel",
          "state": {
            "_dom_classes": [],
            "_model_module": "@jupyter-widgets/controls",
            "_model_module_version": "1.5.0",
            "_model_name": "FloatProgressModel",
            "_view_count": null,
            "_view_module": "@jupyter-widgets/controls",
            "_view_module_version": "1.5.0",
            "_view_name": "ProgressView",
            "bar_style": "success",
            "description": "",
            "description_tooltip": null,
            "layout": "IPY_MODEL_3509f0bfe591485ea19b0797f94711b6",
            "max": 28951,
            "min": 0,
            "orientation": "horizontal",
            "style": "IPY_MODEL_b24cc0399c284b0eb2c8408eaf97a066",
            "value": 28951
          }
        },
        "a36681d13b034d10b07699506b714888": {
          "model_module": "@jupyter-widgets/controls",
          "model_module_version": "1.5.0",
          "model_name": "HTMLModel",
          "state": {
            "_dom_classes": [],
            "_model_module": "@jupyter-widgets/controls",
            "_model_module_version": "1.5.0",
            "_model_name": "HTMLModel",
            "_view_count": null,
            "_view_module": "@jupyter-widgets/controls",
            "_view_module_version": "1.5.0",
            "_view_name": "HTMLView",
            "description": "",
            "description_tooltip": null,
            "layout": "IPY_MODEL_80cdc147ec51412b995d5b7827645c3b",
            "placeholder": "​",
            "style": "IPY_MODEL_6f4409cec1a242379ff2e6e52e3322fb",
            "value": " 28951/28951 [00:19&lt;00:00, 1724.25it/s]"
          }
        },
        "ad6877c7d28d489a8d7777598d4224f4": {
          "model_module": "@jupyter-widgets/controls",
          "model_module_version": "1.5.0",
          "model_name": "DescriptionStyleModel",
          "state": {
            "_model_module": "@jupyter-widgets/controls",
            "_model_module_version": "1.5.0",
            "_model_name": "DescriptionStyleModel",
            "_view_count": null,
            "_view_module": "@jupyter-widgets/base",
            "_view_module_version": "1.2.0",
            "_view_name": "StyleView",
            "description_width": ""
          }
        },
        "ad83567ecad545128596a19598bc51b8": {
          "model_module": "@jupyter-widgets/controls",
          "model_module_version": "1.5.0",
          "model_name": "DescriptionStyleModel",
          "state": {
            "_model_module": "@jupyter-widgets/controls",
            "_model_module_version": "1.5.0",
            "_model_name": "DescriptionStyleModel",
            "_view_count": null,
            "_view_module": "@jupyter-widgets/base",
            "_view_module_version": "1.2.0",
            "_view_name": "StyleView",
            "description_width": ""
          }
        },
        "af201e0b75b6434cb2e10d89b3ec7766": {
          "model_module": "@jupyter-widgets/base",
          "model_module_version": "1.2.0",
          "model_name": "LayoutModel",
          "state": {
            "_model_module": "@jupyter-widgets/base",
            "_model_module_version": "1.2.0",
            "_model_name": "LayoutModel",
            "_view_count": null,
            "_view_module": "@jupyter-widgets/base",
            "_view_module_version": "1.2.0",
            "_view_name": "LayoutView",
            "align_content": null,
            "align_items": null,
            "align_self": null,
            "border": null,
            "bottom": null,
            "display": null,
            "flex": null,
            "flex_flow": null,
            "grid_area": null,
            "grid_auto_columns": null,
            "grid_auto_flow": null,
            "grid_auto_rows": null,
            "grid_column": null,
            "grid_gap": null,
            "grid_row": null,
            "grid_template_areas": null,
            "grid_template_columns": null,
            "grid_template_rows": null,
            "height": null,
            "justify_content": null,
            "justify_items": null,
            "left": null,
            "margin": null,
            "max_height": null,
            "max_width": null,
            "min_height": null,
            "min_width": null,
            "object_fit": null,
            "object_position": null,
            "order": null,
            "overflow": null,
            "overflow_x": null,
            "overflow_y": null,
            "padding": null,
            "right": null,
            "top": null,
            "visibility": null,
            "width": null
          }
        },
        "affd8bbd4f624aeb82db23854c7b8b5c": {
          "model_module": "@jupyter-widgets/controls",
          "model_module_version": "1.5.0",
          "model_name": "DescriptionStyleModel",
          "state": {
            "_model_module": "@jupyter-widgets/controls",
            "_model_module_version": "1.5.0",
            "_model_name": "DescriptionStyleModel",
            "_view_count": null,
            "_view_module": "@jupyter-widgets/base",
            "_view_module_version": "1.2.0",
            "_view_name": "StyleView",
            "description_width": ""
          }
        },
        "b152e321e9e7461f908116c60662bcec": {
          "model_module": "@jupyter-widgets/base",
          "model_module_version": "1.2.0",
          "model_name": "LayoutModel",
          "state": {
            "_model_module": "@jupyter-widgets/base",
            "_model_module_version": "1.2.0",
            "_model_name": "LayoutModel",
            "_view_count": null,
            "_view_module": "@jupyter-widgets/base",
            "_view_module_version": "1.2.0",
            "_view_name": "LayoutView",
            "align_content": null,
            "align_items": null,
            "align_self": null,
            "border": null,
            "bottom": null,
            "display": null,
            "flex": null,
            "flex_flow": null,
            "grid_area": null,
            "grid_auto_columns": null,
            "grid_auto_flow": null,
            "grid_auto_rows": null,
            "grid_column": null,
            "grid_gap": null,
            "grid_row": null,
            "grid_template_areas": null,
            "grid_template_columns": null,
            "grid_template_rows": null,
            "height": null,
            "justify_content": null,
            "justify_items": null,
            "left": null,
            "margin": null,
            "max_height": null,
            "max_width": null,
            "min_height": null,
            "min_width": null,
            "object_fit": null,
            "object_position": null,
            "order": null,
            "overflow": null,
            "overflow_x": null,
            "overflow_y": null,
            "padding": null,
            "right": null,
            "top": null,
            "visibility": null,
            "width": null
          }
        },
        "b24cc0399c284b0eb2c8408eaf97a066": {
          "model_module": "@jupyter-widgets/controls",
          "model_module_version": "1.5.0",
          "model_name": "ProgressStyleModel",
          "state": {
            "_model_module": "@jupyter-widgets/controls",
            "_model_module_version": "1.5.0",
            "_model_name": "ProgressStyleModel",
            "_view_count": null,
            "_view_module": "@jupyter-widgets/base",
            "_view_module_version": "1.2.0",
            "_view_name": "StyleView",
            "bar_color": null,
            "description_width": ""
          }
        },
        "b394883d3f0f4cc5bea5cf06bcd08edb": {
          "model_module": "@jupyter-widgets/controls",
          "model_module_version": "1.5.0",
          "model_name": "FloatProgressModel",
          "state": {
            "_dom_classes": [],
            "_model_module": "@jupyter-widgets/controls",
            "_model_module_version": "1.5.0",
            "_model_name": "FloatProgressModel",
            "_view_count": null,
            "_view_module": "@jupyter-widgets/controls",
            "_view_module_version": "1.5.0",
            "_view_name": "ProgressView",
            "bar_style": "success",
            "description": "",
            "description_tooltip": null,
            "layout": "IPY_MODEL_c997de9c87b34f74bdb9e98a5f12a537",
            "max": 28951,
            "min": 0,
            "orientation": "horizontal",
            "style": "IPY_MODEL_6a43cd65c9f64a619bd80cb69d09a713",
            "value": 28951
          }
        },
        "b910fc6f52ee408fbb9c57cdbbcafbe3": {
          "model_module": "@jupyter-widgets/base",
          "model_module_version": "1.2.0",
          "model_name": "LayoutModel",
          "state": {
            "_model_module": "@jupyter-widgets/base",
            "_model_module_version": "1.2.0",
            "_model_name": "LayoutModel",
            "_view_count": null,
            "_view_module": "@jupyter-widgets/base",
            "_view_module_version": "1.2.0",
            "_view_name": "LayoutView",
            "align_content": null,
            "align_items": null,
            "align_self": null,
            "border": null,
            "bottom": null,
            "display": null,
            "flex": null,
            "flex_flow": null,
            "grid_area": null,
            "grid_auto_columns": null,
            "grid_auto_flow": null,
            "grid_auto_rows": null,
            "grid_column": null,
            "grid_gap": null,
            "grid_row": null,
            "grid_template_areas": null,
            "grid_template_columns": null,
            "grid_template_rows": null,
            "height": null,
            "justify_content": null,
            "justify_items": null,
            "left": null,
            "margin": null,
            "max_height": null,
            "max_width": null,
            "min_height": null,
            "min_width": null,
            "object_fit": null,
            "object_position": null,
            "order": null,
            "overflow": null,
            "overflow_x": null,
            "overflow_y": null,
            "padding": null,
            "right": null,
            "top": null,
            "visibility": null,
            "width": null
          }
        },
        "b9d25a97b2a244c79ab05f030f1f45ea": {
          "model_module": "@jupyter-widgets/controls",
          "model_module_version": "1.5.0",
          "model_name": "FloatProgressModel",
          "state": {
            "_dom_classes": [],
            "_model_module": "@jupyter-widgets/controls",
            "_model_module_version": "1.5.0",
            "_model_name": "FloatProgressModel",
            "_view_count": null,
            "_view_module": "@jupyter-widgets/controls",
            "_view_module_version": "1.5.0",
            "_view_name": "ProgressView",
            "bar_style": "success",
            "description": "",
            "description_tooltip": null,
            "layout": "IPY_MODEL_5fb2ccb37a78434f8329c52887dca5cf",
            "max": 28951,
            "min": 0,
            "orientation": "horizontal",
            "style": "IPY_MODEL_47c1b5e008ce49bda1786b7ba3e6c8fa",
            "value": 28951
          }
        },
        "bb381dafbc0d4be98c2853db0ca6f52f": {
          "model_module": "@jupyter-widgets/controls",
          "model_module_version": "1.5.0",
          "model_name": "HBoxModel",
          "state": {
            "_dom_classes": [],
            "_model_module": "@jupyter-widgets/controls",
            "_model_module_version": "1.5.0",
            "_model_name": "HBoxModel",
            "_view_count": null,
            "_view_module": "@jupyter-widgets/controls",
            "_view_module_version": "1.5.0",
            "_view_name": "HBoxView",
            "box_style": "",
            "children": [
              "IPY_MODEL_5d7ae050d27741d1abdec6dd539ff7d0",
              "IPY_MODEL_9e3489d7e78f424987689214c1247ae1",
              "IPY_MODEL_7165def1eb6643118c6a19d7a24ecf79"
            ],
            "layout": "IPY_MODEL_03faf26730174a909b31121907a43534"
          }
        },
        "c1b285d88b5f40f9985ada6792c9f038": {
          "model_module": "@jupyter-widgets/controls",
          "model_module_version": "1.5.0",
          "model_name": "HTMLModel",
          "state": {
            "_dom_classes": [],
            "_model_module": "@jupyter-widgets/controls",
            "_model_module_version": "1.5.0",
            "_model_name": "HTMLModel",
            "_view_count": null,
            "_view_module": "@jupyter-widgets/controls",
            "_view_module_version": "1.5.0",
            "_view_name": "HTMLView",
            "description": "",
            "description_tooltip": null,
            "layout": "IPY_MODEL_21e8028f81ed467e9dcc3e882ac7d0c0",
            "placeholder": "​",
            "style": "IPY_MODEL_f22d302853bb42bba4989d8ed90fe2ff",
            "value": " 28951/28951 [00:00&lt;00:00, 36840.96it/s]"
          }
        },
        "c2b53dedd79d447c8209b4f33aacbf5b": {
          "model_module": "@jupyter-widgets/base",
          "model_module_version": "1.2.0",
          "model_name": "LayoutModel",
          "state": {
            "_model_module": "@jupyter-widgets/base",
            "_model_module_version": "1.2.0",
            "_model_name": "LayoutModel",
            "_view_count": null,
            "_view_module": "@jupyter-widgets/base",
            "_view_module_version": "1.2.0",
            "_view_name": "LayoutView",
            "align_content": null,
            "align_items": null,
            "align_self": null,
            "border": null,
            "bottom": null,
            "display": null,
            "flex": null,
            "flex_flow": null,
            "grid_area": null,
            "grid_auto_columns": null,
            "grid_auto_flow": null,
            "grid_auto_rows": null,
            "grid_column": null,
            "grid_gap": null,
            "grid_row": null,
            "grid_template_areas": null,
            "grid_template_columns": null,
            "grid_template_rows": null,
            "height": null,
            "justify_content": null,
            "justify_items": null,
            "left": null,
            "margin": null,
            "max_height": null,
            "max_width": null,
            "min_height": null,
            "min_width": null,
            "object_fit": null,
            "object_position": null,
            "order": null,
            "overflow": null,
            "overflow_x": null,
            "overflow_y": null,
            "padding": null,
            "right": null,
            "top": null,
            "visibility": null,
            "width": null
          }
        },
        "c493c9c3941a4f4b8dd7e07c34d9da01": {
          "model_module": "@jupyter-widgets/controls",
          "model_module_version": "1.5.0",
          "model_name": "HBoxModel",
          "state": {
            "_dom_classes": [],
            "_model_module": "@jupyter-widgets/controls",
            "_model_module_version": "1.5.0",
            "_model_name": "HBoxModel",
            "_view_count": null,
            "_view_module": "@jupyter-widgets/controls",
            "_view_module_version": "1.5.0",
            "_view_name": "HBoxView",
            "box_style": "",
            "children": [
              "IPY_MODEL_6627df3a74c14848905805f88e3e560b",
              "IPY_MODEL_c5313e43e8e4470fb2321907374bbf1b",
              "IPY_MODEL_272ef324f962435db65e4c55b975fa2d"
            ],
            "layout": "IPY_MODEL_409142dd6fdd4d738b1e1fbc78dd5aa9"
          }
        },
        "c5313e43e8e4470fb2321907374bbf1b": {
          "model_module": "@jupyter-widgets/controls",
          "model_module_version": "1.5.0",
          "model_name": "FloatProgressModel",
          "state": {
            "_dom_classes": [],
            "_model_module": "@jupyter-widgets/controls",
            "_model_module_version": "1.5.0",
            "_model_name": "FloatProgressModel",
            "_view_count": null,
            "_view_module": "@jupyter-widgets/controls",
            "_view_module_version": "1.5.0",
            "_view_name": "ProgressView",
            "bar_style": "success",
            "description": "",
            "description_tooltip": null,
            "layout": "IPY_MODEL_8611c2ee2b7f4e00a17d0486974d283f",
            "max": 610,
            "min": 0,
            "orientation": "horizontal",
            "style": "IPY_MODEL_d8d02506d6634a9ca6100bd3925198e4",
            "value": 610
          }
        },
        "c542169221e04446b40fbd493a4d95f0": {
          "model_module": "@jupyter-widgets/controls",
          "model_module_version": "1.5.0",
          "model_name": "HTMLModel",
          "state": {
            "_dom_classes": [],
            "_model_module": "@jupyter-widgets/controls",
            "_model_module_version": "1.5.0",
            "_model_name": "HTMLModel",
            "_view_count": null,
            "_view_module": "@jupyter-widgets/controls",
            "_view_module_version": "1.5.0",
            "_view_name": "HTMLView",
            "description": "",
            "description_tooltip": null,
            "layout": "IPY_MODEL_b910fc6f52ee408fbb9c57cdbbcafbe3",
            "placeholder": "​",
            "style": "IPY_MODEL_ad83567ecad545128596a19598bc51b8",
            "value": "Ranking: 100%"
          }
        },
        "c997de9c87b34f74bdb9e98a5f12a537": {
          "model_module": "@jupyter-widgets/base",
          "model_module_version": "1.2.0",
          "model_name": "LayoutModel",
          "state": {
            "_model_module": "@jupyter-widgets/base",
            "_model_module_version": "1.2.0",
            "_model_name": "LayoutModel",
            "_view_count": null,
            "_view_module": "@jupyter-widgets/base",
            "_view_module_version": "1.2.0",
            "_view_name": "LayoutView",
            "align_content": null,
            "align_items": null,
            "align_self": null,
            "border": null,
            "bottom": null,
            "display": null,
            "flex": null,
            "flex_flow": null,
            "grid_area": null,
            "grid_auto_columns": null,
            "grid_auto_flow": null,
            "grid_auto_rows": null,
            "grid_column": null,
            "grid_gap": null,
            "grid_row": null,
            "grid_template_areas": null,
            "grid_template_columns": null,
            "grid_template_rows": null,
            "height": null,
            "justify_content": null,
            "justify_items": null,
            "left": null,
            "margin": null,
            "max_height": null,
            "max_width": null,
            "min_height": null,
            "min_width": null,
            "object_fit": null,
            "object_position": null,
            "order": null,
            "overflow": null,
            "overflow_x": null,
            "overflow_y": null,
            "padding": null,
            "right": null,
            "top": null,
            "visibility": null,
            "width": null
          }
        },
        "cd3bc9f0e01741c885c26829eb262650": {
          "model_module": "@jupyter-widgets/controls",
          "model_module_version": "1.5.0",
          "model_name": "HBoxModel",
          "state": {
            "_dom_classes": [],
            "_model_module": "@jupyter-widgets/controls",
            "_model_module_version": "1.5.0",
            "_model_name": "HBoxModel",
            "_view_count": null,
            "_view_module": "@jupyter-widgets/controls",
            "_view_module_version": "1.5.0",
            "_view_name": "HBoxView",
            "box_style": "",
            "children": [
              "IPY_MODEL_9a80ea1d22c1485988323d588007cc9e",
              "IPY_MODEL_b394883d3f0f4cc5bea5cf06bcd08edb",
              "IPY_MODEL_c1b285d88b5f40f9985ada6792c9f038"
            ],
            "layout": "IPY_MODEL_5e89206dff0d4252bdd3bf0af933b383"
          }
        },
        "d07109fa144a4e7a96fb21c6b9943729": {
          "model_module": "@jupyter-widgets/controls",
          "model_module_version": "1.5.0",
          "model_name": "DescriptionStyleModel",
          "state": {
            "_model_module": "@jupyter-widgets/controls",
            "_model_module_version": "1.5.0",
            "_model_name": "DescriptionStyleModel",
            "_view_count": null,
            "_view_module": "@jupyter-widgets/base",
            "_view_module_version": "1.2.0",
            "_view_name": "StyleView",
            "description_width": ""
          }
        },
        "d586ad55f60e4948bf4fa0a9474c7a95": {
          "model_module": "@jupyter-widgets/controls",
          "model_module_version": "1.5.0",
          "model_name": "DescriptionStyleModel",
          "state": {
            "_model_module": "@jupyter-widgets/controls",
            "_model_module_version": "1.5.0",
            "_model_name": "DescriptionStyleModel",
            "_view_count": null,
            "_view_module": "@jupyter-widgets/base",
            "_view_module_version": "1.2.0",
            "_view_name": "StyleView",
            "description_width": ""
          }
        },
        "d8d02506d6634a9ca6100bd3925198e4": {
          "model_module": "@jupyter-widgets/controls",
          "model_module_version": "1.5.0",
          "model_name": "ProgressStyleModel",
          "state": {
            "_model_module": "@jupyter-widgets/controls",
            "_model_module_version": "1.5.0",
            "_model_name": "ProgressStyleModel",
            "_view_count": null,
            "_view_module": "@jupyter-widgets/base",
            "_view_module_version": "1.2.0",
            "_view_name": "StyleView",
            "bar_color": null,
            "description_width": ""
          }
        },
        "dae380f0b57e42598b47d823eadb6faf": {
          "model_module": "@jupyter-widgets/base",
          "model_module_version": "1.2.0",
          "model_name": "LayoutModel",
          "state": {
            "_model_module": "@jupyter-widgets/base",
            "_model_module_version": "1.2.0",
            "_model_name": "LayoutModel",
            "_view_count": null,
            "_view_module": "@jupyter-widgets/base",
            "_view_module_version": "1.2.0",
            "_view_name": "LayoutView",
            "align_content": null,
            "align_items": null,
            "align_self": null,
            "border": null,
            "bottom": null,
            "display": null,
            "flex": null,
            "flex_flow": null,
            "grid_area": null,
            "grid_auto_columns": null,
            "grid_auto_flow": null,
            "grid_auto_rows": null,
            "grid_column": null,
            "grid_gap": null,
            "grid_row": null,
            "grid_template_areas": null,
            "grid_template_columns": null,
            "grid_template_rows": null,
            "height": null,
            "justify_content": null,
            "justify_items": null,
            "left": null,
            "margin": null,
            "max_height": null,
            "max_width": null,
            "min_height": null,
            "min_width": null,
            "object_fit": null,
            "object_position": null,
            "order": null,
            "overflow": null,
            "overflow_x": null,
            "overflow_y": null,
            "padding": null,
            "right": null,
            "top": null,
            "visibility": null,
            "width": null
          }
        },
        "df32b666df5b4c3fa353d62761965767": {
          "model_module": "@jupyter-widgets/controls",
          "model_module_version": "1.5.0",
          "model_name": "DescriptionStyleModel",
          "state": {
            "_model_module": "@jupyter-widgets/controls",
            "_model_module_version": "1.5.0",
            "_model_name": "DescriptionStyleModel",
            "_view_count": null,
            "_view_module": "@jupyter-widgets/base",
            "_view_module_version": "1.2.0",
            "_view_name": "StyleView",
            "description_width": ""
          }
        },
        "e138fd6b3d9c4a7f8fc33592ee47f7a7": {
          "model_module": "@jupyter-widgets/controls",
          "model_module_version": "1.5.0",
          "model_name": "FloatProgressModel",
          "state": {
            "_dom_classes": [],
            "_model_module": "@jupyter-widgets/controls",
            "_model_module_version": "1.5.0",
            "_model_name": "FloatProgressModel",
            "_view_count": null,
            "_view_module": "@jupyter-widgets/controls",
            "_view_module_version": "1.5.0",
            "_view_name": "ProgressView",
            "bar_style": "success",
            "description": "",
            "description_tooltip": null,
            "layout": "IPY_MODEL_e1fe0085336544d3aa1dd47ae09fa839",
            "max": 28951,
            "min": 0,
            "orientation": "horizontal",
            "style": "IPY_MODEL_759b604ce7a844efba68004455f933e3",
            "value": 28951
          }
        },
        "e1fe0085336544d3aa1dd47ae09fa839": {
          "model_module": "@jupyter-widgets/base",
          "model_module_version": "1.2.0",
          "model_name": "LayoutModel",
          "state": {
            "_model_module": "@jupyter-widgets/base",
            "_model_module_version": "1.2.0",
            "_model_name": "LayoutModel",
            "_view_count": null,
            "_view_module": "@jupyter-widgets/base",
            "_view_module_version": "1.2.0",
            "_view_name": "LayoutView",
            "align_content": null,
            "align_items": null,
            "align_self": null,
            "border": null,
            "bottom": null,
            "display": null,
            "flex": null,
            "flex_flow": null,
            "grid_area": null,
            "grid_auto_columns": null,
            "grid_auto_flow": null,
            "grid_auto_rows": null,
            "grid_column": null,
            "grid_gap": null,
            "grid_row": null,
            "grid_template_areas": null,
            "grid_template_columns": null,
            "grid_template_rows": null,
            "height": null,
            "justify_content": null,
            "justify_items": null,
            "left": null,
            "margin": null,
            "max_height": null,
            "max_width": null,
            "min_height": null,
            "min_width": null,
            "object_fit": null,
            "object_position": null,
            "order": null,
            "overflow": null,
            "overflow_x": null,
            "overflow_y": null,
            "padding": null,
            "right": null,
            "top": null,
            "visibility": null,
            "width": null
          }
        },
        "e2856676bd8f495a89d4d5c521d7e90e": {
          "model_module": "@jupyter-widgets/base",
          "model_module_version": "1.2.0",
          "model_name": "LayoutModel",
          "state": {
            "_model_module": "@jupyter-widgets/base",
            "_model_module_version": "1.2.0",
            "_model_name": "LayoutModel",
            "_view_count": null,
            "_view_module": "@jupyter-widgets/base",
            "_view_module_version": "1.2.0",
            "_view_name": "LayoutView",
            "align_content": null,
            "align_items": null,
            "align_self": null,
            "border": null,
            "bottom": null,
            "display": null,
            "flex": null,
            "flex_flow": null,
            "grid_area": null,
            "grid_auto_columns": null,
            "grid_auto_flow": null,
            "grid_auto_rows": null,
            "grid_column": null,
            "grid_gap": null,
            "grid_row": null,
            "grid_template_areas": null,
            "grid_template_columns": null,
            "grid_template_rows": null,
            "height": null,
            "justify_content": null,
            "justify_items": null,
            "left": null,
            "margin": null,
            "max_height": null,
            "max_width": null,
            "min_height": null,
            "min_width": null,
            "object_fit": null,
            "object_position": null,
            "order": null,
            "overflow": null,
            "overflow_x": null,
            "overflow_y": null,
            "padding": null,
            "right": null,
            "top": null,
            "visibility": null,
            "width": null
          }
        },
        "e4faddaebbab41678969c3984b3f62ae": {
          "model_module": "@jupyter-widgets/controls",
          "model_module_version": "1.5.0",
          "model_name": "DescriptionStyleModel",
          "state": {
            "_model_module": "@jupyter-widgets/controls",
            "_model_module_version": "1.5.0",
            "_model_name": "DescriptionStyleModel",
            "_view_count": null,
            "_view_module": "@jupyter-widgets/base",
            "_view_module_version": "1.2.0",
            "_view_name": "StyleView",
            "description_width": ""
          }
        },
        "e5d2c272ecf948cf89e5345637a073c1": {
          "model_module": "@jupyter-widgets/base",
          "model_module_version": "1.2.0",
          "model_name": "LayoutModel",
          "state": {
            "_model_module": "@jupyter-widgets/base",
            "_model_module_version": "1.2.0",
            "_model_name": "LayoutModel",
            "_view_count": null,
            "_view_module": "@jupyter-widgets/base",
            "_view_module_version": "1.2.0",
            "_view_name": "LayoutView",
            "align_content": null,
            "align_items": null,
            "align_self": null,
            "border": null,
            "bottom": null,
            "display": null,
            "flex": null,
            "flex_flow": null,
            "grid_area": null,
            "grid_auto_columns": null,
            "grid_auto_flow": null,
            "grid_auto_rows": null,
            "grid_column": null,
            "grid_gap": null,
            "grid_row": null,
            "grid_template_areas": null,
            "grid_template_columns": null,
            "grid_template_rows": null,
            "height": null,
            "justify_content": null,
            "justify_items": null,
            "left": null,
            "margin": null,
            "max_height": null,
            "max_width": null,
            "min_height": null,
            "min_width": null,
            "object_fit": null,
            "object_position": null,
            "order": null,
            "overflow": null,
            "overflow_x": null,
            "overflow_y": null,
            "padding": null,
            "right": null,
            "top": null,
            "visibility": null,
            "width": null
          }
        },
        "e65f0fc5945f4154a0268b0bdbe5022e": {
          "model_module": "@jupyter-widgets/controls",
          "model_module_version": "1.5.0",
          "model_name": "DescriptionStyleModel",
          "state": {
            "_model_module": "@jupyter-widgets/controls",
            "_model_module_version": "1.5.0",
            "_model_name": "DescriptionStyleModel",
            "_view_count": null,
            "_view_module": "@jupyter-widgets/base",
            "_view_module_version": "1.2.0",
            "_view_name": "StyleView",
            "description_width": ""
          }
        },
        "e78ffb977ca2436f85fdb5f200b47e41": {
          "model_module": "@jupyter-widgets/controls",
          "model_module_version": "1.5.0",
          "model_name": "HBoxModel",
          "state": {
            "_dom_classes": [],
            "_model_module": "@jupyter-widgets/controls",
            "_model_module_version": "1.5.0",
            "_model_name": "HBoxModel",
            "_view_count": null,
            "_view_module": "@jupyter-widgets/controls",
            "_view_module_version": "1.5.0",
            "_view_name": "HBoxView",
            "box_style": "",
            "children": [
              "IPY_MODEL_fcbafd2eb41745d68ed1b45fef1ec62a",
              "IPY_MODEL_11e5baa53b124bf7b361577ca6dadb8c",
              "IPY_MODEL_4635ce19be584e10a479074ed45468b7"
            ],
            "layout": "IPY_MODEL_dae380f0b57e42598b47d823eadb6faf"
          }
        },
        "e86c844a7dc148f9986039485ff82abd": {
          "model_module": "@jupyter-widgets/base",
          "model_module_version": "1.2.0",
          "model_name": "LayoutModel",
          "state": {
            "_model_module": "@jupyter-widgets/base",
            "_model_module_version": "1.2.0",
            "_model_name": "LayoutModel",
            "_view_count": null,
            "_view_module": "@jupyter-widgets/base",
            "_view_module_version": "1.2.0",
            "_view_name": "LayoutView",
            "align_content": null,
            "align_items": null,
            "align_self": null,
            "border": null,
            "bottom": null,
            "display": null,
            "flex": null,
            "flex_flow": null,
            "grid_area": null,
            "grid_auto_columns": null,
            "grid_auto_flow": null,
            "grid_auto_rows": null,
            "grid_column": null,
            "grid_gap": null,
            "grid_row": null,
            "grid_template_areas": null,
            "grid_template_columns": null,
            "grid_template_rows": null,
            "height": null,
            "justify_content": null,
            "justify_items": null,
            "left": null,
            "margin": null,
            "max_height": null,
            "max_width": null,
            "min_height": null,
            "min_width": null,
            "object_fit": null,
            "object_position": null,
            "order": null,
            "overflow": null,
            "overflow_x": null,
            "overflow_y": null,
            "padding": null,
            "right": null,
            "top": null,
            "visibility": null,
            "width": null
          }
        },
        "e880ec0ff76041eeaa3e5a142be52f8c": {
          "model_module": "@jupyter-widgets/controls",
          "model_module_version": "1.5.0",
          "model_name": "DescriptionStyleModel",
          "state": {
            "_model_module": "@jupyter-widgets/controls",
            "_model_module_version": "1.5.0",
            "_model_name": "DescriptionStyleModel",
            "_view_count": null,
            "_view_module": "@jupyter-widgets/base",
            "_view_module_version": "1.2.0",
            "_view_name": "StyleView",
            "description_width": ""
          }
        },
        "ebef7112c312456abccf4fe309b5e4f0": {
          "model_module": "@jupyter-widgets/controls",
          "model_module_version": "1.5.0",
          "model_name": "HBoxModel",
          "state": {
            "_dom_classes": [],
            "_model_module": "@jupyter-widgets/controls",
            "_model_module_version": "1.5.0",
            "_model_name": "HBoxModel",
            "_view_count": null,
            "_view_module": "@jupyter-widgets/controls",
            "_view_module_version": "1.5.0",
            "_view_name": "HBoxView",
            "box_style": "",
            "children": [
              "IPY_MODEL_c542169221e04446b40fbd493a4d95f0",
              "IPY_MODEL_07d1c9ae6e844bc0aca56ce8225c0f46",
              "IPY_MODEL_ee92a1568d2c4785abdd7a30005d5f1f"
            ],
            "layout": "IPY_MODEL_f913555ccbf746818ee35007e663c6f1"
          }
        },
        "ee92a1568d2c4785abdd7a30005d5f1f": {
          "model_module": "@jupyter-widgets/controls",
          "model_module_version": "1.5.0",
          "model_name": "HTMLModel",
          "state": {
            "_dom_classes": [],
            "_model_module": "@jupyter-widgets/controls",
            "_model_module_version": "1.5.0",
            "_model_name": "HTMLModel",
            "_view_count": null,
            "_view_module": "@jupyter-widgets/controls",
            "_view_module_version": "1.5.0",
            "_view_name": "HTMLView",
            "description": "",
            "description_tooltip": null,
            "layout": "IPY_MODEL_4314537ab4824ac9a0327ceabe6f04a6",
            "placeholder": "​",
            "style": "IPY_MODEL_d07109fa144a4e7a96fb21c6b9943729",
            "value": " 610/610 [00:02&lt;00:00, 297.81it/s]"
          }
        },
        "f22d302853bb42bba4989d8ed90fe2ff": {
          "model_module": "@jupyter-widgets/controls",
          "model_module_version": "1.5.0",
          "model_name": "DescriptionStyleModel",
          "state": {
            "_model_module": "@jupyter-widgets/controls",
            "_model_module_version": "1.5.0",
            "_model_name": "DescriptionStyleModel",
            "_view_count": null,
            "_view_module": "@jupyter-widgets/base",
            "_view_module_version": "1.2.0",
            "_view_name": "StyleView",
            "description_width": ""
          }
        },
        "f913555ccbf746818ee35007e663c6f1": {
          "model_module": "@jupyter-widgets/base",
          "model_module_version": "1.2.0",
          "model_name": "LayoutModel",
          "state": {
            "_model_module": "@jupyter-widgets/base",
            "_model_module_version": "1.2.0",
            "_model_name": "LayoutModel",
            "_view_count": null,
            "_view_module": "@jupyter-widgets/base",
            "_view_module_version": "1.2.0",
            "_view_name": "LayoutView",
            "align_content": null,
            "align_items": null,
            "align_self": null,
            "border": null,
            "bottom": null,
            "display": null,
            "flex": null,
            "flex_flow": null,
            "grid_area": null,
            "grid_auto_columns": null,
            "grid_auto_flow": null,
            "grid_auto_rows": null,
            "grid_column": null,
            "grid_gap": null,
            "grid_row": null,
            "grid_template_areas": null,
            "grid_template_columns": null,
            "grid_template_rows": null,
            "height": null,
            "justify_content": null,
            "justify_items": null,
            "left": null,
            "margin": null,
            "max_height": null,
            "max_width": null,
            "min_height": null,
            "min_width": null,
            "object_fit": null,
            "object_position": null,
            "order": null,
            "overflow": null,
            "overflow_x": null,
            "overflow_y": null,
            "padding": null,
            "right": null,
            "top": null,
            "visibility": null,
            "width": null
          }
        },
        "fcbafd2eb41745d68ed1b45fef1ec62a": {
          "model_module": "@jupyter-widgets/controls",
          "model_module_version": "1.5.0",
          "model_name": "HTMLModel",
          "state": {
            "_dom_classes": [],
            "_model_module": "@jupyter-widgets/controls",
            "_model_module_version": "1.5.0",
            "_model_name": "HTMLModel",
            "_view_count": null,
            "_view_module": "@jupyter-widgets/controls",
            "_view_module_version": "1.5.0",
            "_view_name": "HTMLView",
            "description": "",
            "description_tooltip": null,
            "layout": "IPY_MODEL_e86c844a7dc148f9986039485ff82abd",
            "placeholder": "​",
            "style": "IPY_MODEL_affd8bbd4f624aeb82db23854c7b8b5c",
            "value": "Ranking: 100%"
          }
        },
        "fd13ac105e0d42349da5cd2829de3acd": {
          "model_module": "@jupyter-widgets/controls",
          "model_module_version": "1.5.0",
          "model_name": "DescriptionStyleModel",
          "state": {
            "_model_module": "@jupyter-widgets/controls",
            "_model_module_version": "1.5.0",
            "_model_name": "DescriptionStyleModel",
            "_view_count": null,
            "_view_module": "@jupyter-widgets/base",
            "_view_module_version": "1.2.0",
            "_view_name": "StyleView",
            "description_width": ""
          }
        },
        "ff8df50971994954ad19e711ed4d9818": {
          "model_module": "@jupyter-widgets/controls",
          "model_module_version": "1.5.0",
          "model_name": "DescriptionStyleModel",
          "state": {
            "_model_module": "@jupyter-widgets/controls",
            "_model_module_version": "1.5.0",
            "_model_name": "DescriptionStyleModel",
            "_view_count": null,
            "_view_module": "@jupyter-widgets/base",
            "_view_module_version": "1.2.0",
            "_view_name": "StyleView",
            "description_width": ""
          }
        }
      }
    }
  },
  "nbformat": 4,
  "nbformat_minor": 0
}
